{
  "nbformat": 4,
  "nbformat_minor": 0,
  "metadata": {
    "kernelspec": {
      "display_name": "Psych 81.09",
      "language": "python",
      "name": "psych81.09"
    },
    "language_info": {
      "codemirror_mode": {
        "name": "ipython",
        "version": 3
      },
      "file_extension": ".py",
      "mimetype": "text/x-python",
      "name": "python",
      "nbconvert_exporter": "python",
      "pygments_lexer": "ipython3",
      "version": "3.6.8"
    },
    "colab": {
      "name": "intro_to_python.ipynb",
      "provenance": [],
      "include_colab_link": true
    }
  },
  "cells": [
    {
      "cell_type": "markdown",
      "metadata": {
        "id": "view-in-github",
        "colab_type": "text"
      },
      "source": [
        "<a href=\"https://colab.research.google.com/github/ContextLab/cs-for-psych/blob/master/slides/module_1/intro_to_python.ipynb\" target=\"_parent\"><img src=\"https://colab.research.google.com/assets/colab-badge.svg\" alt=\"Open In Colab\"/></a>"
      ]
    },
    {
      "cell_type": "markdown",
      "metadata": {
        "id": "FQ_j-Ru69tiX",
        "colab_type": "text"
      },
      "source": [
        "# Overview\n",
        "\n",
        "This notebook provides a very high level overview of what it means to \"write a computer program,\" and some specific examples of how to write a program in Python (using Jupyter notebooks).  If you are already familiar with Python and Jupyter notebooks, you might be interested in [this video](https://youtu.be/Gin8_AITmS0) summarizing some tips and tricks for writing good, clean, effective code.\n",
        "\n",
        "Note: this tutorial is intended to introduce you to the basics-- not to provide a complete, or even fully self-contained, overview of Python programming.  If this material is new to you, then after running through this notebook, I suggest that you work through a beginner Python tutorial like [this one](https://gitlab.erc.monash.edu.au/andrease/Python4Maths/tree/master/Intro-to-Python).  We'll also cover this material in class, but the best way to learn how to program is through repeated and varied exposure.\n",
        "\n",
        "### A note on how to approach learning to code\n",
        "\n",
        "Like any new skill, learning to code can be daunting.  If you've never coded or taken courses on logic before, you might be about to embark on a journey towards an entirely new way of thinking and approaching problem solving.  I've found four general principles to be useful:\n",
        "\n",
        "1.  The first time you go through something, don't expect to understand everything (or even anything) perfectly.  Sometimes going through a new lesson or example might seem like encountering a foreign language (hint: maybe because it *is*!).  Give yourself permission to relax and to *not* understand.  Not \"getting it\" the first time doesn't reflect on your intelligence or potential.\n",
        "\n",
        "2.  If you're feeling lost, it's important to notice your points of confusion (even if you don't immediately correct or resolve them).  One of the most powerful ways of approaching coding is to break highly complex tasks down into successively simpler sub-tasks.  You don't always need to understand the full scope of the problem you're working on-- you just need to understand enough to break off a tiny piece of the next step in the puzzle.  By the same token, approach *learning* as a problem solving journey.  Try to take stock of what you're not understanding, and carefully separate the material into \"things you know (sufficiently well)\" and \"things you don't know\".  Use what you know to help further sub-divide the unknowns.  Your goal should be to work towards an ability to precisely formulate questions.  That will help you resolve your understanding (either by searching for the answer online or by asking others for help).  Particularly when you're starting out, it's also OK not to know how to break your questions down into smaller chunks.  You'll pick it up as you go.\n",
        "\n",
        "3.  The best predictor of successfully learning to code is *persistence*.  Simply allowing yourself to be exposed to code (by reading and writing it, and by going through tutorials, etc.) will improve your ability to understand, even if those improvements aren't immediately obvious or noticeable to you.  One way to view the learning process is as a way of building up your *fluency* (through repeated exposure) in addition to adding the basic building blocks and vocabulary to your skill set.  Even if you're not adding new building blocks, simply gaining more exposure will improve your fluency.  Over time this will make it easier for you to add new building blocks.  Each new step you take in the learning process will allow you to gain a deeper understanding of previously learned material, and will help you to learn new material that much faster.\n",
        "\n",
        "4.  The best way to learn to code is to *write code*.  When you're reading through a new tutorial or about a new idea, keep a Jupyter notebook open and code as you learn.  And once you've learned about something new, try to apply it to a question or problem you're excited about.  The potential applications of any given idea are nearly limitless.  Allow yourself the freedom to get creative, make mistakes, break things, and try out new stuff!"
      ]
    },
    {
      "cell_type": "markdown",
      "metadata": {
        "id": "G_fJb2MONqkf",
        "colab_type": "text"
      },
      "source": [
        "# What does it mean to 'code'?\n",
        "\n",
        "Coding, or [computer programming](https://en.wikipedia.org/wiki/Computer_programming), is the process of developing a set of instructions for a computer to run, typically with the goal of accomplishing some task (e.g. carrying out one or more calculations).\n",
        "\n",
        "In this course we'll be writing code in [Python](https://en.wikipedia.org/wiki/Python_(programming_language)).  Python is considered a [high-level](https://en.wikipedia.org/wiki/High-level_programming_language) computer language.  This means that, as the programmer, you can often ignore the particulars of how specifically your inputted instructions are carried out by the computer.  Rather, those particulars are abstracted away.  Instead, you'll be describing at a \"higher\" (less detailed, more goal-oriented) level.  By contrast, [lower-level languages](https://en.wikipedia.org/wiki/Low-level_programming_language) such as [C](https://en.wikipedia.org/wiki/C_(programming_language)) require programmers to consider how different quantities are stored in the computer's [memory](https://en.wikipedia.org/wiki/Random-access_memory), and even lower-level languages such as [assembly code](https://en.wikipedia.org/wiki/Assembly_language) require programmers to make use of the specific set of instructions available on the [CPU](https://en.wikipedia.org/wiki/Central_processing_unit).\n",
        "\n",
        "## How to think about coding\n",
        "\n",
        "In Python, as with most computer languages, there are only a few types of commands and instructions that you need to learn about.  In fact, you'll learn about most of them in this notebook.  Compared with human languages, which typically have many words and complex grammars, computer languages are relatively simple (with respect to their vocabularies and grammars).  What makes Python (and other computer languages) so powerful is [compositionality](https://en.wikipedia.org/wiki/Principle_of_compositionality): the idea that you can build increasingly complicated functionality out of simpler building blocks.  Everything computers do-- your operating system, the Internet, self-driving cars, computing the millionth digit of pi, etc.-- are all reducible to the same basic sets of instructions.  Just like how human language words may be recombined and built-upon to communicate an infinite variety of ideas, the elements of computer languages may be recombined in similarly flexible and extensible ways.  Whereas the goal of human language is to communicate ideas to other humans, the goal of computer language is to describe a set of calculations for the CPU to carry out in order to accomplish one or more tasks.\n",
        "\n",
        "Once you learn the basic set of instructions, the entire \"trick\" of coding is to figure out how to string them together into meaningful code that carries out the desired tasks.  Analogous to how there are many ways of \"saying the same thing\" in human langues, there are often many ways of writing code that carries out the same set of computations.  And just like there are more (or less) efficient ways of conveying information to other people using human language, there are often more (or less) efficient ways of composing computer instructions.\n",
        "\n",
        "In the remainder of this notebook you'll learn about the major \"words\" and \"building blocks\" of Python programs."
      ]
    },
    {
      "cell_type": "markdown",
      "metadata": {
        "id": "Eq2Y6UyH9tiY",
        "colab_type": "text"
      },
      "source": [
        "# Using Python like a calculator\n",
        "\n",
        "In the [Introduction and Overview notebook](https://github.com/ContextLab/cs-for-psych/blob/master/slides/module_1/introduction_and_overview.ipynb), we conceptualized thinking about Python like a calculator.  For example, you can type in an equation, and when you \"run\" that line of code (`shift + return`) the answer is printed to the console window.  Explore which operators (addition, subtraction, etc.) are supported and see if you can find some that aren't!  Also try to get a sense of the [order of operations](https://en.wikipedia.org/wiki/Order_of_operations) that determines which quantities are grouped and what order they are evaluated in."
      ]
    },
    {
      "cell_type": "code",
      "metadata": {
        "id": "OoVt-o5z9tiZ",
        "colab_type": "code",
        "outputId": "9947f800-60ee-4391-e424-054b0c480418",
        "colab": {
          "base_uri": "https://localhost:8080/",
          "height": 34
        }
      },
      "source": [
        "3 * 5"
      ],
      "execution_count": 0,
      "outputs": [
        {
          "output_type": "execute_result",
          "data": {
            "text/plain": [
              "15"
            ]
          },
          "metadata": {
            "tags": []
          },
          "execution_count": 1
        }
      ]
    },
    {
      "cell_type": "code",
      "metadata": {
        "id": "UtOmyc-F9tic",
        "colab_type": "code",
        "outputId": "63e14bbc-5e18-4ec8-9094-96019d2f88e6",
        "colab": {
          "base_uri": "https://localhost:8080/",
          "height": 34
        }
      },
      "source": [
        "(6 / 3 + 1) * (4 * 2 - 3)"
      ],
      "execution_count": 0,
      "outputs": [
        {
          "output_type": "execute_result",
          "data": {
            "text/plain": [
              "15.0"
            ]
          },
          "metadata": {
            "tags": []
          },
          "execution_count": 2
        }
      ]
    },
    {
      "cell_type": "markdown",
      "metadata": {
        "id": "Q3NX3-7q9tie",
        "colab_type": "text"
      },
      "source": [
        "## Weird stuff\n",
        "\n",
        "In its \"guts,\" Python represents all numbers in Base 2 (i.e. binary).  Occassionally representing Base 10 numbers in Base 2 can lead to seemingly strange behaviors.  One such example is shown in the next cell.  To think about: how or when might this matter?"
      ]
    },
    {
      "cell_type": "code",
      "metadata": {
        "id": "jG2_L8eT9tif",
        "colab_type": "code",
        "outputId": "3421bc03-747b-4fc2-bf09-47fda632b43a",
        "colab": {}
      },
      "source": [
        "0.3 - 0.2 - 0.1"
      ],
      "execution_count": 0,
      "outputs": [
        {
          "output_type": "execute_result",
          "data": {
            "text/plain": [
              "-2.7755575615628914e-17"
            ]
          },
          "metadata": {
            "tags": []
          },
          "execution_count": 44
        }
      ]
    },
    {
      "cell_type": "markdown",
      "metadata": {
        "id": "j7Ryt1L76uHr",
        "colab_type": "text"
      },
      "source": [
        "## Scripting\n",
        "\n",
        "Python is a [scripting language](https://en.wikipedia.org/wiki/Scripting_language).  This means that you could get the same functionality from a Python program by typing and running each line of the program in sequence, just like you might carry out a series of calculations by hand on a traditional calculator.  (By contrast, [compiled languages](https://en.wikipedia.org/wiki/Compiled_language) do not have this property.)\n",
        "\n",
        "It can be useful to think of Python code as a script (a set of commands that are executed in sequence, from top to bottom) when you're designing a program.  Your job is to come up with the set of calculations that, when carried out in sequence, accomplish your desired goal."
      ]
    },
    {
      "cell_type": "markdown",
      "metadata": {
        "id": "cdy7zbiF9tih",
        "colab_type": "text"
      },
      "source": [
        "# Variables\n",
        "A _variable_ is a named object-- i.e. a thing that Python knows has a particular value.  It's often useful to write code that incorporates named variables wherever possible (rather than hard-coding in specific numerical values).  This way of abstracting away the specific values from the set of operations you want to perform on those values allows you to use the same line of code to perform different functions.\n",
        "\n",
        "To define a variable, you use the _assignment_ operator, `=`.  The name of your variable goes on the left side of the assignment operator, and the value you want to assign to that variable goes on the right side.  Play around with the example below to see how it works.  For example, change the values of `x` and `y` and see how the answers change."
      ]
    },
    {
      "cell_type": "code",
      "metadata": {
        "id": "Dpe2rRcj9tih",
        "colab_type": "code",
        "outputId": "85f230dd-b127-4c80-e2ad-8982b65221a1",
        "colab": {}
      },
      "source": [
        "x = 3\n",
        "y = 4\n",
        "x + y"
      ],
      "execution_count": 0,
      "outputs": [
        {
          "output_type": "execute_result",
          "data": {
            "text/plain": [
              "7"
            ]
          },
          "metadata": {
            "tags": []
          },
          "execution_count": 7
        }
      ]
    },
    {
      "cell_type": "markdown",
      "metadata": {
        "id": "QB41xezY8VMe",
        "colab_type": "text"
      },
      "source": [
        "## What are variables used for?\n",
        "\n",
        "One way to think about variables is like the [memory function](https://en.wikipedia.org/wiki/Calculator#Memory) on a traditional calculator.  It gives you a way of storing some value that might be useful later on.  By naming that stored quantity you (as the programmer) can keep track of what that quantity means and how it's going to be used later on in your program."
      ]
    },
    {
      "cell_type": "markdown",
      "metadata": {
        "id": "bP0Q5C3p9tij",
        "colab_type": "text"
      },
      "source": [
        "# Operators\n",
        "\n",
        "In addition to the assignment operator (`=`), you have already been using several other operators in the code above:\n",
        "  - the addition operator (`+`)\n",
        "  - the multiplication operator (`*`)\n",
        "\n",
        "There are a number of other useful operators:\n",
        "  - the power operator (`**`) raises the value of the first thing to the power of the second thing\n",
        "  - the subtraction operator (`-`)\n",
        "  - the division operator (`/`)\n",
        "  \n",
        "## Logical operators\n",
        "\n",
        "We will find that it is often useful to know if a particular set of circumstances is true at a particular point in the course of running our computer program.  For example, maybe we would want to run a particular set of calculations in one scenario but a different set of calculations in another scenario.  _Logical_ operators are operators that work only on _Boolean_ variables-- i.e. variables that take on special values, `True` (or 1) and `False` (or 0).  Logical operators always yield either `True` or `False`:\n",
        "  - `or`: `a or b` is `True` if _either_ `a` is `True` _or_ if `b` is `True`, and `False` otherwise.\n",
        "  - `and`: `a and b` is `True` if both `a` is `True` _and_ `b` is `True`, and is `False` otherwise.\n",
        "  - `not`: `not a` is `True` if `a` is `False`, and is `False` if `a` is `True`.\n",
        "\n",
        "Logical operators play a very important role in computer programs.  One common use of logical operators is in determining whether (or when) a particular computer instruction will run.  Logical operators may also be combined to define complex tests.  For example, you might want to know if either `a` or `b` (but not `c`) are True:\n",
        "```\n",
        "d = (a or b) and (not c)\n",
        "```\n",
        "  \n",
        "## Equality operator\n",
        "Sometimes we want to know whether a particular variable has a specific value.  To do this, we use the _equality operator_, `==`:\n",
        "  - `a == b` is `True` if `a` has the same value as `b`, and is `False` otherwise.  One common use of the equality operator is in determining whether a particular condition has been satisfied.  For example, you might want to execute an instruction 10 times, with a counter (`i`) that keeps track of how many times the instruction has been executed.  You could include a check of whether `i == 10` to determine whether the program should execute the instruction again or not.\n",
        "\n",
        "## What are operators used for?\n",
        "\n",
        "Operators are how you get different quantities to \"interact\" so that you can compute with them.  For example, the addition operator takes two quantities (variables), adds them together, and gives you the resulting sum as a new (single) quantity.  You can assign this sum to a new variable so that you can use or refer to it later:\n",
        "```\n",
        "c = a + b\n",
        "```\n",
        "In this way, operators are the \"verbs\" of computer languages."
      ]
    },
    {
      "cell_type": "markdown",
      "metadata": {
        "id": "rr1ZXazX9tik",
        "colab_type": "text"
      },
      "source": [
        "# Comments and `print` statements\n",
        "Sometimes it's useful to write little notes to yourself (and other people who might want to read your code) to keep track of what the different parts of your code do.  There are two ways to add notes to your code:\n",
        "- You can create an \"inline comment\" by adding a '#' followed by the text of your comment.  \n",
        "- You can create a \"block comment\" by adding a set of triple quotes, followed by one or more lines of text, and then followed by a second set of of triple quotes.  You can use single quotes (') or double quotes (\") to denote a block comment, as long as you start and end your block comment with the same type of quote. \n",
        "\n",
        "The Python interpreter (i.e. the computing engine that turns your computer code into executed instructions) ignores all comments when it is running your code.\n",
        "\n",
        "You can also tell the interpreter to print out the value of something by using the `print` function, as illustrated below."
      ]
    },
    {
      "cell_type": "code",
      "metadata": {
        "id": "EfjYp_rb9tik",
        "colab_type": "code",
        "outputId": "ce8d5aab-c92d-4d69-f497-d8b8a0dcd6e9",
        "colab": {
          "base_uri": "https://localhost:8080/",
          "height": 51
        }
      },
      "source": [
        "'''\n",
        "This block of text is a block comment, enclosed in triple quotes.  The comment \n",
        "can span multiple lines. Anything written inside of a comment will be ignored by\n",
        "the computer when the program runs.\n",
        "'''\n",
        "\n",
        "pi = 3.14159265359 #ratio of a circle's circumference to its diameter\n",
        "\n",
        "r1 = 6 #radius of circle 1\n",
        "r2 = 8 #radius of circle 2\n",
        "\n",
        "#the ** operator means \"raise the value on the left to the power of the value of\n",
        "#the thing on the right\".  Notice how order of operations comes into effect.\n",
        "area1 = pi * r1 ** 2\n",
        "area2 = pi * r2 ** 2\n",
        "\n",
        "print(area1)\n",
        "print(area2)"
      ],
      "execution_count": 0,
      "outputs": [
        {
          "output_type": "stream",
          "text": [
            "113.09733552924\n",
            "201.06192982976\n"
          ],
          "name": "stdout"
        }
      ]
    },
    {
      "cell_type": "markdown",
      "metadata": {
        "id": "PmK3_PsO9tim",
        "colab_type": "text"
      },
      "source": [
        "# `if` statements\n",
        "\n",
        "Python contains a number of _keywords_ that allow you to control the flow of instructions that the computer executes.  One of the main keywords is the `if` statement.  It runs one or more lines of code only _if_ the quantity being evaluated is `True`:"
      ]
    },
    {
      "cell_type": "code",
      "metadata": {
        "id": "O1EILq6i9tin",
        "colab_type": "code",
        "colab": {}
      },
      "source": [
        "x = 3\n",
        "if x == 3: #notice the colon\n",
        "    print('Run this line') #all lines in the body of the if statement are indented"
      ],
      "execution_count": 0,
      "outputs": []
    },
    {
      "cell_type": "markdown",
      "metadata": {
        "id": "OA2P1pau9tio",
        "colab_type": "text"
      },
      "source": [
        "# `elif` and `else` statements\n",
        "Whereas the body (indented part) of an `if` statement will simply be skipped if the evaluated function passed to an `if` statement is `False`, you can also specify what to do under other possible circumstances:\n",
        "  - The `elif` statement comes right after an `if` statement.  It allows you to specify an alternative set of conditions.  You can use multiple `elif` statements in sequence; once any of them evaluate to `True` the body of that statement is run and the sequence is aborted (no other `elif` statements are tested).\n",
        "  - The `else` keyword comes after an `if` statement and (optionally) one or more `elif` statments.  The body of an `else` statement runs only if none of the preceeding `if` or `elif` statements ran."
      ]
    },
    {
      "cell_type": "code",
      "metadata": {
        "id": "tJqq7fFg9tip",
        "colab_type": "code",
        "outputId": "c4489db5-dd7f-406d-a41d-dff819c9bd6e",
        "colab": {
          "base_uri": "https://localhost:8080/",
          "height": 51
        }
      },
      "source": [
        "my_name = 'Jeremy Manning'\n",
        "if my_name == 'Jeremy Manning':\n",
        "    print('You are the course instructor.')\n",
        "    print('You are also a Dartmouth professor.')\n",
        "elif my_name == 'Phil Hanlon':\n",
        "    print('You are the current President of Dartmouth College.')\n",
        "elif my_name == 'Marie Curie':\n",
        "    print('You won two Nobel Prizes.  Also, you are dead.')\n",
        "else:\n",
        "    print('I don\\'t know you-- nice to meet you!') #note the \"escape character\" before the single quote"
      ],
      "execution_count": 0,
      "outputs": [
        {
          "output_type": "stream",
          "text": [
            "You are the course instructor.\n",
            "You are also a Dartmouth professor.\n"
          ],
          "name": "stdout"
        }
      ]
    },
    {
      "cell_type": "markdown",
      "metadata": {
        "id": "fYpgOiHk_-CG",
        "colab_type": "text"
      },
      "source": [
        "## What are `if`, `elif`, and `else` statements used for?\n",
        "\n",
        "These statements help to control the *flow* of a program.  Specifically, they allow you to specify the circumstances under which a particular instruction will be run (or skipped).  In the preceeding example, the value of the `my_name` variable will determine which statement gets printed out.  The other statements are skipped over.  Try experimenting!  For example, in the previous cell you might try:\n",
        "- changing the value of `my_name`\n",
        "- adding or removing instructions within the body of the `if`, `elif`, or `else` statements\n",
        "- adding additional `elif` conditions\n",
        "\n",
        "What do you think would happen if you replaced some of the `elif` statements with `if` statements?  Can you figure out what's different about how the program runs?"
      ]
    },
    {
      "cell_type": "markdown",
      "metadata": {
        "id": "B7FWLqqG9tir",
        "colab_type": "text"
      },
      "source": [
        "# Data types\n",
        "The computational elements that Python \"computes with\" can take on different types of values, called _data types_.  You've gotten to see a few different data types in above examples; here are some of the data types you'll likely encounter frequently:\n",
        "  - **Integers** (`int`): non-decimal scalar values (e.g., `-50`, `326`, `0`, `2500`, etc.)\n",
        "  - **Floating points numbers** (`float`): Real-valued scalars (e.g., `1.2345`, `-10.923`, `0.01`, `2.0`, etc.).\n",
        "  - **Boolean** (`bool`): `True` or `False`.\n",
        "  - **Strings** (`str`): sequences of characters or symbols, enclosed in single or double quotes (e.g., `'hello'`, `'This is a single quoted string!'`, `\"This is a double quoted string...\"`, etc.).\n",
        "  - **Lists** (`list`): an ordered set of objects (each element of the set can be of any data type, including a list!).  Example; `['apple', 7, '3', [6, 'twenty five', -65.4321], 7]`\n",
        "  - **Dictionary** (`dict`): an unordered set of named properties that each has an assigned value (each value can be of any data type, including a Dictionary!).  Example: `{'name': 'Introduction to Programming for Psychological Scientists', 'number': 32, 'department': 'PSYC', 'url: 'https://github.com/ContextLab/cs-for-psych'}`.\n",
        "  - **Null value** (`None`): a special data type that doesn't have any specified value.  Useful as a \"default\" value, e.g. before you have enough information to compute the answer.\n",
        "\n",
        "## Typecasting\n",
        "Many datatypes may be converted to many other datatype using typecasting.  For example, `float(3)` converts the integer `3` into a floating point decimal.  In the next cell, explore what happens when you try to convert between different data types.  You can use the `type` function to ask Python what the data type of a given entity is."
      ]
    },
    {
      "cell_type": "code",
      "metadata": {
        "id": "XTbA-7jX9tir",
        "colab_type": "code",
        "outputId": "3e952abe-4986-4d7c-fccd-6934a0e0e77e",
        "colab": {
          "base_uri": "https://localhost:8080/",
          "height": 51
        }
      },
      "source": [
        "print(type(3))\n",
        "list(str(float(int(3.4)))) #can you figure out what's happening here?"
      ],
      "execution_count": 0,
      "outputs": [
        {
          "output_type": "stream",
          "text": [
            "<class 'int'>\n"
          ],
          "name": "stdout"
        },
        {
          "output_type": "execute_result",
          "data": {
            "text/plain": [
              "['3', '.', '0']"
            ]
          },
          "metadata": {
            "tags": []
          },
          "execution_count": 4
        }
      ]
    },
    {
      "cell_type": "markdown",
      "metadata": {
        "id": "PLkhU0frBNTu",
        "colab_type": "text"
      },
      "source": [
        "## What are data types used for?\n",
        "\n",
        "The computer executing your code needs to know how to handle the values you input and the answers you \"get out\" of the different computations in your program.  Although Python will try to execute instructions without considering the data types of the variables, your code will crash (fail to run and output an error message) if Python can't figure out how to apply the given operators to the given data types.  As a programmer, it is often useful to consider what data types you are expecting different variables to take on at different points in your program.  For example:"
      ]
    },
    {
      "cell_type": "code",
      "metadata": {
        "id": "Vx2MC8ADCfa0",
        "colab_type": "code",
        "outputId": "940af7d3-d380-4c44-8fa4-0b7e22398b2d",
        "colab": {
          "base_uri": "https://localhost:8080/",
          "height": 34
        }
      },
      "source": [
        "x = 'This is a test'\n",
        "\n",
        "if type(x) == str:\n",
        "  print('x is a string')\n",
        "elif type(x) == int:\n",
        "  print('x is an integer')\n",
        "else:\n",
        "  print(\"I'm not sure how to handle x!\") #note use of double quotes allows us to have a single quote in the printed string (without an escape character)!"
      ],
      "execution_count": 0,
      "outputs": [
        {
          "output_type": "stream",
          "text": [
            "x is a string\n"
          ],
          "name": "stdout"
        }
      ]
    },
    {
      "cell_type": "markdown",
      "metadata": {
        "id": "3gqqvEMJ9tit",
        "colab_type": "text"
      },
      "source": [
        "# Functions\n",
        "\n",
        "We've already come across several functions, such as `print`, `type`, and various operators (e.g. `+`, `-`, `*`, `/`, `**`, etc.-- operators are a special type of function.).  A _function_ is a special data type that takes in zero or more _arguments_ (i.e. inputs) and produces zero or more actions or outputs.\n",
        "\n",
        "Sometimes a function is written so that its main purpose is to carry out some action, such as saving a file or generating a figure.  In other cases, the purpose of a function is to carry out some computation on the input arguments.  The syntax for defining a function is:\n",
        "```\n",
        "def <function_name>(arg1, arg2, ..., argN):\n",
        "  <instruction 1>\n",
        "  <instruction 2>\n",
        "  ...\n",
        "  <instruction M>\n",
        "  return <value>\n",
        "```\n",
        "\n",
        "Here the `def` command tells Python that we'll be defining a new function called `<function_name>`.  The function will take in a list of arguments (`arg1`, `arg2`, `arg3`, etc.), and carry out some operations.  Finally, the `return` command tells Python what the value of the function itself is, given the inputs that were passed to it.  If the `return` line is ommitted, then the function will evaluate to `None` by default.  The next cell contains an example function definition.\n",
        "\n",
        "Note that function definitions may be nested-- in other words, the instructions specified in the body of a function definition may themselves be function definitions!"
      ]
    },
    {
      "cell_type": "code",
      "metadata": {
        "id": "kBllRFxR9tiu",
        "colab_type": "code",
        "outputId": "0125ef20-099c-455c-a1cb-941a260ded45",
        "colab": {}
      },
      "source": [
        "def square(x):\n",
        "    return x**2\n",
        "\n",
        "print(square(1))\n",
        "print(square(2))\n",
        "print(square(3))"
      ],
      "execution_count": 0,
      "outputs": [
        {
          "output_type": "stream",
          "text": [
            "1\n",
            "4\n",
            "9\n"
          ],
          "name": "stdout"
        }
      ]
    },
    {
      "cell_type": "markdown",
      "metadata": {
        "id": "q12HajzJDAEf",
        "colab_type": "text"
      },
      "source": [
        "## What are functions used for?\n",
        "\n",
        "Functions are the computational construct that allows you to compose  sequences of instructions together in increasingly complex ways.  For example, suppose you wanted to implement the power operator (`**`) yourself, only knowing about the multiplication (`*`) operator.  You could do something like this:"
      ]
    },
    {
      "cell_type": "code",
      "metadata": {
        "id": "S1tyR3qcDldf",
        "colab_type": "code",
        "outputId": "57b764a5-275d-4b2d-aba6-32d93b36cc5b",
        "colab": {
          "base_uri": "https://localhost:8080/",
          "height": 368
        }
      },
      "source": [
        "def power(x, n):\n",
        "  '''\n",
        "  raise x to the nth power\n",
        "  '''\n",
        "  if not (type(n) == int):\n",
        "    raise(Exception(\"I don't know how to handle non-integer powers\")) #prints out an error message!\n",
        "\n",
        "  #why are each of these control flow statements needed?\n",
        "  if n == 0:\n",
        "    return 1\n",
        "  elif n < 0:\n",
        "    return 1 / power(x, -n)\n",
        "  else:\n",
        "    return x * power(x, n - 1) #this line is the main \"workhorse\" of the function-- why?\n",
        "\n",
        "#test out a few examples\n",
        "print(power(3, 2))\n",
        "print(power(5, 3))\n",
        "print(power(10, -6))\n",
        "print(power(4, 1.5)) #should give an error.  What happens if you run this line before the other print statements?"
      ],
      "execution_count": 0,
      "outputs": [
        {
          "output_type": "stream",
          "text": [
            "9\n",
            "125\n",
            "1e-06\n"
          ],
          "name": "stdout"
        },
        {
          "output_type": "error",
          "ename": "Exception",
          "evalue": "ignored",
          "traceback": [
            "\u001b[0;31m---------------------------------------------------------------------------\u001b[0m",
            "\u001b[0;31mException\u001b[0m                                 Traceback (most recent call last)",
            "\u001b[0;32m<ipython-input-10-984ca57d55b4>\u001b[0m in \u001b[0;36m<module>\u001b[0;34m()\u001b[0m\n\u001b[1;32m     18\u001b[0m \u001b[0mprint\u001b[0m\u001b[0;34m(\u001b[0m\u001b[0mpower\u001b[0m\u001b[0;34m(\u001b[0m\u001b[0;36m5\u001b[0m\u001b[0;34m,\u001b[0m \u001b[0;36m3\u001b[0m\u001b[0;34m)\u001b[0m\u001b[0;34m)\u001b[0m\u001b[0;34m\u001b[0m\u001b[0;34m\u001b[0m\u001b[0m\n\u001b[1;32m     19\u001b[0m \u001b[0mprint\u001b[0m\u001b[0;34m(\u001b[0m\u001b[0mpower\u001b[0m\u001b[0;34m(\u001b[0m\u001b[0;36m10\u001b[0m\u001b[0;34m,\u001b[0m \u001b[0;34m-\u001b[0m\u001b[0;36m6\u001b[0m\u001b[0;34m)\u001b[0m\u001b[0;34m)\u001b[0m\u001b[0;34m\u001b[0m\u001b[0;34m\u001b[0m\u001b[0m\n\u001b[0;32m---> 20\u001b[0;31m \u001b[0mprint\u001b[0m\u001b[0;34m(\u001b[0m\u001b[0mpower\u001b[0m\u001b[0;34m(\u001b[0m\u001b[0;36m4\u001b[0m\u001b[0;34m,\u001b[0m \u001b[0;36m1.5\u001b[0m\u001b[0;34m)\u001b[0m\u001b[0;34m)\u001b[0m \u001b[0;31m#should give an error.  What happens if you run this line before the other print statements?\u001b[0m\u001b[0;34m\u001b[0m\u001b[0;34m\u001b[0m\u001b[0m\n\u001b[0m",
            "\u001b[0;32m<ipython-input-10-984ca57d55b4>\u001b[0m in \u001b[0;36mpower\u001b[0;34m(x, n)\u001b[0m\n\u001b[1;32m      4\u001b[0m   '''\n\u001b[1;32m      5\u001b[0m   \u001b[0;32mif\u001b[0m \u001b[0;32mnot\u001b[0m \u001b[0;34m(\u001b[0m\u001b[0mtype\u001b[0m\u001b[0;34m(\u001b[0m\u001b[0mn\u001b[0m\u001b[0;34m)\u001b[0m \u001b[0;34m==\u001b[0m \u001b[0mint\u001b[0m\u001b[0;34m)\u001b[0m\u001b[0;34m:\u001b[0m\u001b[0;34m\u001b[0m\u001b[0;34m\u001b[0m\u001b[0m\n\u001b[0;32m----> 6\u001b[0;31m     \u001b[0;32mraise\u001b[0m\u001b[0;34m(\u001b[0m\u001b[0mException\u001b[0m\u001b[0;34m(\u001b[0m\u001b[0;34m\"I don't know how to handle non-integer powers\"\u001b[0m\u001b[0;34m)\u001b[0m\u001b[0;34m)\u001b[0m \u001b[0;31m#prints out an error message!\u001b[0m\u001b[0;34m\u001b[0m\u001b[0;34m\u001b[0m\u001b[0m\n\u001b[0m\u001b[1;32m      7\u001b[0m \u001b[0;34m\u001b[0m\u001b[0m\n\u001b[1;32m      8\u001b[0m   \u001b[0;31m#why are each of these control flow statements needed?\u001b[0m\u001b[0;34m\u001b[0m\u001b[0;34m\u001b[0m\u001b[0;34m\u001b[0m\u001b[0m\n",
            "\u001b[0;31mException\u001b[0m: I don't know how to handle non-integer powers"
          ]
        }
      ]
    },
    {
      "cell_type": "markdown",
      "metadata": {
        "id": "n0MfmVm1EuPR",
        "colab_type": "text"
      },
      "source": [
        "Notice how the `power` function calls *itself*!  Function definitions that include self-references are an example of a techinique called [recursion](https://en.wikipedia.org/wiki/Recursion_(computer_science)).  Creating a recursive function allowed us to write simpler code.\n",
        "\n",
        "Another example of compositionality in functions is given in the next cell:"
      ]
    },
    {
      "cell_type": "code",
      "metadata": {
        "id": "snvSRIsmF61F",
        "colab_type": "code",
        "outputId": "3835f638-ad91-480f-9dfa-b922eba35f87",
        "colab": {
          "base_uri": "https://localhost:8080/",
          "height": 51
        }
      },
      "source": [
        "def add_and_print(a, b):\n",
        "  c = a + b\n",
        "  print('The answer is: ', c)\n",
        "\n",
        "add_and_print(3.2, 1.4)\n",
        "add_and_print(-7, 12)"
      ],
      "execution_count": 0,
      "outputs": [
        {
          "output_type": "stream",
          "text": [
            "The answer is:  4.6\n",
            "The answer is:  5\n"
          ],
          "name": "stdout"
        }
      ]
    },
    {
      "cell_type": "markdown",
      "metadata": {
        "id": "Fuj4HMbUGg4D",
        "colab_type": "text"
      },
      "source": [
        "Here the `add_and_print` function includes calls to both the addition (+) operator and the `print` function.  Combinining these into a single function allows us to execute the same sequence of commands with only a small amount of additional code (e.g., rather than re-writing the full set of instructions multiple times).  In turn, the `add_and_print` function could be incorporated into one or more other functions that carried out additional tasks."
      ]
    },
    {
      "cell_type": "markdown",
      "metadata": {
        "id": "r-wlxcyW9tiw",
        "colab_type": "text"
      },
      "source": [
        "# Loops\n",
        "It's often useful to carry out a similar operation many times.  For example, you might want to read in each file in a folder and apply the same basic set of commands to each file's contents.  _Loops_ provide a way of writing efficient and flexible code that involves doing an operation several times.\n",
        "\n",
        "There are two types of loops in Python: `for` loops and `while` loops.\n",
        "\n",
        "## `for` loops\n",
        "This type of loop carries out one or more operations on each element in a given list.  The syntax is:\n",
        "```\n",
        "for i in <list of items>:\n",
        "  <instruction 1>\n",
        "  <instruction 2>\n",
        "  ...\n",
        "  <instruction N>\n",
        "```\n",
        "where `i` is, in turn, set to the value of each element of the given list, and the instructions defined in the body of the loop are carried out.  (Here `i` is just an example variable name; in practice any variable name may be used as a stand-in for `i`.)  In other words, the instructions in a `for` loop are carried out _for_ each value in the given list.\n",
        "\n",
        "## `while` loops\n",
        "This type of loop carries out one or more operations _while_ the given logic statement holds true.  The syntax is:\n",
        "```\n",
        "while <statement>:\n",
        "  <instruction 1>\n",
        "  <instruction 2>\n",
        "  ...\n",
        "  <instruction N>\n",
        "```\n",
        "where `<statement>` (i.e. the _loop condition_) is any Python expression that can be typecast to a `bool`.  These types of loops are useful when the number of repetitions needed to carry out a particular task is not known in advance.\n",
        "\n",
        "### Infinite loops\n",
        "It is important that the statement used to determine whether the `while` loop continues with another execution or terminates is modified within the body of the loop.  In other words, the parameters of the condition that is being tested for should be adjusted each time the loop executes another cycle.  If the loop condition never changes its value from `True`, the `while` loop will continue looping forever; this is called an `infinite loop`.  Infinite loops will freeze your computer program until they are manually halted by pressing `ctrl + c`.\n",
        "\n",
        "### Nested loops\n",
        "Both `for` and `while` loops may themselves contain other loops (of either type).  For example, nested loops can be useful when you want to carry out some sequence of operations on each _combination_ of a set of things."
      ]
    },
    {
      "cell_type": "code",
      "metadata": {
        "id": "cyLS3F9i9tiw",
        "colab_type": "code",
        "outputId": "82a166c7-d72f-4a57-9547-2411e013bfaf",
        "colab": {}
      },
      "source": [
        "for x in ['a', 'b', 'c', 'd']:\n",
        "    print(x)"
      ],
      "execution_count": 0,
      "outputs": [
        {
          "output_type": "stream",
          "text": [
            "a\n",
            "b\n",
            "c\n",
            "d\n"
          ],
          "name": "stdout"
        }
      ]
    },
    {
      "cell_type": "code",
      "metadata": {
        "id": "F1_c_QjR9tiy",
        "colab_type": "code",
        "outputId": "f043d6b5-c36b-4be4-f6a8-db01b3031ba0",
        "colab": {}
      },
      "source": [
        "i = 10\n",
        "while i > 0:\n",
        "    i = i - 1\n",
        "    print(i)"
      ],
      "execution_count": 0,
      "outputs": [
        {
          "output_type": "stream",
          "text": [
            "9\n",
            "8\n",
            "7\n",
            "6\n",
            "5\n",
            "4\n",
            "3\n",
            "2\n",
            "1\n",
            "0\n"
          ],
          "name": "stdout"
        }
      ]
    },
    {
      "cell_type": "markdown",
      "metadata": {
        "id": "nQ351feuHXoe",
        "colab_type": "text"
      },
      "source": [
        "## What are loops used for?\n",
        "\n",
        "Loops (like `if`, `elif`, and `else` statements) are the other major way of controling the flow of programs.  To think about: under what circumstances might you want to use recursion (like the `power` example above) versus loops?  For example, could you re-write the `power` function using a `for` or `while` loop?"
      ]
    },
    {
      "cell_type": "markdown",
      "metadata": {
        "id": "dX3PbwsX9tiz",
        "colab_type": "text"
      },
      "source": [
        "# Importing new functions\n",
        "\n",
        "Python comes with a set of built-in functions.  The `dir()` command lists the set of functions  currently available to you.\n",
        "\n",
        "You can import new functions that other people have written and made available to the community using an `import` statement.  Knowing which _libraries_ (sets of functions) to import requires some Googling or checking in with other users.  The syntax for importing a library is: `import <library name>`.  For example `import math` will import Python's Mathematics library, giving you access to new Math-related functions.\n",
        "\n",
        "# The `from` keyword\n",
        "Sometimes it is useful to import only a subset of the total available functions from a library.  For example, a particular function in a library may have the same name as a function that you want to write yourself.  The `from` keyword allows you to select a specific set of functions from a given library using:\n",
        "```\n",
        "from <library name> import <function1>, <function2>, ..., <functionN>\n",
        "```\n",
        "\n",
        "You can also use the `dir` command on an imported library to determine which functions are available to import from that library.\n",
        "\n",
        "# The `as` keyword\n",
        "Sometimes it is convenient to rename an imported library or function.  For example, the library might have a long name that is cumbersome to type.  The `as` keyword can be used to rename libraries, functions, or both.  For example:\n",
        "```\n",
        "import math as m\n",
        "from math import degrees as deg\n",
        "```"
      ]
    },
    {
      "cell_type": "code",
      "metadata": {
        "id": "bii0OwGe9ti0",
        "colab_type": "code",
        "outputId": "2c7c2bcb-c65e-4bd4-9686-08ef0b3b5dff",
        "colab": {}
      },
      "source": [
        "import math as m\n",
        "from math import degrees as deg\n",
        "\n",
        "m.sin(m.pi) - m.cos(m.pi)"
      ],
      "execution_count": 0,
      "outputs": [
        {
          "output_type": "execute_result",
          "data": {
            "text/plain": [
              "1.0000000000000002"
            ]
          },
          "metadata": {
            "tags": []
          },
          "execution_count": 43
        }
      ]
    },
    {
      "cell_type": "markdown",
      "metadata": {
        "id": "BttHGqxe9ti2",
        "colab_type": "text"
      },
      "source": [
        "# Getting help\n",
        "The `help` function may be called for any built-in (or imported) Python function.  This will display a pop-up message with instructions describing how to use the given function.  For example:"
      ]
    },
    {
      "cell_type": "code",
      "metadata": {
        "id": "-yWIWTWV9ti2",
        "colab_type": "code",
        "outputId": "87680032-d3df-4e5e-c977-f449bc56dfd8",
        "colab": {}
      },
      "source": [
        "help(m.sin)"
      ],
      "execution_count": 0,
      "outputs": [
        {
          "output_type": "stream",
          "text": [
            "Help on built-in function sin in module math:\n",
            "\n",
            "sin(...)\n",
            "    sin(x)\n",
            "    \n",
            "    Return the sine of x (measured in radians).\n",
            "\n"
          ],
          "name": "stdout"
        }
      ]
    },
    {
      "cell_type": "markdown",
      "metadata": {
        "id": "9dGoNtoO9ti5",
        "colab_type": "text"
      },
      "source": [
        "When you try to perform an invalid operation (e.g. using incorrect syntax, or using the wrong data type, etc.) your program will crash and print out an error message.  These error messages can help point you to where the problem in your code was."
      ]
    },
    {
      "cell_type": "code",
      "metadata": {
        "id": "eOSjZgi09ti5",
        "colab_type": "code",
        "outputId": "43e06b48-e6f5-4d85-d85c-3d3195e0d763",
        "colab": {}
      },
      "source": [
        "1 + 'test' #trying to add two data types for which the addition operation isn't supported"
      ],
      "execution_count": 0,
      "outputs": [
        {
          "output_type": "error",
          "ename": "TypeError",
          "evalue": "unsupported operand type(s) for +: 'int' and 'str'",
          "traceback": [
            "\u001b[0;31m---------------------------------------------------------------------------\u001b[0m",
            "\u001b[0;31mTypeError\u001b[0m                                 Traceback (most recent call last)",
            "\u001b[0;32m<ipython-input-49-c9912827b505>\u001b[0m in \u001b[0;36m<module>\u001b[0;34m\u001b[0m\n\u001b[0;32m----> 1\u001b[0;31m \u001b[0;36m1\u001b[0m \u001b[0;34m+\u001b[0m \u001b[0;34m'test'\u001b[0m \u001b[0;31m#trying to add two data types for which the addition operation isn't supported\u001b[0m\u001b[0;34m\u001b[0m\u001b[0;34m\u001b[0m\u001b[0m\n\u001b[0m",
            "\u001b[0;31mTypeError\u001b[0m: unsupported operand type(s) for +: 'int' and 'str'"
          ]
        }
      ]
    },
    {
      "cell_type": "markdown",
      "metadata": {
        "id": "BksjdHuq9ti7",
        "colab_type": "text"
      },
      "source": [
        "Although they are very useful, in practice the built-in help function and error messages are often insufficient for solving tricky problems.  Some great places to get help are:\n",
        "  - **Python tutorials**: if you feel you require an in-depth understanding to solve your problem, there are many free tutorials available on a wide array of topics.  [This one](https://gitlab.erc.monash.edu.au/andrease/Python4Maths/tree/master/Intro-to-Python) is a good place to start for basic questions.\n",
        "  - **Google**: if you are trying to figure out an unfamiliar function, or if you encounter an error message that doesn't make sense, try searching for someone else's solution.\n",
        "  - **Gitter**: if you're stuck on something, or curious why your code is behaving in a particular way, post your question to Gitter and someone from the class will answer in a timely manner.\n",
        "  - **Office hours**: come to my regular office hours, or email me to set up an appointment, and I'll help get you unstuck."
      ]
    },
    {
      "cell_type": "markdown",
      "metadata": {
        "id": "VVyDk_CA9ti7",
        "colab_type": "text"
      },
      "source": [
        "# Happy coding!\n",
        "\n",
        "Programming is one of the most rewarding skills you can pick up.  The modern world runs on computers, and learning to code well will provide you with an enormous advantage in a wide range of life venues.  Have fun learning, don't be afraid to make mistakes, and learn to ask for help when you need it!"
      ]
    }
  ]
}