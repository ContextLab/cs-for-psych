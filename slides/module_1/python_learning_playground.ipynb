{
  "nbformat": 4,
  "nbformat_minor": 0,
  "metadata": {
    "colab": {
      "provenance": [],
      "authorship_tag": "ABX9TyN0rl1cG6REGyz2KivRW+zP",
      "include_colab_link": true
    },
    "kernelspec": {
      "name": "python3",
      "display_name": "Python 3"
    },
    "language_info": {
      "name": "python"
    }
  },
  "cells": [
    {
      "cell_type": "markdown",
      "metadata": {
        "id": "view-in-github",
        "colab_type": "text"
      },
      "source": [
        "<a href=\"https://colab.research.google.com/github/ContextLab/cs-for-psych/blob/master/slides/module_1/python_learning_playground.ipynb\" target=\"_parent\"><img src=\"https://colab.research.google.com/assets/colab-badge.svg\" alt=\"Open In Colab\"/></a>"
      ]
    },
    {
      "cell_type": "markdown",
      "source": [
        "# Welcome to the Python playground!\n",
        "\n",
        "We've got a few activities planned for you today-- pick and choose your favorites!\n",
        "\n",
        "![](https://media2.giphy.com/media/3oKIPnAiaMCws8nOsE/giphy.gif)"
      ],
      "metadata": {
        "id": "z7k4lvjqBzF-"
      }
    },
    {
      "cell_type": "markdown",
      "source": [
        "# Variable Scavenger Hunt\n",
        "\n",
        "In each line of python below, add a comment (`#`) with each variable's datatype and value, like this:\n",
        "\n",
        "```python\n",
        "x = 1.2345  # type: float; value: 1.2345\n",
        "```"
      ],
      "metadata": {
        "id": "rjzIGWDSCyrG"
      }
    },
    {
      "cell_type": "code",
      "execution_count": 1,
      "metadata": {
        "colab": {
          "base_uri": "https://localhost:8080/"
        },
        "id": "ORSyTkFakBOX",
        "outputId": "76db2eb0-d982-42b7-85df-48ac7b0e2097"
      },
      "outputs": [
        {
          "output_type": "stream",
          "name": "stdout",
          "text": [
            "hello world\n"
          ]
        }
      ],
      "source": [
        "num = 5\n",
        "str1 = \"hello\"\n",
        "str2 = 'world'\n",
        "result = str1 + \" \" + str2\n",
        "print(result)"
      ]
    },
    {
      "cell_type": "markdown",
      "source": [
        "Now write your own code by following the prompts in each comment:"
      ],
      "metadata": {
        "id": "Ox8IyaNRDX2H"
      }
    },
    {
      "cell_type": "code",
      "source": [
        "# Define a variable 'num' with datatype 'integer' and value '10'\n",
        "\n",
        "# Define a variable 'name' with datatype 'string' and value 'John'\n",
        "\n",
        "# Define a variable 'is_student' with datatype 'boolean' and value 'True'"
      ],
      "metadata": {
        "id": "Z42ZKskVkMDa"
      },
      "execution_count": 2,
      "outputs": []
    },
    {
      "cell_type": "markdown",
      "source": [
        "# Function Mad Libs\n",
        "\n",
        "I'll provide a function with some blanks (`___`) for arguments.  Your job is to replace the blanks to create functions that do the desired tasks.  For example if I gave you this code block:\n",
        "```python\n",
        "def multiply_numbers(___, ___):\n",
        "  return ___ * ___\n",
        "```\n",
        "\n",
        "you could fill in the blanks as:\n",
        "```python\n",
        "def multiply_numbers(x, y):\n",
        "  return x * y\n",
        "```"
      ],
      "metadata": {
        "id": "8xvu_BaqDh1y"
      }
    },
    {
      "cell_type": "code",
      "source": [
        "def add_numbers(___, ___):\n",
        "  result = ___ + ___\n",
        "  return result"
      ],
      "metadata": {
        "id": "JP1-QtgbDgeJ"
      },
      "execution_count": null,
      "outputs": []
    },
    {
      "cell_type": "code",
      "source": [
        "def square_it(___):\n",
        "  return ___ ___ ___"
      ],
      "metadata": {
        "id": "NHuvGY3TEQT9"
      },
      "execution_count": null,
      "outputs": []
    },
    {
      "cell_type": "code",
      "source": [
        "def convert_to_string(___):\n",
        "  return ____(___)"
      ],
      "metadata": {
        "id": "u8GpmHCLEYar"
      },
      "execution_count": null,
      "outputs": []
    },
    {
      "cell_type": "code",
      "source": [
        "def factorial(___):\n",
        "  if ________ :\n",
        "    return 1\n",
        "  else:\n",
        "    return ____ * factorial(____)"
      ],
      "metadata": {
        "id": "TrD5Ojz4EjNN"
      },
      "execution_count": null,
      "outputs": []
    },
    {
      "cell_type": "markdown",
      "source": [
        "# Conditional Card Game\n",
        "\n",
        "Below, we provide a function that draws cards for two players.  Player 1's card is stored in the variable `p1` and Player 2's card is stored in the variable `p2`.  Your job is to use conditional statements to write a set of rules (that you make up!) for determining which player \"wins\" the hand.\n",
        "\n",
        "For example, if your rules say \"whoever gets the bigger card wins\" then you might write something like:\n",
        "```python\n",
        "if p1 > p2:\n",
        "  winner = \"Player 1\"\n",
        "elif p2 > p1:\n",
        "  winner = \"Player 2\"\n",
        "else:\n",
        "  winner = \"It's a tie\"\n",
        "```\n",
        "\n",
        "Try to come up with something interesting/fun."
      ],
      "metadata": {
        "id": "4MvmDbTVEw3O"
      }
    },
    {
      "cell_type": "code",
      "source": [
        "import numpy as np\n",
        "\n",
        "def draw_cards(max_val=10):\n",
        "  assert type(max_val) is int, 'The maximum value must be an integer'\n",
        "  assert max_val >= 2, 'There need to be at least 2 cards'\n",
        "  shuffle = np.random.permutation(max_val)\n",
        "  return shuffle[0] + 1, shuffle[1] + 1\n",
        "\n",
        "p1, p2 = draw_cards()\n",
        "print(f'Player 1 drew a \"{p1}\" and Player 2 drew a \"{p2}\"')"
      ],
      "metadata": {
        "colab": {
          "base_uri": "https://localhost:8080/"
        },
        "id": "TNUSZDUrFTQt",
        "outputId": "7d7ca476-427c-438c-93cb-9a3060f5253a"
      },
      "execution_count": 5,
      "outputs": [
        {
          "output_type": "stream",
          "name": "stdout",
          "text": [
            "Player 1 drew a \"5\" and Player 2 drew a \"3\"\n"
          ]
        }
      ]
    },
    {
      "cell_type": "code",
      "source": [
        "winner = 'Unknown'\n",
        "\n",
        "# define your game's rules here!  you should reassign the variable \"winner\" to be\n",
        "# either \"Player 1\" or \"Player 2\"\n",
        "#---BEGIN---\n",
        "\n",
        "#---END---\n",
        "print(f'Winner: {winner}!')\n",
        "\n"
      ],
      "metadata": {
        "id": "z9u3ycCpENtW"
      },
      "execution_count": null,
      "outputs": []
    },
    {
      "cell_type": "markdown",
      "source": [
        "# Looping puzzles\n",
        "\n",
        "Use `for` and/or `while` loops to fill in the functions below"
      ],
      "metadata": {
        "id": "V914ieEOHXi6"
      }
    },
    {
      "cell_type": "code",
      "source": [
        "# count the number of times a given character, x, appears in the string my_string:\n",
        "def count_char(x, my_string):\n",
        "  ### fill this in..."
      ],
      "metadata": {
        "id": "h5uCVWT7GiAE"
      },
      "execution_count": null,
      "outputs": []
    },
    {
      "cell_type": "code",
      "source": [
        "# write a function that takes a string, my_string, as input and removes all vowels\n",
        "def vowel_remover(my_string):\n",
        "  ### fill me in!"
      ],
      "metadata": {
        "id": "F86bvAT7H2D0"
      },
      "execution_count": null,
      "outputs": []
    },
    {
      "cell_type": "code",
      "source": [
        "# write a function that removes any letters in my_string that appear more than once\n",
        "def remove_duplicates(my_string):\n",
        "  ### fill in..."
      ],
      "metadata": {
        "id": "cBPwHFZ0ID9m"
      },
      "execution_count": null,
      "outputs": []
    },
    {
      "cell_type": "markdown",
      "source": [
        "# Expert Zone\n",
        "\n",
        "![](https://gifdb.com/images/high/glitching-hacker-hacking-v56g4l1vaykmsno6.gif)\n",
        "\n",
        "If you're already a `l33t h4x0r`, why not take on a little challenge from [leetcode](https://leetcode.com/)?  (First sign up for a free account if you don't already have one!)\n",
        "\n",
        "Some fun problems you can answer only knowing concepts we've learned about so far, by difficulty:\n",
        "  - Easy problems:\n",
        "    - [Length of last word](https://leetcode.com/problems/length-of-last-word/)\n",
        "    - [Excel sheet column title](https://leetcode.com/problems/excel-sheet-column-title/)\n",
        "    - [Roman to integer](https://leetcode.com/problems/roman-to-integer/)\n",
        "  - Medium problems:\n",
        "    - [Reverse integer](https://leetcode.com/problems/reverse-integer/)\n",
        "    - [String to integer](https://leetcode.com/problems/string-to-integer-atoi/)\n",
        "    - [Valid sudoku](https://leetcode.com/problems/valid-sudoku/)\n",
        "  - Hard problems:\n",
        "    - [Median of two sorted arrays](https://leetcode.com/problems/median-of-two-sorted-arrays/)\n",
        "    - [Regular expression matching](https://leetcode.com/problems/regular-expression-matching/)\n",
        "    - [N-queens](https://leetcode.com/problems/n-queens/)\n",
        "\n",
        "\n"
      ],
      "metadata": {
        "id": "fzbQ0MmqIQmr"
      }
    }
  ]
}