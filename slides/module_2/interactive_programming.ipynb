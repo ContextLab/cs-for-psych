{
  "nbformat": 4,
  "nbformat_minor": 0,
  "metadata": {
    "colab": {
      "name": "interactive_programming.ipynb",
      "provenance": [],
      "collapsed_sections": [],
      "include_colab_link": true
    },
    "kernelspec": {
      "name": "python3",
      "display_name": "Python 3"
    }
  },
  "cells": [
    {
      "cell_type": "markdown",
      "metadata": {
        "id": "view-in-github",
        "colab_type": "text"
      },
      "source": [
        "<a href=\"https://colab.research.google.com/github/ContextLab/cs-for-psych/blob/master/slides/module_2/interactive_programming.ipynb\" target=\"_parent\"><img src=\"https://colab.research.google.com/assets/colab-badge.svg\" alt=\"Open In Colab\"/></a>"
      ]
    },
    {
      "cell_type": "markdown",
      "metadata": {
        "id": "T97mSHllv89B",
        "colab_type": "text"
      },
      "source": [
        "# Interactive programming\n",
        "\n",
        "In this notebook you'll learn how to create programs that you can interact with via the terminal or console.  This is called a [Text-based User Interface (TUI)](https://en.wikipedia.org/wiki/Text-based_user_interface).  If you've used the Terminal or Command Prompt on your computer, you may already have some experience interacting with TUIs.  You likely typically interact with your computer using the mouse and keyboard, or via a touchscreen interface.  These interactions that entail displaying complex graphics on the computer screen occur through a [Graphical User Interface (GUI)](https://en.wikipedia.org/wiki/Graphical_user_interface).  From a programming standpoint, both TUIs and GUIs are similar with respect to the calculations and operations that users' interactions trigger (this is called the [back end](https://en.wikipedia.org/wiki/Front_and_back_ends)-- the part of the code that the user doesn't need to see or care about, and that typically does the main \"work\" of the program).  However, the two styles of interface differ in their [front end](https://en.wikipedia.org/wiki/Front_and_back_ends) (the part of the program that the user sees).  TUIs consist of text printed to the console and interactions entail typing with the keyboard.  GUIs entail creating clickable windows, images, etc. that you often see when using professionally developed software.  We won't be learning about GUIs in this course, but if you'd like to do some learning on your own I would recomend using the `tkinter` library and starting with [this tutorial](https://likegeeks.com/python-gui-examples-tkinter-tutorial/).\n",
        "\n",
        "# The `input` function\n",
        "\n",
        "The main drivers of interactive programs are the `print` function (which you learned about in the [previous tutorial](https://colab.research.google.com/github/ContextLab/cs-for-psych/blob/master/slides/intro_to_python.ipynb)) and the `input` function.\n",
        "\n",
        "The way you use the `input` function is very simple.  The function takes a single argument (a string), which (like when you call `print`) is printed to the console and displayed to the user.  After printing the given string, `input` causes the currently running program to pause and wait for the user to type something on the keyboard.  When the user presses `return`, the function exits and returns any text that the user typed in (as a string).  If you assign the output of `input` to a variable, you can access the contents of what the user typed later in your code:\n"
      ]
    },
    {
      "cell_type": "code",
      "metadata": {
        "id": "0zxqfMK91RXP",
        "colab_type": "code",
        "colab": {
          "base_uri": "https://localhost:8080/",
          "height": 51
        },
        "outputId": "eebcf978-ed6c-42f8-c174-beca1f1c0fe2"
      },
      "source": [
        "name = input('What is your name? ')\n",
        "print('Hello, ', name, '!', sep='')"
      ],
      "execution_count": 11,
      "outputs": [
        {
          "output_type": "stream",
          "text": [
            "What is your name? Jeremy\n",
            "Hello, Jeremy!\n"
          ],
          "name": "stdout"
        }
      ]
    },
    {
      "cell_type": "markdown",
      "metadata": {
        "id": "bnQHMGSl1kS0",
        "colab_type": "text"
      },
      "source": [
        "There are a few things worth highlighting in the example above.  First, notice that the last character in the `input` function's string, after, the `?`, is a space character (`' '`).  This provides some visual separation between the last character of the prompt and the first character that the user types in.  Try removing that space and see how the displayed text changes.\n",
        "\n",
        "A second note is that the `print` function has been called in a new way.  There are two differences from how we've used `print` in the past.  One difference is that several variables have been stitched together (separated by commas): `'Hello, '` (an unnamed variable), `name` (a string containing the text that the user typed in), and `'!'` (a second unnamed variable).  When you pass multiple variables to `print`, the function tries to cast each variable into type `str` and then [concatenates](https://en.wikipedia.org/wiki/Concatenation) the resulting strings (i.e., joins them).  By default, each string is separated by a space (`' '`).  However, you can specify that the strings should instead by separated by another string of your choice using the `sep` keyword argument.  In this case, the separater has been set to the empty string (`''`), which means that no character will be added in between successive strings by the `print` function.  This allows us to avoid an additonal space before the `'!'` character (after `name` is printed).  You can experiment with removing the `sep` keyword and/or changing its value to see how it affects the outputted text.  Note that keyword (named) arguments always come after unnamed arguments.  You can distinguish named from unnamed arguments by the fact that named keyword arguments begin with a variable name followed by the assignment operator (`=`).\n",
        "\n",
        "# Logic and loops\n",
        "\n",
        "You can make interesting and complex TUIs using `print`, `input`, logic statements (`if`, `elif`, and `else`), and loops (`while` and `for`).  For example, the code in the next cell continues to ask for additional inputs until the user types `exit`.  The set of inputted strings is returned as a list (excluding the `exit` string)."
      ]
    },
    {
      "cell_type": "code",
      "metadata": {
        "id": "VT-Zi1h-v56g",
        "colab_type": "code",
        "colab": {
          "base_uri": "https://localhost:8080/",
          "height": 102
        },
        "outputId": "e5ad3e4c-c556-421e-a233-fc76913da294"
      },
      "source": [
        "def get_inputs():\n",
        "  x = ''\n",
        "  i = 0\n",
        "  xs = []\n",
        "  while not (x.lower() == 'exit'):\n",
        "    x = input('Input ' + str(i) + ': ')\n",
        "    xs.append(x)\n",
        "    i = i + 1\n",
        "  return xs[:-1] #returns everything except the last element of xs\n",
        "\n",
        "inputs = get_inputs()"
      ],
      "execution_count": 15,
      "outputs": [
        {
          "output_type": "stream",
          "text": [
            "Input 0: This is the first line!\n",
            "Input 1: The second line, this is...\n",
            "Input 2: And the third line is after the second, but before the fourth.\n",
            "Input 3: Are we at the fourth line already?\n",
            "Input 4: EXIT\n"
          ],
          "name": "stdout"
        }
      ]
    },
    {
      "cell_type": "markdown",
      "metadata": {
        "id": "HLw0znvy9pj1",
        "colab_type": "text"
      },
      "source": [
        "Now we can access everything the user entered, using the `inputs` variable (that we assigned using the output of `get_inputs`):"
      ]
    },
    {
      "cell_type": "code",
      "metadata": {
        "id": "wqEii9QU9xub",
        "colab_type": "code",
        "colab": {
          "base_uri": "https://localhost:8080/",
          "height": 85
        },
        "outputId": "8787a293-d9f6-47f1-8f0f-2c54eb90947e"
      },
      "source": [
        "inputs"
      ],
      "execution_count": 16,
      "outputs": [
        {
          "output_type": "execute_result",
          "data": {
            "text/plain": [
              "['This is the first line!',\n",
              " 'The second line, this is...',\n",
              " 'And the third line is after the second, but before the fourth.',\n",
              " 'Are we at the fourth line already?']"
            ]
          },
          "metadata": {
            "tags": []
          },
          "execution_count": 16
        }
      ]
    },
    {
      "cell_type": "markdown",
      "metadata": {
        "id": "NPJfRAWW-F0E",
        "colab_type": "text"
      },
      "source": [
        "# Practice exercise 1\n",
        "\n",
        "Try writing a short program to ask the user's age (in years).  Print out an appropriate message that depends on what the user says (e.g., \"Wow, that's old!\" or \"That's my age too!\").  Things to consider:\n",
        "- You'll need to use type casting to convert the user's response (a string) into a number\n",
        "- What sorts of inputs would be appropriate?  For example:\n",
        "  - What happens if the user doesn't enter something that can be converted into a number?\n",
        "  - What if the user enters a number, but spelled out rather than as digits?\n",
        "  - What if the user enters a negative number?\n",
        "  - Will you support decimals?  Integers?  Complex numbers?\n",
        "- Try adding a greeting message and an exit message to make interactions with your program more pleasant for the user"
      ]
    },
    {
      "cell_type": "code",
      "metadata": {
        "id": "6XVKG-M_wIPO",
        "colab_type": "code",
        "colab": {}
      },
      "source": [
        "# enter your code here..."
      ],
      "execution_count": 0,
      "outputs": []
    },
    {
      "cell_type": "markdown",
      "metadata": {
        "id": "lGQOBpn0_fqL",
        "colab_type": "text"
      },
      "source": [
        "# Practice exercise 2\n",
        "\n",
        "Let's make an English to [Pig Latin](https://en.wikipedia.org/wiki/Pig_Latin) translator.  Ask the user for some (English) text and return the Pig Latin translation:\n",
        "- For words that begin with consonant sounds, all letters before the initial vowel are placed at the end of the word sequence. Then, \"ay\" is added.\n",
        "- When words begin with consonant clusters (multiple consonants that form one sound), the whole sound is added to the end when speaking or writing.\n",
        "- For words that begin with vowel sounds, one just adds \"way\" or \"yay\" to the end (or just \"ay\").\n",
        "\n",
        "Example considerations:\n",
        "- How will you organize your code?\n",
        "- What sorts of unexpected inputs might the user provide and how will you handle them?\n",
        "- How will you handle capitalization?\n",
        "- How can you \"spiff up\" the user interface to make your program more pleasant to interact with?"
      ]
    },
    {
      "cell_type": "code",
      "metadata": {
        "id": "lyJ-hjxCBYkd",
        "colab_type": "code",
        "colab": {}
      },
      "source": [
        "# enter your code here..."
      ],
      "execution_count": 0,
      "outputs": []
    }
  ]
}