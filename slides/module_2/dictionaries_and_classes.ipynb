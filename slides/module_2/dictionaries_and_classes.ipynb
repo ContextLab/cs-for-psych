{
  "nbformat": 4,
  "nbformat_minor": 0,
  "metadata": {
    "colab": {
      "name": "dictionaries_and_classes.ipynb",
      "provenance": [],
      "collapsed_sections": [],
      "include_colab_link": true
    },
    "kernelspec": {
      "name": "python3",
      "display_name": "Python 3"
    }
  },
  "cells": [
    {
      "cell_type": "markdown",
      "metadata": {
        "id": "view-in-github",
        "colab_type": "text"
      },
      "source": [
        "<a href=\"https://colab.research.google.com/github/ContextLab/cs-for-psych/blob/master/slides/module_2/dictionaries_and_classes.ipynb\" target=\"_parent\"><img src=\"https://colab.research.google.com/assets/colab-badge.svg\" alt=\"Open In Colab\"/></a>"
      ]
    },
    {
      "cell_type": "markdown",
      "metadata": {
        "id": "t7sv3ZH-uZVB",
        "colab_type": "text"
      },
      "source": [
        "# Everything is an object\n",
        "\n",
        "Python is an [object-oriented programming language](https://en.wikipedia.org/wiki/Object-oriented_programming).  This means that each construct and datatype in Python (variables, operators, functions, etc.) is an instance of a computational *object*: an entity that can store data, have attributes, carry out functions, execute code, etc.  Conceptually, Python code defines a set of computational objects and the rules that govern how they interact.  This way of thinking and programming is inspired by ideas about how the physical world operates-- e.g., where the universe defines the set of things that exist and how they interact.  In the physical world, some of those objects (e.g. observable matter) can be directly measured and manipulated, whereas other objects can only be observed via their influence on observable objects (e.g. gravity).  Because object-based thinking has direct analogues to how people often conceptualize the physical world, object-oriented programming can be intuitive to learn and implement.\n",
        "\n",
        "As an aside, the most popular \"alternative\" to object-oriented programming is called [functional programming](https://en.wikipedia.org/wiki/Functional_programming).  The basic units of computation in functional programming languages are mathematical functions.  The idea of functional programming originated from [lambda calculus](https://en.wikipedia.org/wiki/Lambda_calculus).  Functional programming techniques and approaches are beyond the scope of this course.\n",
        "\n",
        "# Dictionaries\n",
        "\n",
        "In the [introductory tutorial on Python programming](https://colab.research.google.com/github/ContextLab/cs-for-psych/blob/master/slides/module_1/intro_to_python.ipynb), we touched briefly on dictionaries in our discussion of datatypes.  Specifically, we described dictionary (`dict`) objects as an unordered set of named properties that each has an assigned value.  Let's pick up on the the example from that notebook:\n",
        "\n"
      ]
    },
    {
      "cell_type": "code",
      "metadata": {
        "id": "aXa2F8c9y5KW",
        "colab_type": "code",
        "colab": {}
      },
      "source": [
        "psyc32 = {'name': 'Introduction to Programming for Psychological Scientists',\n",
        "          'number': 32,\n",
        "          'department': 'PSYC',\n",
        "          'url': 'https://github.com/ContextLab/cs-for-psych'}"
      ],
      "execution_count": 0,
      "outputs": []
    },
    {
      "cell_type": "markdown",
      "metadata": {
        "id": "tWy-EP9CzCkB",
        "colab_type": "text"
      },
      "source": [
        "The variable `psyc32` is a `dict` object that contains several properties.  We can list the properties using `psyc32.keys()`, and we can list the corresponding values (in the same order) using `psyc32.values()`.  We can also access any indidual property (`x`) using the syntax `psyc32['x']`:"
      ]
    },
    {
      "cell_type": "code",
      "metadata": {
        "id": "CdOzc7MxzBPF",
        "colab_type": "code",
        "colab": {
          "base_uri": "https://localhost:8080/",
          "height": 105
        },
        "outputId": "6fa77ecc-4ef4-4b09-c393-028463ee3823"
      },
      "source": [
        "print('psyc32 is an object of type', type(psyc32))\n",
        "print('psyc32 properties:', psyc32.keys())\n",
        "print('psyc32 values:', psyc32.values())\n",
        "print('psyc32[\\'number\\']:', psyc32['number'])\n"
      ],
      "execution_count": 16,
      "outputs": [
        {
          "output_type": "stream",
          "text": [
            "psyc32 is an object of type <class 'dict'>\n",
            "psyc32 properties: dict_keys(['name', 'number', 'department', 'url'])\n",
            "psyc32 values: dict_values(['Introduction to Programming for Psychological Scientists', 32, 'PSYC', 'https://github.com/ContextLab/cs-for-psych'])\n",
            "psyc32['number']: 32\n"
          ],
          "name": "stdout"
        }
      ]
    },
    {
      "cell_type": "markdown",
      "metadata": {
        "id": "QAeRQa4p0gAb",
        "colab_type": "text"
      },
      "source": [
        "You can also dynamically add, change, and/or remove properties (keys) from dictionary objects:\n",
        "\n"
      ]
    },
    {
      "cell_type": "code",
      "metadata": {
        "id": "7nWnCM0s0k3b",
        "colab_type": "code",
        "colab": {
          "base_uri": "https://localhost:8080/",
          "height": 85
        },
        "outputId": "b4ae5625-7060-4d15-f7c8-bba283313369"
      },
      "source": [
        "psyc32['instructor'] = 'Jeremy Manning'\n",
        "#psyc32.pop('url')\n",
        "psyc32['name'] = 'CS for Psych'\n",
        "\n",
        "from pprint import pprint #prints dictionaries in a nicely formatted way\n",
        "pprint(psyc32)"
      ],
      "execution_count": 20,
      "outputs": [
        {
          "output_type": "stream",
          "text": [
            "{'department': 'PSYC',\n",
            " 'instructor': 'Jeremy Manning',\n",
            " 'name': 'CS for Psych',\n",
            " 'number': 32}\n"
          ],
          "name": "stdout"
        }
      ]
    },
    {
      "cell_type": "markdown",
      "metadata": {
        "id": "7gP401TK2CfO",
        "colab_type": "text"
      },
      "source": [
        "The values stored in a dictionary can be of any datatype, including other dictionaries!  This can be a powerful way to represent complex concepts:"
      ]
    },
    {
      "cell_type": "code",
      "metadata": {
        "id": "3m0pPjSe2SPo",
        "colab_type": "code",
        "colab": {
          "base_uri": "https://localhost:8080/",
          "height": 306
        },
        "outputId": "b32db0d8-20f5-453f-cb80-26ef36d27c0b"
      },
      "source": [
        "psyc32 = {'name': 'Introduction to Programming for Psychological Scientists',\n",
        "          'number': 32,\n",
        "          'department': 'PSYC',\n",
        "          'url': 'https://github.com/ContextLab/cs-for-psych'}\n",
        "\n",
        "psyc51 = {'name': 'Human Memory',\n",
        "          'number': 51.09,\n",
        "          'department': 'PSYC',\n",
        "          'url': None}\n",
        "\n",
        "psyc81 = {'name': 'Storytelling with Data',\n",
        "          'number': 81.09,\n",
        "          'department': 'PSYC',\n",
        "          'url': 'https://github.com/ContextLab/storytelling-with-data'}\n",
        "\n",
        "instructor = {'name': 'Jeremy Manning',\n",
        "              'degree': 'PhD',\n",
        "              'institution': 'Dartmouth College',\n",
        "              'url': 'http://www.context-lab.com',\n",
        "              'courses': [psyc32, psyc51, psyc81]}\n",
        "\n",
        "pprint(instructor)"
      ],
      "execution_count": 23,
      "outputs": [
        {
          "output_type": "stream",
          "text": [
            "{'courses': [{'department': 'PSYC',\n",
            "              'name': 'Introduction to Programming for Psychological '\n",
            "                      'Scientists',\n",
            "              'number': 32,\n",
            "              'url': 'https://github.com/ContextLab/cs-for-psych'},\n",
            "             {'department': 'PSYC',\n",
            "              'name': 'Human Memory',\n",
            "              'number': 51.09,\n",
            "              'url': None},\n",
            "             {'department': 'PSYC',\n",
            "              'name': 'Storytelling with Data',\n",
            "              'number': 81.09,\n",
            "              'url': 'https://github.com/ContextLab/storytelling-with-data'}],\n",
            " 'degree': 'PhD',\n",
            " 'institution': 'Dartmouth College',\n",
            " 'name': 'Jeremy Manning',\n",
            " 'url': 'http://www.context-lab.com'}\n"
          ],
          "name": "stdout"
        }
      ]
    },
    {
      "cell_type": "markdown",
      "metadata": {
        "id": "sGeAcU3EbnMK",
        "colab_type": "text"
      },
      "source": [
        "Of note, the `instructor` object (a `dict`) contains (in the `courses` key) a `list` of `dict` objects, reflecting the courses (and their respective properties) taught by the instructor.  This formulation can come in handy when we want to interrogate the `instructor` object.  For example, we could write a function to print out the courses that a given instructor is teaching, and call this function for different instructors:"
      ]
    },
    {
      "cell_type": "code",
      "metadata": {
        "id": "2I-WiRZ6cjg2",
        "colab_type": "code",
        "colab": {}
      },
      "source": [
        "#first let's create another instructor dictionary\n",
        "\n",
        "jeremy = instructor #provide a new (distinctive) name for existing instructor dict\n",
        "\n",
        "#set up some courses\n",
        "\n",
        "cosc1 = {'department': 'COSC',\n",
        "         'name': 'Introduction to Programming and Computation',\n",
        "         'number': 1,\n",
        "         'url': None}\n",
        "\n",
        "cosc39 = {'department': 'COSC',\n",
        "         'name': 'Theory of Computation',\n",
        "         'number': 39,\n",
        "         'url': None}\n",
        "\n",
        "#create another instructor dict\n",
        "alan = {'name': 'Alan Turing',\n",
        "        'degree': 'PhD',\n",
        "        'institution': 'National Physical Laboratory',\n",
        "        'url': 'https://en.wikipedia.org/wiki/Alan_Turing',\n",
        "        'courses': [cosc1, cosc39]}\n",
        "\n",
        "faculty = [jeremy, alan] #create a list of faculty"
      ],
      "execution_count": 0,
      "outputs": []
    },
    {
      "cell_type": "code",
      "metadata": {
        "id": "19Ig52Phdv07",
        "colab_type": "code",
        "colab": {
          "base_uri": "https://localhost:8080/",
          "height": 527
        },
        "outputId": "7370630d-f705-4f92-f038-f27e8130b4e1"
      },
      "source": [
        "#define a function that prints out the given properties for each course an\n",
        "#instructor is teaching\n",
        "def print_course_info(prof, properties):\n",
        "  '''\n",
        "  inputs:\n",
        "  professor: a dict with name, degree, institution, url, and courses keys\n",
        "  properties: a list of strings containing all or some of: department, number, url\n",
        "\n",
        "  outputs: prints out the desired information to the console\n",
        "  '''\n",
        "\n",
        "  print('Professor ', prof['name'],\n",
        "        ', ', prof['degree'],\n",
        "        ' (', prof['institution'], ') ',\n",
        "        'is teaching ', len(prof['courses']), ' courses:', sep='')\n",
        "  for i, c in enumerate(prof['courses']): #can you figure out what the enumerate function is doing?\n",
        "    print('\\nCourse ', i + 1, ': ', c['name'], sep='')\n",
        "    for p in properties: #can you figure out what's happening here?\n",
        "      print('\\t', p, ': ', c[p], sep='')\n",
        "  print('\\nFor more information see', prof['url'])\n",
        "\n",
        "for f in faculty: #this is similar to the \"for p in properties\" line above...\n",
        "  print_course_info(f, ['department', 'number']) #adjust this list to experiment\n",
        "  print('\\n')"
      ],
      "execution_count": 37,
      "outputs": [
        {
          "output_type": "stream",
          "text": [
            "Professor Jeremy Manning, PhD (Dartmouth College) is teaching 3 courses:\n",
            "\n",
            "Course 1: Introduction to Programming for Psychological Scientists\n",
            "\tdepartment: PSYC\n",
            "\tnumber: 32\n",
            "\n",
            "Course 2: Human Memory\n",
            "\tdepartment: PSYC\n",
            "\tnumber: 51.09\n",
            "\n",
            "Course 3: Storytelling with Data\n",
            "\tdepartment: PSYC\n",
            "\tnumber: 81.09\n",
            "\n",
            "For more information see http://www.context-lab.com\n",
            "\n",
            "\n",
            "Professor Alan Turing, PhD (National Physical Laboratory) is teaching 2 courses:\n",
            "\n",
            "Course 1: Introduction to Programming and Computation\n",
            "\tdepartment: COSC\n",
            "\tnumber: 1\n",
            "\n",
            "Course 2: Theory of Computation\n",
            "\tdepartment: COSC\n",
            "\tnumber: 39\n",
            "\n",
            "For more information see https://en.wikipedia.org/wiki/Alan_Turing\n",
            "\n",
            "\n"
          ],
          "name": "stdout"
        }
      ]
    },
    {
      "cell_type": "markdown",
      "metadata": {
        "id": "hwgpVrWKhQ3c",
        "colab_type": "text"
      },
      "source": [
        "Take some time to understand the code in the preceeding cell.  Also think about how you might apply these ideas to other types of representations:\n",
        "- Contact information in a directory or address book\n",
        "- Locations on a map\n",
        "- Response data from an experiment\n",
        "- Email messages\n",
        "- Web forms\n",
        "\n",
        "In particular:\n",
        "- Which fields might you want in each circumstance?\n",
        "- How could you make use of a list of `dict` objects, all with the same fields, to do something useful in each of the above scenarios\n",
        "- What are some tradeoffs between including many versus few fields?\n",
        "- Should every value be a `dict` object with its own set of properties?  Or would that be overkill?  What are some tradeoffs you might expect using different datatypes for each field (versus, for example, setting all values to custom `dict` objects)?\n",
        "- Can you think of any potential use cases for having a `function` as a value of some field?  Can you figure out how to write a short demonstration of how such a function might be called?"
      ]
    },
    {
      "cell_type": "markdown",
      "metadata": {
        "id": "WuGW8yyOjK_V",
        "colab_type": "text"
      },
      "source": [
        "# Classes\n",
        "\n",
        "One way of thinking about a Python [`class`](https://docs.python.org/3/tutorial/classes.html) is kind of like a fancier version of a `dict`.  Like dictionaries, classes provide a way to group together named properties, data, and functions into a single object.  What makes classes special is that they can:\n",
        "- provide a template structure that can be applied to other Python objects\n",
        "- have methods (functions) that enable you to directly modify their own properties\n",
        "\n",
        "Soon we'll explore how these properties are implemented and what they're useful for.  But before we dig into those details, it can be useful to consider that *everything* in Python-- every datatype, operator, etc. is an instance of a class.  Knowing this fact at this point may not specifically enhance your understanding of classes (or Python more broadly).  However, perhaps it gives you a sense of how encompassing and powerful classes are.  They are the fundamental construction that makes Python an object-oriented language.  In particular, classes allow you to define new datatypes.\n",
        "\n",
        "## Classes as templates\n",
        "\n",
        "Consider the dictionaries we defined above.  Each course dictionary contained the same fields ('department', 'name', 'number', and 'url'), and each instructor dictionary contained the same fields ('name', 'degree', 'institution', 'url', 'courses').  Further, the values in each dictionary's fields were similar across instances of courses and instructors.  For example, all of the courses' 'name' fields contained string objects; all of the instructors' 'courses' fields contained lists of course dictionary objects; and so on.  In other words, the general \"formats\" of different course dictionaries were similar to each other, and the formats of different instructor dictionaries were similar to each other.  This replicated structure can be accomplished more succinctly, and with less potential for errors or inconsistencies, using classes.\n",
        "\n",
        "# Defining a new class\n",
        "\n",
        "A new `class` object may be defined using the `class` keyword:\n",
        "```\n",
        "class NewClassName:\n",
        "  <body of class definition>\n",
        "```\n",
        "The body of a `class` defines the set of properties and abilities each class *instance* will have.  An instance is a parameterized version of the class.  For example, `'hello'` and `'goodbye'` are two instances of `str` objects.\n",
        "\n",
        "The body of a `class` can contain any Python code.  In addition, classes support a keyword called `self`.  Inside of the class definition's body, `self` refers to the specific instance of the class.  If you haven't encountered the notion of classes before, this probably seems quite abstract.  Soon we'll get to some concrete examples that will hopefully make things clearer.\n",
        "\n",
        "## `__init__`\n",
        "The `__init__` method is a special function, defined for each type of class, that allows the user to create a new class instance.  Usually the `__init__` method sets properties of the object and/or carries out setup tasks.  The first argument of `__init__` is always `self`.\n",
        "\n",
        "# Example: counter object\n",
        "\n",
        "To illustrate how classes work, let's define a new type of object: a `Counter`.  `Counter` objects will contain an internal 'count' property that starts at 0 and can be incremented, decremented (to a minimum of 0), or reset:\n"
      ]
    },
    {
      "cell_type": "code",
      "metadata": {
        "id": "4wmCXTrn7yY6",
        "colab_type": "code",
        "colab": {}
      },
      "source": [
        "class Counter:\n",
        "  def __init__(self):\n",
        "    self.count = 0\n",
        "  \n",
        "  def increment(self):\n",
        "    self.count += 1\n",
        "  \n",
        "  def decrement(self):\n",
        "    if self.count > 0:\n",
        "      self.count -= 1\n",
        "  \n",
        "  def reset(self):\n",
        "    self.count = 0"
      ],
      "execution_count": 0,
      "outputs": []
    },
    {
      "cell_type": "markdown",
      "metadata": {
        "id": "sBblfbcG8J8Z",
        "colab_type": "text"
      },
      "source": [
        "Now let's play around with some `Counter` objects and see how they work:"
      ]
    },
    {
      "cell_type": "code",
      "metadata": {
        "id": "C5zjrPEx8JMR",
        "colab_type": "code",
        "colab": {
          "base_uri": "https://localhost:8080/",
          "height": 85
        },
        "outputId": "4c3d77c1-6df9-4023-a439-92759d802933"
      },
      "source": [
        "a = Counter()\n",
        "b = Counter()\n",
        "\n",
        "print('a is an instance of', type(a))\n",
        "print('b is an instance of', type(b))\n",
        "\n",
        "a.increment() #increase a's count to 1\n",
        "a.increment() #increase a's count to 2\n",
        "\n",
        "b.decrement() #should do nothing\n",
        "\n",
        "print('a\\'s count is', a.count)\n",
        "print('b\\'s count is', b.count)"
      ],
      "execution_count": 43,
      "outputs": [
        {
          "output_type": "stream",
          "text": [
            "a is an instance of <class '__main__.Counter'>\n",
            "b is an instance of <class '__main__.Counter'>\n",
            "a's count is 2\n",
            "b's count is 0\n"
          ],
          "name": "stdout"
        }
      ]
    },
    {
      "cell_type": "markdown",
      "metadata": {
        "id": "VMTa8Ljg8t0S",
        "colab_type": "text"
      },
      "source": [
        "Notice that even though `a` and `b` are instances of the same type of class (`Counter`), the internal counters of those two objects can change independently and be referenced independently.  Try playing around with these objects:\n",
        "- Make sure you understand what each function does and how it works\n",
        "- Add a function that prints out the current value of the counter (e.g. 'My count is 7')\n",
        "\n",
        "Also note the difference between accessing a *property* of an instance of `Counter` (e.g. `a.count`) versus calling one of the instance's methods (e.g. `a.reset()`).\n",
        "\n",
        "## Fancy stuff\n",
        "\n",
        "As described above, the `__init__` method is \"special\" in that Python knows to call the `__init__` function in order to create a new instance of the class.  The user doesn't need to explicitly call `__init__`; Python just calls it \"under the hood\".\n",
        "\n",
        "Python allows you to define dozens of other special methods that can enhance how you interact with instances of the class.  For example, the `__add__` method allows you to support applying addition (`+`) operator to instances of the class (e.g. `a + b`, where `a` and `b` are instances of `Counter` objects).  It's worth reading through the full set of special methods in case they might come in handy later on; [here](https://rszalski.github.io/magicmethods/) is a nice summary.  Note that you don't need to memorize this list.  If you find yourself wanting to support some operation on a new class that you've defined, you can always consult the above list or do a web search to remind yourself.\n",
        "\n",
        "# Inheritance\n",
        "\n",
        "The [biological taxonomy](https://en.wikipedia.org/wiki/Taxonomy_(biology)) defines a hierarchy of categories for all living things.  For example, humans and whales are both mammals, which are in turn both animals.  This organization is useful for biologists because it provides a succinct way of noting that all \"instances\" of animals satisfy a particular set of properties, all instances of mammals satisfy an additional set of properties (along with also satisfying all properties of animals more generally), and so on.  As one moves down the phylogenetic tree from general to specific, the more specific instances \"inherit\" the properties of the less-specific classes that they belong to.\n",
        "\n",
        "In Python we can define a given class (e.g. `Mammal`) to be a specific \"kind\" of another broader class (e.g. `Animal`) using a technique called inheritance.  The syntax is ([source](https://docs.python.org/3/tutorial/classes.html#inheritance)):\n",
        "```\n",
        "class DerivedClassName(BaseClassName):\n",
        "    <statement-1>\n",
        "    .\n",
        "    .\n",
        "    .\n",
        "    <statement-N>\n",
        "```\n",
        "The class `DerivedClassName` inherits all of the properties and methods of `BaseClassName` unless they are specifically re-defined.  For example, let's create a sub-class of `Counter` that keeps track of how many people are enrolled in a given course:"
      ]
    },
    {
      "cell_type": "code",
      "metadata": {
        "id": "Tbtue4f58pLM",
        "colab_type": "code",
        "colab": {}
      },
      "source": [
        "class Registrar(Counter):\n",
        "  def __init__(self, course_name, max_enrollment):\n",
        "    self.name = course_name\n",
        "    self.limit = max_enrollment\n",
        "    self.count = 0\n",
        "    self.students = [] #an empty list\n",
        "  \n",
        "  def enroll(self, student):\n",
        "    if self.count < self.limit:\n",
        "      self.students.append(student)\n",
        "      self.increment() #uses Counter's increment method\n",
        "    else:\n",
        "      raise Exception('enrollment cap reached, cannot enroll student')\n",
        "  \n",
        "  def drop(self, student):\n",
        "    if student in self.students:\n",
        "      self.students.remove(student)\n",
        "      self.decrement() #uses Counter's decrement method\n",
        "    else:\n",
        "      raise Exception('student not found: ' + student)\n",
        "  \n",
        "  def roster(self):\n",
        "    print('\\n')\n",
        "    if self.count == 0:\n",
        "      print('No students are enrolled.')\n",
        "    else:\n",
        "      print('Course roster (',\n",
        "            self.count,\n",
        "            ' students are enrolled):\\n',\n",
        "            '\\n'.join(self.students), sep='') #can you figure out what this line does?"
      ],
      "execution_count": 0,
      "outputs": []
    },
    {
      "cell_type": "markdown",
      "metadata": {
        "id": "7CDBFf8_E0G5",
        "colab_type": "text"
      },
      "source": [
        "Let's experiment with this new type of object:"
      ]
    },
    {
      "cell_type": "code",
      "metadata": {
        "id": "BxLfGJAqEzLH",
        "colab_type": "code",
        "colab": {
          "base_uri": "https://localhost:8080/",
          "height": 759
        },
        "outputId": "42a19251-b2bf-4779-d00e-e37b3452ea90"
      },
      "source": [
        "psyc32 = Registrar('PSYC 32', 5)\n",
        "\n",
        "psyc32.roster() #empty roster\n",
        "\n",
        "psyc32.enroll('Alice')\n",
        "psyc32.enroll('Bob')\n",
        "psyc32.enroll('Carol')\n",
        "psyc32.enroll('Dave')\n",
        "psyc32.roster() #four students enrolled\n",
        "\n",
        "psyc32.drop('Carol')\n",
        "psyc32.roster() #three students enrolled\n",
        "\n",
        "psyc32.enroll('Erin')\n",
        "psyc32.enroll('Frank') #max enrollment reached\n",
        "psyc32.roster()\n",
        "\n",
        "psyc32.enroll('Grace') #should give an error\n",
        "\n",
        "\n"
      ],
      "execution_count": 55,
      "outputs": [
        {
          "output_type": "stream",
          "text": [
            "\n",
            "\n",
            "No students are enrolled.\n",
            "\n",
            "\n",
            "Course roster (4 students are enrolled):\n",
            "Alice\n",
            "Bob\n",
            "Carol\n",
            "Dave\n",
            "\n",
            "\n",
            "Course roster (3 students are enrolled):\n",
            "Alice\n",
            "Bob\n",
            "Dave\n",
            "\n",
            "\n",
            "Course roster (5 students are enrolled):\n",
            "Alice\n",
            "Bob\n",
            "Dave\n",
            "Erin\n",
            "Frank\n"
          ],
          "name": "stdout"
        },
        {
          "output_type": "error",
          "ename": "Exception",
          "evalue": "ignored",
          "traceback": [
            "\u001b[0;31m---------------------------------------------------------------------------\u001b[0m",
            "\u001b[0;31mException\u001b[0m                                 Traceback (most recent call last)",
            "\u001b[0;32m<ipython-input-55-2b764919e70a>\u001b[0m in \u001b[0;36m<module>\u001b[0;34m()\u001b[0m\n\u001b[1;32m     16\u001b[0m \u001b[0mpsyc32\u001b[0m\u001b[0;34m.\u001b[0m\u001b[0mroster\u001b[0m\u001b[0;34m(\u001b[0m\u001b[0;34m)\u001b[0m\u001b[0;34m\u001b[0m\u001b[0;34m\u001b[0m\u001b[0m\n\u001b[1;32m     17\u001b[0m \u001b[0;34m\u001b[0m\u001b[0m\n\u001b[0;32m---> 18\u001b[0;31m \u001b[0mpsyc32\u001b[0m\u001b[0;34m.\u001b[0m\u001b[0menroll\u001b[0m\u001b[0;34m(\u001b[0m\u001b[0;34m'Grace'\u001b[0m\u001b[0;34m)\u001b[0m \u001b[0;31m#should give an error\u001b[0m\u001b[0;34m\u001b[0m\u001b[0;34m\u001b[0m\u001b[0m\n\u001b[0m\u001b[1;32m     19\u001b[0m \u001b[0;34m\u001b[0m\u001b[0m\n\u001b[1;32m     20\u001b[0m \u001b[0;34m\u001b[0m\u001b[0m\n",
            "\u001b[0;32m<ipython-input-54-effa6e3ef416>\u001b[0m in \u001b[0;36menroll\u001b[0;34m(self, student)\u001b[0m\n\u001b[1;32m     11\u001b[0m       \u001b[0mself\u001b[0m\u001b[0;34m.\u001b[0m\u001b[0mincrement\u001b[0m\u001b[0;34m(\u001b[0m\u001b[0;34m)\u001b[0m \u001b[0;31m#uses Counter's increment method\u001b[0m\u001b[0;34m\u001b[0m\u001b[0;34m\u001b[0m\u001b[0m\n\u001b[1;32m     12\u001b[0m     \u001b[0;32melse\u001b[0m\u001b[0;34m:\u001b[0m\u001b[0;34m\u001b[0m\u001b[0;34m\u001b[0m\u001b[0m\n\u001b[0;32m---> 13\u001b[0;31m       \u001b[0;32mraise\u001b[0m \u001b[0mException\u001b[0m\u001b[0;34m(\u001b[0m\u001b[0;34m'enrollment cap reached, cannot enroll student'\u001b[0m\u001b[0;34m)\u001b[0m\u001b[0;34m\u001b[0m\u001b[0;34m\u001b[0m\u001b[0m\n\u001b[0m\u001b[1;32m     14\u001b[0m \u001b[0;34m\u001b[0m\u001b[0m\n\u001b[1;32m     15\u001b[0m   \u001b[0;32mdef\u001b[0m \u001b[0mdrop\u001b[0m\u001b[0;34m(\u001b[0m\u001b[0mself\u001b[0m\u001b[0;34m,\u001b[0m \u001b[0mstudent\u001b[0m\u001b[0;34m)\u001b[0m\u001b[0;34m:\u001b[0m\u001b[0;34m\u001b[0m\u001b[0;34m\u001b[0m\u001b[0m\n",
            "\u001b[0;31mException\u001b[0m: enrollment cap reached, cannot enroll student"
          ]
        }
      ]
    },
    {
      "cell_type": "markdown",
      "metadata": {
        "id": "SEyqHus_HJiY",
        "colab_type": "text"
      },
      "source": [
        "Let's also attempt to drop a student who hasn't enrolled in the class (this should also give an error):"
      ]
    },
    {
      "cell_type": "code",
      "metadata": {
        "id": "zTl9AarbG8Ct",
        "colab_type": "code",
        "colab": {
          "base_uri": "https://localhost:8080/",
          "height": 283
        },
        "outputId": "d24060b3-2069-462e-9bfc-235e21742d1e"
      },
      "source": [
        "psyc32.drop('Heidi')"
      ],
      "execution_count": 56,
      "outputs": [
        {
          "output_type": "error",
          "ename": "Exception",
          "evalue": "ignored",
          "traceback": [
            "\u001b[0;31m---------------------------------------------------------------------------\u001b[0m",
            "\u001b[0;31mException\u001b[0m                                 Traceback (most recent call last)",
            "\u001b[0;32m<ipython-input-56-303ec8716c0e>\u001b[0m in \u001b[0;36m<module>\u001b[0;34m()\u001b[0m\n\u001b[0;32m----> 1\u001b[0;31m \u001b[0mpsyc32\u001b[0m\u001b[0;34m.\u001b[0m\u001b[0mdrop\u001b[0m\u001b[0;34m(\u001b[0m\u001b[0;34m'Heidi'\u001b[0m\u001b[0;34m)\u001b[0m\u001b[0;34m\u001b[0m\u001b[0;34m\u001b[0m\u001b[0m\n\u001b[0m",
            "\u001b[0;32m<ipython-input-54-effa6e3ef416>\u001b[0m in \u001b[0;36mdrop\u001b[0;34m(self, student)\u001b[0m\n\u001b[1;32m     18\u001b[0m       \u001b[0mself\u001b[0m\u001b[0;34m.\u001b[0m\u001b[0mdecrement\u001b[0m\u001b[0;34m(\u001b[0m\u001b[0;34m)\u001b[0m \u001b[0;31m#uses Counter's decrement method\u001b[0m\u001b[0;34m\u001b[0m\u001b[0;34m\u001b[0m\u001b[0m\n\u001b[1;32m     19\u001b[0m     \u001b[0;32melse\u001b[0m\u001b[0;34m:\u001b[0m\u001b[0;34m\u001b[0m\u001b[0;34m\u001b[0m\u001b[0m\n\u001b[0;32m---> 20\u001b[0;31m       \u001b[0;32mraise\u001b[0m \u001b[0mException\u001b[0m\u001b[0;34m(\u001b[0m\u001b[0;34m'student not found: '\u001b[0m \u001b[0;34m+\u001b[0m \u001b[0mstudent\u001b[0m\u001b[0;34m)\u001b[0m\u001b[0;34m\u001b[0m\u001b[0;34m\u001b[0m\u001b[0m\n\u001b[0m\u001b[1;32m     21\u001b[0m \u001b[0;34m\u001b[0m\u001b[0m\n\u001b[1;32m     22\u001b[0m   \u001b[0;32mdef\u001b[0m \u001b[0mroster\u001b[0m\u001b[0;34m(\u001b[0m\u001b[0mself\u001b[0m\u001b[0;34m)\u001b[0m\u001b[0;34m:\u001b[0m\u001b[0;34m\u001b[0m\u001b[0;34m\u001b[0m\u001b[0m\n",
            "\u001b[0;31mException\u001b[0m: student not found: Heidi"
          ]
        }
      ]
    },
    {
      "cell_type": "markdown",
      "metadata": {
        "id": "EZKxMu9KHUBc",
        "colab_type": "text"
      },
      "source": [
        "# Next steps\n",
        "\n",
        "If you're new to the idea of classes and inheritence, it's worth taking some time to practice. Some ideas:\n",
        "- Define two new classes, `Course` and `Instructor`, and re-do the example used to explore dictionary objects.\n",
        "- Define some example biological classes that incorporate different properties, like `multicellular`, `breathes_oxygen`, `lays_eggs`, etc.  How can you support exceptions, such as the [duck-billed platypus](https://en.wikipedia.org/wiki/Platypus) (a mammal that lays eggs)?\n",
        "- Modify the `Counter` class defined above to support addition and subtraction between different counters.  For example, if `a` and `b` are both `Counter` objects, `a` - `b` should yield a new instance of `Counter` object whose count is the either the difference between `a.count` and `b.count` or 0 (whichever is greater)."
      ]
    }
  ]
}