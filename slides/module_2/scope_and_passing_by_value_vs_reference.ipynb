{
  "nbformat": 4,
  "nbformat_minor": 0,
  "metadata": {
    "colab": {
      "name": "scope_and_passing_by_value_vs_reference.ipynb",
      "provenance": [],
      "collapsed_sections": [],
      "include_colab_link": true
    },
    "kernelspec": {
      "name": "python3",
      "display_name": "Python 3"
    }
  },
  "cells": [
    {
      "cell_type": "markdown",
      "metadata": {
        "id": "view-in-github",
        "colab_type": "text"
      },
      "source": [
        "<a href=\"https://colab.research.google.com/github/ContextLab/cs-for-psych/blob/master/slides/module_2/scope_and_passing_by_value_vs_reference.ipynb\" target=\"_parent\"><img src=\"https://colab.research.google.com/assets/colab-badge.svg\" alt=\"Open In Colab\"/></a>"
      ]
    },
    {
      "cell_type": "markdown",
      "metadata": {
        "id": "Yz0MlDiIuxMh",
        "colab_type": "text"
      },
      "source": [
        "# The scope of variables in Python\n",
        "\n",
        "The term *scope* refers to the circumstances under which a given variable is accessible.  In other words, the places in a program that you can refer to the variable without getting a `NameError` exception like this:"
      ]
    },
    {
      "cell_type": "code",
      "metadata": {
        "id": "D7rAQA1vuoID",
        "colab_type": "code",
        "outputId": "f09e45cd-db7c-4ba0-a8c2-75f346e8dea2",
        "colab": {
          "base_uri": "https://localhost:8080/",
          "height": 164
        }
      },
      "source": [
        "x #gives an error because x hasn't been defined yet"
      ],
      "execution_count": 0,
      "outputs": [
        {
          "output_type": "error",
          "ename": "NameError",
          "evalue": "ignored",
          "traceback": [
            "\u001b[0;31m---------------------------------------------------------------------------\u001b[0m",
            "\u001b[0;31mNameError\u001b[0m                                 Traceback (most recent call last)",
            "\u001b[0;32m<ipython-input-2-267465fa5ad3>\u001b[0m in \u001b[0;36m<module>\u001b[0;34m()\u001b[0m\n\u001b[0;32m----> 1\u001b[0;31m \u001b[0mx\u001b[0m \u001b[0;31m#gives an error because x hasn't been defined yet\u001b[0m\u001b[0;34m\u001b[0m\u001b[0;34m\u001b[0m\u001b[0m\n\u001b[0m",
            "\u001b[0;31mNameError\u001b[0m: name 'x' is not defined"
          ]
        }
      ]
    },
    {
      "cell_type": "markdown",
      "metadata": {
        "id": "8AynV2MMvTvl",
        "colab_type": "text"
      },
      "source": [
        "When a particular variable has *never* been specified anywhere in your code (or code you've imported), you should get a `NameError`-- Python can't know what you \"mean\" by that variable name, because you haven't defined it yet.  Python isn't omniscient or psychic; it can't know what a particular name refers to unless it's either built-in (in which case the implementation of Python itself provides an association between the name of the variable and the object it's referring to), or unless you've explicitly told Python what the name refers to.  It's kind of like you not knowing what the word *sneefuloop* means before someone tells you.  How could you reasonably be expected to use 'sneefuloop' in a sentence if you don't know what it means?  You couldn't!\n",
        "\n",
        "In a similar vein, because Python executes code sequentially (from top to bottom), you can't refer to a variable *before* it's defined either.  For example, consider the following:\n",
        "```\n",
        "y = x + 7 #fails because x hasn't been defined yet\n",
        "x = 3\n",
        "y = x + 7 #succeeds because x was set to 3 prior to this line\n",
        "```\n",
        "Even though both `y = x + 7` are identical, only the second one is interpretable to Python-- the variable `x` doesn't exist until the second line (`x = 3`) when it is defined.  Only once `x` is defined can it be used and referred to.\n",
        "\n",
        "## Variable scope in function definitions\n",
        "\n",
        "Now consider another example:\n",
        "```\n",
        "x = 4\n",
        "\n",
        "def add_to_x(y):\n",
        "  return x + y\n",
        "\n",
        "add_to_x(3)\n",
        "```\n",
        "\n",
        "What do you think `add_to_x(3)` would return?  Would the function throw an error, because `x` isn't defined inside the body of `add_to_x`?  Or will it return `7` because `x` was set to `3` prior to the function definition?\n",
        "\n",
        "And consider this example:\n",
        "```\n",
        "def add_to_z(y):\n",
        "  return z + y\n",
        "\n",
        "z = 10\n",
        "add_to_z(20)\n",
        "```\n",
        "Will the code fail, beacuse `z` is only defined *after* `add_to_z`?  Or will it succeed, because `add_to_z(10)` isn't called until after `z` is defined?  The answer is that *both* examples will run.  The reason has to do with a concept called *workspaces*\n",
        "\n",
        "### Python workspaces\n",
        "\n",
        "A *workspace* is a set of named variables that the interpreter currently has access to.  When Python starts, the default workspace provides access only to built-in Python functions and named variables.  When you `import` new libraries, the command adds the functions and variables defined in those libraries to the current workspace.  One way to think about the workspace is to imagine it looking like a [blueberry pancake](https://en.wikipedia.org/wiki/Pancake).  The \"cake\" part of the pancake provides a framework for the variables (blueberries) to sit in.  By looking down at the top of the pancake, you can see (access) each variable/blueberry.  The total set of variables available in the workspace is the set of blueberries that you can see when you look down at the top of the pancake.  You can view them using the `dir` command.\n",
        "\n",
        "New workspaces are created when you enter the body of a [compound statement](https://docs.python.org/3/reference/compound_stmts.html)---i.e. an `if`, `elif`, `else`, `for`, `while`, function or class definitions, etc. statement where multiple lines are indented to indicate they're grouped together.  Specifically, the code inside the statement body gets a new workspace, like throwing another pancake onto the stack.  Any variables defined inside the statement body get put into the top-most pancake.  When the body of the compound statement ends, the corresponding pancake (workspace) is discarded, along with any of its associated variables.  This means, for example, that if you define a new variable inside of a function, it will only be accessible *within that function* (or any compound statements within that function).  But once the function exits, its workspace is discarded and its corresponding variables aren't accessible anymore.\n",
        "\n",
        "The one \"trick,\" and a place where the pancake analogy breaks down somewhat, is that in addition to the top-most workspace (pancake), Python can also access any pancakes *below* that one (i.e., that the given workspace or its ancestors were defined in).\n",
        "\n",
        "Now that we know that workspaces are like blueberry pancakes, the above examples should be clear, right?  Let's go through them line by line, using `dir` to print out the changing workspaces:\n"
      ]
    },
    {
      "cell_type": "code",
      "metadata": {
        "id": "lansVeS87zXT",
        "colab_type": "code",
        "outputId": "38c6cb5e-d95a-4a5f-d610-f92e19f2e3f1",
        "colab": {
          "base_uri": "https://localhost:8080/",
          "height": 1000
        }
      },
      "source": [
        "from pprint import pprint\n",
        "\n",
        "print('Top-level workspace after importing pprint:')\n",
        "pprint(dir())\n",
        "\n",
        "x = 4\n",
        "print('\\nTop-level workspace after x = 4 line:')\n",
        "pprint(dir())\n",
        " \n",
        "def add_to_x(y):\n",
        "  print('\\nTop-level workspace inside function:')\n",
        "  pprint(dir())\n",
        "  return x + y\n",
        "\n",
        "print('\\nTop-level workspace after function definition:')\n",
        "pprint(dir())\n",
        "\n",
        "add_to_x(3)"
      ],
      "execution_count": 0,
      "outputs": [
        {
          "output_type": "stream",
          "text": [
            "Top-level workspace after importing pprint:\n",
            "['In',\n",
            " 'Out',\n",
            " '_',\n",
            " '_1',\n",
            " '_2',\n",
            " '_3',\n",
            " '_4',\n",
            " '__',\n",
            " '___',\n",
            " '__builtin__',\n",
            " '__builtins__',\n",
            " '__doc__',\n",
            " '__loader__',\n",
            " '__name__',\n",
            " '__package__',\n",
            " '__spec__',\n",
            " '_dh',\n",
            " '_i',\n",
            " '_i1',\n",
            " '_i2',\n",
            " '_i3',\n",
            " '_i4',\n",
            " '_i5',\n",
            " '_ih',\n",
            " '_ii',\n",
            " '_iii',\n",
            " '_oh',\n",
            " '_sh',\n",
            " 'add_to_x',\n",
            " 'exit',\n",
            " 'get_ipython',\n",
            " 'pprint',\n",
            " 'quit',\n",
            " 'x']\n",
            "\n",
            "Top-level workspace after x = 4 line:\n",
            "['In',\n",
            " 'Out',\n",
            " '_',\n",
            " '_1',\n",
            " '_2',\n",
            " '_3',\n",
            " '_4',\n",
            " '__',\n",
            " '___',\n",
            " '__builtin__',\n",
            " '__builtins__',\n",
            " '__doc__',\n",
            " '__loader__',\n",
            " '__name__',\n",
            " '__package__',\n",
            " '__spec__',\n",
            " '_dh',\n",
            " '_i',\n",
            " '_i1',\n",
            " '_i2',\n",
            " '_i3',\n",
            " '_i4',\n",
            " '_i5',\n",
            " '_ih',\n",
            " '_ii',\n",
            " '_iii',\n",
            " '_oh',\n",
            " '_sh',\n",
            " 'add_to_x',\n",
            " 'exit',\n",
            " 'get_ipython',\n",
            " 'pprint',\n",
            " 'quit',\n",
            " 'x']\n",
            "\n",
            "Top-level workspace after function definition:\n",
            "['In',\n",
            " 'Out',\n",
            " '_',\n",
            " '_1',\n",
            " '_2',\n",
            " '_3',\n",
            " '_4',\n",
            " '__',\n",
            " '___',\n",
            " '__builtin__',\n",
            " '__builtins__',\n",
            " '__doc__',\n",
            " '__loader__',\n",
            " '__name__',\n",
            " '__package__',\n",
            " '__spec__',\n",
            " '_dh',\n",
            " '_i',\n",
            " '_i1',\n",
            " '_i2',\n",
            " '_i3',\n",
            " '_i4',\n",
            " '_i5',\n",
            " '_ih',\n",
            " '_ii',\n",
            " '_iii',\n",
            " '_oh',\n",
            " '_sh',\n",
            " 'add_to_x',\n",
            " 'exit',\n",
            " 'get_ipython',\n",
            " 'pprint',\n",
            " 'quit',\n",
            " 'x']\n",
            "\n",
            "Top-level workspace inside function:\n",
            "['y']\n"
          ],
          "name": "stdout"
        },
        {
          "output_type": "execute_result",
          "data": {
            "text/plain": [
              "7"
            ]
          },
          "metadata": {
            "tags": []
          },
          "execution_count": 5
        }
      ]
    },
    {
      "cell_type": "markdown",
      "metadata": {
        "id": "jaRMPDK682Ex",
        "colab_type": "text"
      },
      "source": [
        "As an exercise, use the `dir` command to understand the following:\n",
        "- The second example above (where `add_to_z` is defined)\n",
        "- The scope of variables inside a `class` definition\n",
        "- The scope of variables inside a `for` loop-- in particular, where/when can the loop iterator (e.g. the `i` in `for i in range(10):...`) be accessed?\n",
        "- The scope of variables inside a `try`/`except`/`finally` statement-- which variables are available relative to when an error is raised?\n",
        "\n",
        "## Some potentially confusing stuff\n",
        "\n",
        "Consider the following example:\n",
        "```\n",
        "x = 1\n",
        "\n",
        "def myfunc(x):\n",
        "  return x + 1\n",
        "\n",
        "myfunc(2)\n",
        "```\n",
        "what value do you think `myfunc(2)` will return?  In other words, does the `x` in the `return` statement refer to the value of `x` above the function definition (where it has a value of 1) or does it refer to the value of `x` assigned during the function call (where it has a value of 2)?\n",
        "\n",
        "When a given variable name appears in multiple workspaces, the *top-most* workspaces are considered first.  In other words, once a variable is found in a given workspace, the interpreter uses that variable's value and stops looking in other workspaces.  Since the top-most workspace when the `return` statment is executed has `x` assigned the value 2, the function call will return 3.  (You should verify this for yourself in a scratch code cell!)\n",
        "\n",
        "Now consider a tricker example:\n",
        "```\n",
        "x = {'a': 1, 'b': 2}\n",
        "\n",
        "def myfunc2(x):\n",
        "  x['a'] = 2\n",
        "  return x\n",
        "\n",
        "y = myfunc2(x)\n",
        "```\n",
        "What do you expect the values of `y['a']` and `x['a']` are afer calling `myfunc2(x)`?  You may be surprised to learn that both `y['a']` and `x['a']` will have a value of 2.  (Use a scratch code cell to convince yourself!)  The reason has to do with how Python passes variables to functions.  We'll explore this next."
      ]
    },
    {
      "cell_type": "markdown",
      "metadata": {
        "id": "B8zjLjdRF3sh",
        "colab_type": "text"
      },
      "source": [
        "# Passing by value versus by reference\n",
        "\n",
        "In our Pythonic learning journey thus far, we've been able to gloss over some of the details underlying what it means to assign a value to a variable.  Now it's time to take a peak behind the curtain so that we can deepen our understanding.\n",
        "\n",
        "The \"secret\" way variables work is that they provide a convenient way of referring to specific blobs of information in the computer's memory.  When we execute the statement `x = 2`, what we are really doing is:\n",
        "\n",
        "1. Storing the value 2 somewhere in the computer's memory\n",
        "2. Linking the location of that stored value with the variable name `x`\n",
        "\n",
        "When we refer to `x` later, the Python interpreter knows where in memory the value of `x` is stored, and whenever some computation needs to be done using the value of `x`, the Python interpreter simply looks up the value stored in the corresponding memory location.\n",
        "\n",
        "If we were to modify the contents of the computer's memory at the linked-to location, `x` would then have a different value in all subsequent computations.  We have already encountered one way of modifying stored values: the assignment operator (`=`).  If we call `x = 3` (after having already called `x = 2`), then the value stored at `x`'s location in memory will be updated from 2 to 3.\n",
        "\n",
        "What happens when we pass a variable (e.g., `x`) to a function?  Does the *value* stored at that variable's memory location get passed to the function?  Or does the *reference* to the location get passed to the function instead?  These two possibilities are called *passing by value* and *passing by reference*, respectively.  To foreshadow, Python always passes by reference.  But let's work through hypothetical examples of how and when the values of variables are updated when they are passed by value versus by reference.\n",
        "\n",
        "## Implications of passing by value\n",
        "\n",
        "To understand how passing by value would work, let's revisit the above example where we defined `myfunc2`:\n",
        "```\n",
        "x = {'a': 1, 'b': 2}\n",
        " \n",
        "def myfunc2(x):\n",
        "  x['a'] = 2\n",
        "  return x\n",
        " \n",
        "y = myfunc2(x)\n",
        "```\n",
        "\n",
        "If `x` were passed by value, then the `x` referenced inside the body of `myfunc2` would point to a *different* set of memory locations than the `x` outside of the function body.  The value of `x['a']` stored at those new locations would then be modified inside of `myfunc2`.  Finally, the assignment statement assigns the (new) locations in memory (containing those modified values) to the named variable `y`.  Because only the values in the new memory locations were updated, we're left with two different `dict` objects afer the above code executes: `x` holds its original values, where `a` is 1, whereas `y` holds the updated values, where `a` is 2.  (Remember that this is a hypothetical example, since Python passes by reference, not by value.)\n",
        "\n",
        "## Implications of passing by reference\n",
        "\n",
        "Now let's walk through what happens when `x` is passed by reference instead of by value.  Inside the body of `myfunc2`, the `x` variable points to the *same* memory location as the `x` variable assigned before the function is defined.  The function call then modifies the value of `a` stored at `x`'s location in memory.  When the function returns, the variable `y` is linked to the same location in memory as `x`.  Therefore both `x` and `y` will now have `a` equal to 2, since both of those variables actually refer to the same location in memory.  In fact, if we call `x['a'] = 3` after the `y = myfunc2(x)` line, the value of `y['a']` will change to 3 as well!  If `x` and `y` both refer to the same location in memory, changing the values stored at that location will change *both* `x` and `y`.\n",
        "\n",
        "## How can we get Python to pass by value?\n",
        "\n",
        "All Python functions pass variables by reference (not value)-- so there is no \"clean\" way of changing Python's behavior.  However, we can emulate the effects of passing by value using Python's `copy` library.  The code below will behave like the \"passing by value\" example above:"
      ]
    },
    {
      "cell_type": "code",
      "metadata": {
        "id": "8FWuWTckycBm",
        "colab_type": "code",
        "colab": {
          "base_uri": "https://localhost:8080/",
          "height": 51
        },
        "outputId": "c5b98859-671e-49b3-e935-c42f9eeb8d14"
      },
      "source": [
        "import copy\n",
        "\n",
        "x = {'a': 1, 'b': 2}\n",
        " \n",
        "def myfunc2(x):\n",
        "  x['a'] = 2\n",
        "  return x\n",
        " \n",
        "y = myfunc2(copy.deepcopy(x)) #this line is what's different\n",
        "\n",
        "print('x:', x)\n",
        "print('y:', y)\n"
      ],
      "execution_count": 9,
      "outputs": [
        {
          "output_type": "stream",
          "text": [
            "x: {'a': 1, 'b': 2}\n",
            "y: {'a': 2, 'b': 2}\n"
          ],
          "name": "stdout"
        }
      ]
    },
    {
      "cell_type": "markdown",
      "metadata": {
        "id": "-5KpYKm6R4dE",
        "colab_type": "text"
      },
      "source": [
        "Calling `copy.deepcopy(x)` takes the values stored at the location refered to by `x`, copies them to a new memory location, and returns a reference to that new location.  In the example, that new location is then passed to `myfunc2`.  When the interpreter enters `myfunc2`, both the old location (of `x`) and the new location (returned by `copy.deepcopy`) contain the same values, but those values are stored at different physical locations in memory.  Becaues `myfunc2` only modifies the values stored at the new location, the original values of `x` remain unchanged.\n",
        "\n",
        "## The costs of copying\n",
        "\n",
        "In this simple example, there is little cost to copying `x`'s value to a new location in memory.  However, when a variable occupies a lot of space in memory (e.g. more than can fit in [RAM](https://en.wikipedia.org/wiki/Random-access_memory)), the `copy.deepcopy` operation can take a long time to run.  Therefore the design decision to pass everything by reference in Python helps to make Python code run faster (and require less memory) than if variables were instead passed by value (requiring constant copying).  Nevertheless, sometimes it's necessary to maintain separate copies (e.g., pre- and post-modification), and in those scenarios the cost of running `copy.deepcopy` may be warranted."
      ]
    }
  ]
}