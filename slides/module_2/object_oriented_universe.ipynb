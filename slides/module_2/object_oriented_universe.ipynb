{
  "nbformat": 4,
  "nbformat_minor": 0,
  "metadata": {
    "colab": {
      "provenance": [],
      "authorship_tag": "ABX9TyNrqCsnao5HfL6Zaq+R+LvV",
      "include_colab_link": true
    },
    "kernelspec": {
      "name": "python3",
      "display_name": "Python 3"
    },
    "language_info": {
      "name": "python"
    }
  },
  "cells": [
    {
      "cell_type": "markdown",
      "metadata": {
        "id": "view-in-github",
        "colab_type": "text"
      },
      "source": [
        "<a href=\"https://colab.research.google.com/github/ContextLab/cs-for-psych/blob/master/slides/module_2/object_oriented_universe.ipynb\" target=\"_parent\"><img src=\"https://colab.research.google.com/assets/colab-badge.svg\" alt=\"Open In Colab\"/></a>"
      ]
    },
    {
      "cell_type": "markdown",
      "source": [
        "# You could build the universe!\n",
        "\n",
        "In object-oriented programming, *everything* is an object.  Built-in objects, like operators, specific datatypes, etc., are useful.  But we can get even more power by defining our own functions and classes that extend Python with *new* objects.\n",
        "\n",
        "Suppose you wanted to build a simulation of the entire universe.  How might you start?\n",
        "\n",
        "![universe](https://i.pinimg.com/originals/29/65/26/29652645bfe64e65f453810ea6b48d67.gif)\n",
        "\n",
        "We could define a `class` that represents the entire universe.  The `Universe` class might have particular methods, attributes, etc., attached to it.  In turn, some of those attributes might be comprised of their own classes, like `Galaxy`, `Star`, `BlackHole`, `Planet`, `SolarSystem`, etc.  We could define operations (methods) that describe how different objects interact (potentially affecting each others' attributes).  If we drilled down far enough, we could end up with some approximation of the entire universe!"
      ],
      "metadata": {
        "id": "JNRBBuYcIXzi"
      }
    },
    {
      "cell_type": "markdown",
      "source": [
        "# What do *you* want to build?\n",
        "\n",
        "Let's think about some subset of the universe, or some concept, that we want to turn into object-oriented code.  Some ideas:\n",
        "  - We could simulate a mechanical device comprised of parts\n",
        "  - We could simulate an organization comprised of people and resources\n",
        "  - We could simulate something more abstract, like a conceptual hierarchy, a language, a number system, etc.\n",
        "\n",
        "Things to think about:\n",
        "  - What is the \"base\" class?\n",
        "  - How will classes build on each other or inherit each others' properties/attributes/methods?\n",
        "  - What attributes or methods will the classes support?\n",
        "  - What datatypes will we use for different attributes?\n",
        "  - How will instances interact with each other?\n",
        "\n",
        "Note: for this exercise, we'll focus on \"sketching out\" the ideas/scope, rather than prioritizing debugging and getting the full thing to \"work.\"  (If the code works/runs, that'll be a bonus!)"
      ],
      "metadata": {
        "id": "5C5YbZllKHAC"
      }
    },
    {
      "cell_type": "code",
      "execution_count": null,
      "metadata": {
        "id": "FSj9tI8nIS1N"
      },
      "outputs": [],
      "source": [
        "class MyClass(object):\n",
        "  def __init__(self, *args):\n",
        "    pass"
      ]
    },
    {
      "cell_type": "code",
      "source": [
        "def run_simulation(*args, **kwargs):\n",
        "  pass"
      ],
      "metadata": {
        "id": "248XghfLLPCo"
      },
      "execution_count": null,
      "outputs": []
    }
  ]
}