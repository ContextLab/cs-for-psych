{
  "nbformat": 4,
  "nbformat_minor": 0,
  "metadata": {
    "colab": {
      "name": "Copy of control_flow_and_ooo.ipynb",
      "provenance": [],
      "collapsed_sections": [],
      "include_colab_link": true
    },
    "kernelspec": {
      "name": "python3",
      "display_name": "Python 3"
    }
  },
  "cells": [
    {
      "cell_type": "markdown",
      "metadata": {
        "id": "view-in-github",
        "colab_type": "text"
      },
      "source": [
        "<a href=\"https://colab.research.google.com/github/ContextLab/cs-for-psych/blob/master/slides/module_2/control_flow_and_ooo.ipynb\" target=\"_parent\"><img src=\"https://colab.research.google.com/assets/colab-badge.svg\" alt=\"Open In Colab\"/></a>"
      ]
    },
    {
      "cell_type": "markdown",
      "metadata": {
        "id": "NeAPoqauJCwO",
        "colab_type": "text"
      },
      "source": [
        "# Control flow and order of operations\n",
        "\n",
        "In the [Introduction to Jupyter Notebooks and Python](https://colab.research.google.com/github/ContextLab/cs-for-psych/blob/master/slides/module_1/intro_to_python.ipynb) tutorial we introduced two types of control flow constructs:\n",
        "- `if`, `elif`, and `else` statements for selectively executing or skipping code according to whether a specified set of conditions is satisfied\n",
        "- `while` and `for` loops for repeating instructions while a given condition is satisfied and/or for a given number of times\n",
        "\n",
        "In that tutorial we also briefly reviewed the [order of operations](https://en.wikipedia.org/wiki/Order_of_operations) in which statements are combined and evaluated, in the context of mathmatical operators (`+`, `-`, `*`, `/`, etc.).\n",
        "\n",
        "In this notebook we'll explore some additional control flow instructions and strategies, and we will dig a bit deeper into some Python-specific aspects of the order of operations.  These concepts are central to designing efficient, functional, and readable code.  We will be interleaving the discussion of control flow and order of operations throughout the notebook, since both of these broad concepts are closely related.  Specifically, the order of operations is a key factor in determining how a program proceeds, which parts are executed, etc.\n",
        "\n",
        "# A deeper dive into `if`, `elif`, and `else`\n",
        "\n",
        "Consider the following two blocks of code:\n",
        "\n",
        "*Block 1:*\n",
        "```\n",
        "if <condition 1>:\n",
        "  <body 1>\n",
        "elif <condition 2>:\n",
        "  <body 2>\n",
        "elif <condition 3>:\n",
        "  <body 3>\n",
        "else:\n",
        "  <body 4>\n",
        "```\n",
        "\n",
        "*Block 2:*\n",
        "\n",
        "```\n",
        "if <condition 1>:\n",
        "  <body 1>\n",
        "if <condition 2>:\n",
        "  <body 2>\n",
        "if <condition 3>:\n",
        "  <body 3>\n",
        "else:\n",
        "  <body 4>\n",
        "```\n",
        "\n",
        "At first glance, both look similar.  In fact, often the two blocks of code may appear to perform identically (with respect to execution time and functionality).  However, it is important to note that the two blocks of code are **not** equivalent.  Let's break down each block line-by-line.\n",
        "\n",
        "In *Block 1*, the interpreter begins with the first if statement and evaluates `<condition 1>`.  This can be any statement or function call, as long as the statement (or function) evaluates to `True`, `False`, or something that can be typecasted into `True` or `False`.  The flexibility in syntax is worth appreciating.  For example, suppose that the function specified in the conditional statement took an hour to evaluate.  You'd need to wait an hour in order for the interpreter to determine whether the body of the if statement should run or not.  Because any given statement might take a long time to evaluate, it's important to consider when each statement will be executed.\n",
        "\n",
        "If `<condition 1>` is true, `<body 1>` executes and the `if-elif-else` block completes.  If instead `<condition 1>` isn't true, the interpreter next moves on to the first `elif` statement and evaluates `<condition 2>`.  This process continues:\n",
        "- if a given condition is true, the corresponding statements in the body of the `if` or `elif` statement are executed and no further conditions are evaluated\n",
        "- if a given condition is false, the interpreter moves on to evaluate the next condition\n",
        "- if all of the `if` and `elif` conditions are false, the body of the `else` statement is executed.\n",
        "\n",
        "In *Block 2* things work a little differently.  Like in *Block 1*, the interpreter first evaluates `<condition 1>`, and runs `<body 1>` if that conditional is true.  However, regardless of whether `<condition 1>` is true, in *Block 2* (because the second statement is an `if` statement rather than an `elif` statement), the second `if` statement will *always* be evaluated.  This is also true of the third and fourth `if` statements in *Block 2*.  Finally, the body of the `else` statement in *Block 2* will be executed as long as `<condition 3>` is false-- regardless of whether the other conditions are true or false.\n",
        "\n",
        "If each condition is mutually exclusive (i.e., at most one condition can be true at a time), both blocks will behave identically.  However, if two or more conditions may be true simultaneously, the two code blocks will diverge.  For example, suppose that both `<condition 1>` and `<condition 2>` are true:\n",
        "  - In *Block 1* only `<body 1>` will be executed, and `<condition 2>` (and beyond) will never be evaluated.\n",
        "  - In *Block 2*, both `<body 1>` and `<body 2>` will be executed, and both `<condition 1>` and `<condition 2>` will be evaluated.  Further, `<body 4>` will also be evaluated, because the `else` statement in *Block 2* refers to the *third if statement*-- i.e. it runs if `<condition 3>` is false, no matter what the other conditions evaluate to.\n",
        "\n",
        "Consider how the two blocks of code will behave under other scenarios:\n",
        "- `<condition 1>`, `<condition 2>`, and `<condition 3>` are all `True`\n",
        "- `<condition 3>` is `True` but the others are `False`\n",
        "- `<condition 1>` is `True` but the others are `False`\n",
        "- `<condition 1>`, `<condition 2>`, and `<condition 3>` are all `False`\n",
        "\n",
        "Test out your ideas in the next cell!\n"
      ]
    },
    {
      "cell_type": "code",
      "metadata": {
        "id": "drfy-fPvVOKp",
        "colab_type": "code",
        "outputId": "2daa9678-9b03-423c-cd29-382a7b46d661",
        "colab": {
          "base_uri": "https://localhost:8080/",
          "height": 136
        }
      },
      "source": [
        "#play around with these values\n",
        "cond1 = True\n",
        "cond2 = False\n",
        "cond3 = False\n",
        "\n",
        "body1 = lambda: print('body 1 ran...') #we'll explore this syntax in a later tutorial...\n",
        "body2 = lambda: print('body 2 ran...')\n",
        "body3 = lambda: print('body 3 ran...')\n",
        "body4 = lambda: print('body 4 ran...')\n",
        "\n",
        "#block 1\n",
        "print('Executing block 1')\n",
        "if cond1:\n",
        "  body1()\n",
        "elif cond2:\n",
        "  body2()\n",
        "elif cond3:\n",
        "  body3()\n",
        "else:\n",
        "  body4()\n",
        "\n",
        "#block 2\n",
        "print('\\n\\nExecuting block 2') #\\n is the \"newline\" character\n",
        "if cond1:\n",
        "  body1()\n",
        "if cond2:\n",
        "  body2()\n",
        "if cond3:\n",
        "  body3()\n",
        "else:\n",
        "  body4()"
      ],
      "execution_count": 0,
      "outputs": [
        {
          "output_type": "stream",
          "text": [
            "Executing block 1\n",
            "body 1 ran...\n",
            "\n",
            "\n",
            "Executing block 2\n",
            "body 1 ran...\n",
            "body 4 ran...\n"
          ],
          "name": "stdout"
        }
      ]
    },
    {
      "cell_type": "markdown",
      "metadata": {
        "id": "jXPfmaEBYWUa",
        "colab_type": "text"
      },
      "source": [
        "# Order of operations for binary operators\n",
        "\n",
        "Consider the following statement:\n",
        "```\n",
        "a and b\n",
        "```\n",
        "\n",
        "This will evaluate to `True` if (and only if) both `a` and `b` are `True`.  Suppose we know that `a` is `False`.  Then there is no way for the full statement to be `True` .  Therefore there is no need to evaluate or consider `b`-- we already know that the full statement will evaluate to `False` no matter what `b` evaluates to.  If evaluating `b` entailed carrying out a time-consuming calculation, skipping over the evaluation of `b` could be consequential.\n",
        "\n",
        "A similar logic applies to `or` statements.  For example, in the statement\n",
        "```\n",
        "a or b\n",
        "```\n",
        "if `a` is `True`, then we know the entire statement must be `True` no matter what `b` is.\n",
        "\n",
        "In general, Python evaluates `and` and `or` statements from left to right.  In an `and` statment, if any conditionals are `False`, the entire evaluation is aborted (without evaluating any statements that are further to the right) and the full statement evaluates to `False`.  Similarly, in an `or` statement, if any conditionals evaluate to `True`, further evaluation is aborted and the entire statment evaluates to `True`.\n",
        "\n",
        "In more complex logic statements, `and`, `or`, and `not` may be combined into longer sequences; e.g.:\n",
        "```\n",
        "(a or b) and (c or d) or (not (e and f and g)\n",
        "```\n",
        "\n",
        "## Pro tip\n",
        "\n",
        "Sometimes the process of evaluating some part of a given conditional statement may only be well-defined (i.e., not lead to an error or crash) under a subset of supported use cases.  For example, consider the following statement:\n",
        "```\n",
        "is_string(x) or (convert_to_int(x) >= 3) or (x(7) == 12.345)\n",
        "```\n",
        "\n",
        "If `x` is the string `'hello'`, the statement will evaluate to `True` because the first conditional is satisfied.  It is important that the subsequent conditionals *aren't* evaluated, because typcasting `'hello'` into an `int` (second conditional), or trying to treat `x` as a function (third conditional) would have thrown an error.\n",
        "\n",
        "Now consider if `x` had been a non-string datatype that could be typecasted into an `int`.  (For this example, imagine that `convert_to_int(x)` is a \"safe\" version of `int(x)` that didn't crash even if `x` couldn't be typecased into an `int`.)  Then the first conditional would evaluate to `False`, and the second conditional (typecasting `x` into an `int` and comparing its value to 3) could be evaluated.  If `x` were greater than or equal to 3, the second conditional would evaluate to `True` and the third conditional wouldn't be evaluated.  By contrast, if `convert_to_int(x)` were less than 3, then this could potentially cause an error when the third conditional was evaluated (and `x` was treated as a function).\n",
        "\n",
        "Finally, consider if `x` was a function that accepted scalar inputs (e.g. variables of type `int`, `float`, etc.).  The first two conditionals would evalute to `False`, and the third conditional would be evaluated.\n",
        "\n",
        "This example, while contrived, illustrates how considering the order of operations of binary operators can provide a compact way of supporting a variety of data types within a single statement.\n"
      ]
    },
    {
      "cell_type": "markdown",
      "metadata": {
        "id": "tOjexbRdiskK",
        "colab_type": "text"
      },
      "source": [
        "# A deeper dive into loops\n",
        "\n",
        "In the [introduction to programming in Python](https://colab.research.google.com/github/ContextLab/cs-for-psych/blob/master/slides/module_1/intro_to_python.ipynb) we encountered loops as a means of executing the same instructions multiple times.  Here we'll do some more in-depth explorations of loops in order to discover additional functionality and approaches to implementing loops.\n",
        "\n",
        "## The `range` function\n",
        "\n",
        "When writing `for` loops, you'll likely often find that you want to execute the loop a fixed number of times.  Because `for` loops operate over the elements of a `list` object, writing a `for` loop requires also creating a `list`-like object.  Technically `for` loops operate over any [iterable](https://stackoverflow.com/questions/9884132/what-exactly-are-iterator-iterable-and-iteration) object, of which `list` objects are one example.  In brief, iterable objects generate sequences of values.\n",
        "\n",
        "In its most basic useage, the `range` function quickly creates a list of the specified length (`n`), comprising the integers from `0` to `n-1`:\n"
      ]
    },
    {
      "cell_type": "code",
      "metadata": {
        "id": "ZsEACGPCsb2S",
        "colab_type": "code",
        "outputId": "e555129f-a8d3-4f81-b430-d747ecb103a5",
        "colab": {
          "base_uri": "https://localhost:8080/",
          "height": 34
        }
      },
      "source": [
        "range(10)"
      ],
      "execution_count": 0,
      "outputs": [
        {
          "output_type": "execute_result",
          "data": {
            "text/plain": [
              "range(0, 10)"
            ]
          },
          "metadata": {
            "tags": []
          },
          "execution_count": 3
        }
      ]
    },
    {
      "cell_type": "markdown",
      "metadata": {
        "id": "orzvXJtrt7rx",
        "colab_type": "text"
      },
      "source": [
        "To see what `range(0, 10)` means, we can typecast the object into a `list`:"
      ]
    },
    {
      "cell_type": "code",
      "metadata": {
        "id": "e6iM_AuEuDAJ",
        "colab_type": "code",
        "outputId": "63963b8a-00e8-4e74-8e1a-045fb77f6002",
        "colab": {
          "base_uri": "https://localhost:8080/",
          "height": 34
        }
      },
      "source": [
        "list(range(10))"
      ],
      "execution_count": 0,
      "outputs": [
        {
          "output_type": "execute_result",
          "data": {
            "text/plain": [
              "[0, 1, 2, 3, 4, 5, 6, 7, 8, 9]"
            ]
          },
          "metadata": {
            "tags": []
          },
          "execution_count": 4
        }
      ]
    },
    {
      "cell_type": "markdown",
      "metadata": {
        "id": "ODOOI2i9uFp7",
        "colab_type": "text"
      },
      "source": [
        "The `range` function also supports arbitrary (integer) start values (default: 0) and step sizes (default: 1).  For example:"
      ]
    },
    {
      "cell_type": "code",
      "metadata": {
        "id": "H6GePTtcuQdU",
        "colab_type": "code",
        "outputId": "50e6ee48-836b-48a1-f03b-e74af879eed5",
        "colab": {
          "base_uri": "https://localhost:8080/",
          "height": 51
        }
      },
      "source": [
        "print(list(range(5, 20))) #count from 5 to 19\n",
        "print(list(range(10, -5, -2))) #count backwards by 2 from 10 to -4"
      ],
      "execution_count": 0,
      "outputs": [
        {
          "output_type": "stream",
          "text": [
            "[5, 6, 7, 8, 9, 10, 11, 12, 13, 14, 15, 16, 17, 18, 19]\n",
            "[10, 8, 6, 4, 2, 0, -2, -4]\n"
          ],
          "name": "stdout"
        }
      ]
    },
    {
      "cell_type": "markdown",
      "metadata": {
        "id": "g5NkQnjxuyQX",
        "colab_type": "text"
      },
      "source": [
        "An example of how `range` may be used in a `for` loop is given below ([reference](https://www.youtube.com/watch?v=NgMdz2fe0CY)):"
      ]
    },
    {
      "cell_type": "code",
      "metadata": {
        "id": "rlFtnxIGu5e2",
        "colab_type": "code",
        "outputId": "988900d0-fa21-4625-f611-3c2f223282a6",
        "colab": {
          "base_uri": "https://localhost:8080/",
          "height": 187
        }
      },
      "source": [
        "for x in range(10):\n",
        "  print('All work and no play makes Jack a dull boy.')"
      ],
      "execution_count": 0,
      "outputs": [
        {
          "output_type": "stream",
          "text": [
            "All work and no play makes Jack a dull boy.\n",
            "All work and no play makes Jack a dull boy.\n",
            "All work and no play makes Jack a dull boy.\n",
            "All work and no play makes Jack a dull boy.\n",
            "All work and no play makes Jack a dull boy.\n",
            "All work and no play makes Jack a dull boy.\n",
            "All work and no play makes Jack a dull boy.\n",
            "All work and no play makes Jack a dull boy.\n",
            "All work and no play makes Jack a dull boy.\n",
            "All work and no play makes Jack a dull boy.\n"
          ],
          "name": "stdout"
        }
      ]
    },
    {
      "cell_type": "markdown",
      "metadata": {
        "id": "FB2FuQNGsaxq",
        "colab_type": "text"
      },
      "source": [
        "\n",
        "## The `pass` and `continue` keywords\n",
        "\n",
        "Suppose that we want the body of a loop *not* to execute in certain circumstances.  For example, let's say we wanted to write a function that would use a loop to print out the numbers from 1 to 10, *except* for numbers that were given as input to the function:\n"
      ]
    },
    {
      "cell_type": "code",
      "metadata": {
        "id": "hvrtbfA0yIHX",
        "colab_type": "code",
        "outputId": "24a27227-3e34-400d-d32b-1c03a43b85af",
        "colab": {
          "base_uri": "https://localhost:8080/",
          "height": 153
        }
      },
      "source": [
        "def print_1_to_10_except_input(x):\n",
        "  if not (type(x) == list):\n",
        "    x = [x]\n",
        "  \n",
        "  for i in range(1, 11):\n",
        "    if i in x:\n",
        "      pass #do nothing!\n",
        "    else:\n",
        "      print(i)\n",
        "\n",
        "print_1_to_10_except_input([1, 5])"
      ],
      "execution_count": 0,
      "outputs": [
        {
          "output_type": "stream",
          "text": [
            "2\n",
            "3\n",
            "4\n",
            "6\n",
            "7\n",
            "8\n",
            "9\n",
            "10\n"
          ],
          "name": "stdout"
        }
      ]
    },
    {
      "cell_type": "markdown",
      "metadata": {
        "id": "iRW1EkuBy5Us",
        "colab_type": "text"
      },
      "source": [
        "Here the `pass` keyword is acting like an \"empty\" instruction-- it counts as the body of the `if` statement, but the interpreter doesn't actually execute any instruction when it reads the `pass` line.\n",
        "\n",
        "The `continue` keyword works similarly.  However, whereas `pass` doesn't affect the execution of any code in the remainder of the body of the loop, `continue` immediately halts execution of the current loop and *continues* with the next iteration (incrementing the loop iterator value if it occurs in a `for` loop):"
      ]
    },
    {
      "cell_type": "code",
      "metadata": {
        "id": "oqi_VPc4zw2M",
        "colab_type": "code",
        "outputId": "6d47650a-1371-4434-b0c6-232944ccbed7",
        "colab": {
          "base_uri": "https://localhost:8080/",
          "height": 170
        }
      },
      "source": [
        "#print out a message saying whether i is even or odd-- except if i == 4\n",
        "for i in range(10):\n",
        "  if i == 4:\n",
        "    continue\n",
        "  \n",
        "  if i % 2 == 0:\n",
        "    print(i, 'is even')\n",
        "  else:\n",
        "    print(i, 'is odd')"
      ],
      "execution_count": 0,
      "outputs": [
        {
          "output_type": "stream",
          "text": [
            "0 is even\n",
            "1 is odd\n",
            "2 is even\n",
            "3 is odd\n",
            "5 is odd\n",
            "6 is even\n",
            "7 is odd\n",
            "8 is even\n",
            "9 is odd\n"
          ],
          "name": "stdout"
        }
      ]
    },
    {
      "cell_type": "markdown",
      "metadata": {
        "id": "HvU4yi1uyHRh",
        "colab_type": "text"
      },
      "source": [
        "# Error handling\n",
        "\n",
        "When you know your code may crash, Python includes a set of keywords that enable your program to either fail gracefully or continue executing.\n",
        "\n",
        "The `try` keyword allows you to define a block of \"risky\" code that you think might crash.  Python will execute the block of code in a sort of \"safe mode.\"  If a crash is encountered within a `try` block, the interpreter will back-track to the state of your program prior to the crash, then ignore everything following that line within the `try` block.  Several other keywords may be used in conjunction with `try` in order to enhance its functionality:\n",
        " - The `except` keyword following a `try` statement enables you to specify a particular error type (default: any error), and execute the given body of the `except` statement if (and only if) the specified error was encountered.  (An error in Python is also called an `Exception`.) `except` statements may occur in succession (similar to `elif` statements), e.g. to handle different types of errors.\n",
        " - The `finally` keyword defines a block of code that is executed regardless of whether an error has occurred and/or been handled.  Unlike `else` statements in `if`/`elif`/`else` blocks, the `finally` block is *always* executed (after the `try` and/or `except` blocks).\n",
        "\n",
        "Although `except` statements encapsulate all possible errors by default, it is good practice to specify which particular errors your code is intended to handle.  This can help you sort out whether the errors that were encountered were expected or not:\n"
      ]
    },
    {
      "cell_type": "code",
      "metadata": {
        "id": "hTP3BYqf5W9R",
        "colab_type": "code",
        "colab": {}
      },
      "source": [
        "def safe_int_converter(x):\n",
        "  try:\n",
        "    converted = int(x)\n",
        "  except ValueError:\n",
        "    print('I wasn\\'t sure how to compute this value:', x)\n",
        "    converted = None\n",
        "  except TypeError:\n",
        "    print('I wasn\\'t sure how to handle this datatype:', type(x))\n",
        "    converted = None\n",
        "  finally:\n",
        "    print('Conversion complete:', x, '-->', converted)\n",
        "  return converted"
      ],
      "execution_count": 0,
      "outputs": []
    },
    {
      "cell_type": "code",
      "metadata": {
        "id": "NWeiJcZBsFsa",
        "colab_type": "code",
        "outputId": "f74422e5-9c7a-41fc-8b92-4dabcfbdd137",
        "colab": {
          "base_uri": "https://localhost:8080/",
          "height": 187
        }
      },
      "source": [
        "safe_int_converter('three')\n",
        "safe_int_converter('3.0')\n",
        "safe_int_converter(3.0)\n",
        "safe_int_converter('3')\n",
        "safe_int_converter(None)\n",
        "safe_int_converter(['3'])"
      ],
      "execution_count": 0,
      "outputs": [
        {
          "output_type": "stream",
          "text": [
            "I wasn't sure how to compute this value: three\n",
            "Conversion complete: three --> None\n",
            "I wasn't sure how to compute this value: 3.0\n",
            "Conversion complete: 3.0 --> None\n",
            "Conversion complete: 3.0 --> 3\n",
            "Conversion complete: 3 --> 3\n",
            "I wasn't sure how to handle this datatype: <class 'NoneType'>\n",
            "Conversion complete: None --> None\n",
            "I wasn't sure how to handle this datatype: <class 'list'>\n",
            "Conversion complete: ['3'] --> None\n"
          ],
          "name": "stdout"
        }
      ]
    },
    {
      "cell_type": "markdown",
      "metadata": {
        "id": "yA6pb6EV7O5K",
        "colab_type": "text"
      },
      "source": [
        "# Raising errors and warnings\n",
        "\n",
        "Although it can be inconvenient when code crashes, in some circumstances it can actually be benefitial to trigger a crash (or display a warning message) rather than executing potentially dangerous or time-consuming code that is unlikely to yield the desired results:\n",
        "- The `raise` function manually triggers a crash.  The syntax `raise(Exception('<message>'))` causes the given message (specified as a string) to be printed out before the program's execution is halted.\n",
        "- The `warning` function outputs a message without triggering a crash.  In this way, `warning` is similar to the `print` function.  However, unlike calls to `print`, warnings triggered by the `warning` function can be muted.  Warnings also print to the console differently than printed strings.\n",
        "\n",
        "Consider the example function below, which asks the user to specify how many times to execute a `while` loop.  If the function determines that the loop will be infinite (e.g. if the input is poorly specified), a crash is triggered manually rather than entering into an infinite loop.  Similarly, if the loop is likely to take a long time to execute (more than a million iterations), we'll print out a warning to notify the user."
      ]
    },
    {
      "cell_type": "code",
      "metadata": {
        "id": "THNBpvRE5ov6",
        "colab_type": "code",
        "colab": {}
      },
      "source": [
        "from warnings import warn, simplefilter\n",
        "from math import isinf\n",
        "\n",
        "def looper(n):\n",
        "  '''\n",
        "  Use a while loop to add the integers from 0 to n-1\n",
        "  '''\n",
        "\n",
        "  if isinf(n) and (n > 0):\n",
        "    raise(Exception('Infinite loop avoided-- phew!'))\n",
        "  elif n >= 1e6:\n",
        "    warn('This might take a long time to run')\n",
        "  \n",
        "  sum = 0\n",
        "  while n > 0:\n",
        "    n = n - 1\n",
        "    sum = sum + n\n",
        "  return int(sum)"
      ],
      "execution_count": 0,
      "outputs": []
    },
    {
      "cell_type": "code",
      "metadata": {
        "id": "vuJx4cHl9PV9",
        "colab_type": "code",
        "outputId": "64f980ac-9be8-4837-ebda-1c791f1e7fa5",
        "colab": {
          "base_uri": "https://localhost:8080/",
          "height": 283
        }
      },
      "source": [
        "looper(float('inf'))"
      ],
      "execution_count": 10,
      "outputs": [
        {
          "output_type": "error",
          "ename": "Exception",
          "evalue": "ignored",
          "traceback": [
            "\u001b[0;31m---------------------------------------------------------------------------\u001b[0m",
            "\u001b[0;31mException\u001b[0m                                 Traceback (most recent call last)",
            "\u001b[0;32m<ipython-input-10-aafaed27287d>\u001b[0m in \u001b[0;36m<module>\u001b[0;34m()\u001b[0m\n\u001b[0;32m----> 1\u001b[0;31m \u001b[0mlooper\u001b[0m\u001b[0;34m(\u001b[0m\u001b[0mfloat\u001b[0m\u001b[0;34m(\u001b[0m\u001b[0;34m'inf'\u001b[0m\u001b[0;34m)\u001b[0m\u001b[0;34m)\u001b[0m\u001b[0;34m\u001b[0m\u001b[0;34m\u001b[0m\u001b[0m\n\u001b[0m",
            "\u001b[0;32m<ipython-input-9-218ba187c48c>\u001b[0m in \u001b[0;36mlooper\u001b[0;34m(n)\u001b[0m\n\u001b[1;32m      8\u001b[0m \u001b[0;34m\u001b[0m\u001b[0m\n\u001b[1;32m      9\u001b[0m   \u001b[0;32mif\u001b[0m \u001b[0misinf\u001b[0m\u001b[0;34m(\u001b[0m\u001b[0mn\u001b[0m\u001b[0;34m)\u001b[0m \u001b[0;32mand\u001b[0m \u001b[0;34m(\u001b[0m\u001b[0mn\u001b[0m \u001b[0;34m>\u001b[0m \u001b[0;36m0\u001b[0m\u001b[0;34m)\u001b[0m\u001b[0;34m:\u001b[0m\u001b[0;34m\u001b[0m\u001b[0;34m\u001b[0m\u001b[0m\n\u001b[0;32m---> 10\u001b[0;31m     \u001b[0;32mraise\u001b[0m\u001b[0;34m(\u001b[0m\u001b[0mException\u001b[0m\u001b[0;34m(\u001b[0m\u001b[0;34m'Infinite loop avoided-- phew!'\u001b[0m\u001b[0;34m)\u001b[0m\u001b[0;34m)\u001b[0m\u001b[0;34m\u001b[0m\u001b[0;34m\u001b[0m\u001b[0m\n\u001b[0m\u001b[1;32m     11\u001b[0m   \u001b[0;32melif\u001b[0m \u001b[0mn\u001b[0m \u001b[0;34m>=\u001b[0m \u001b[0;36m1e6\u001b[0m\u001b[0;34m:\u001b[0m\u001b[0;34m\u001b[0m\u001b[0;34m\u001b[0m\u001b[0m\n\u001b[1;32m     12\u001b[0m     \u001b[0mwarn\u001b[0m\u001b[0;34m(\u001b[0m\u001b[0;34m'This might take a long time to run'\u001b[0m\u001b[0;34m)\u001b[0m\u001b[0;34m\u001b[0m\u001b[0;34m\u001b[0m\u001b[0m\n",
            "\u001b[0;31mException\u001b[0m: Infinite loop avoided-- phew!"
          ]
        }
      ]
    },
    {
      "cell_type": "code",
      "metadata": {
        "id": "aKhNluUe9UMP",
        "colab_type": "code",
        "outputId": "738a4cd9-f6f9-4bca-8864-24abb11dcdcc",
        "colab": {
          "base_uri": "https://localhost:8080/",
          "height": 68
        }
      },
      "source": [
        "looper(1e7)"
      ],
      "execution_count": 11,
      "outputs": [
        {
          "output_type": "stream",
          "text": [
            "/usr/local/lib/python3.6/dist-packages/ipykernel_launcher.py:12: UserWarning: This might take a long time to run\n",
            "  if sys.path[0] == '':\n"
          ],
          "name": "stderr"
        },
        {
          "output_type": "execute_result",
          "data": {
            "text/plain": [
              "49999995000000"
            ]
          },
          "metadata": {
            "tags": []
          },
          "execution_count": 11
        }
      ]
    },
    {
      "cell_type": "code",
      "metadata": {
        "id": "pcMZ3K3X-ohp",
        "colab_type": "code",
        "colab": {
          "base_uri": "https://localhost:8080/",
          "height": 34
        },
        "outputId": "e9135d1e-df1e-44f1-e475-a38dd882ba32"
      },
      "source": [
        "looper(10)"
      ],
      "execution_count": 12,
      "outputs": [
        {
          "output_type": "execute_result",
          "data": {
            "text/plain": [
              "45"
            ]
          },
          "metadata": {
            "tags": []
          },
          "execution_count": 12
        }
      ]
    },
    {
      "cell_type": "markdown",
      "metadata": {
        "id": "Tb866_EY_gWv",
        "colab_type": "text"
      },
      "source": [
        "# Concluding remarks\n",
        "\n",
        "You've now encountered some \"intermediate\" Python concepts, albeit briefly.  The best way to solidify your learning is to practice!  Some ideas:\n",
        "- Write an [integer to binary converter](https://en.wikipedia.org/wiki/Binary_number#Binary_counting) that takes a positive integer (specified as a string) as input and returns a new string with the binary representation of that integer.\n",
        "- Write a function that takes a list of numbers as input and returns a sorted list (of the same numbers).\n",
        "- Write a function that computes the *unique* values in a list.  For example, the list `[0, 4, 3, 4, 2]` would turn into `[0, 4, 3, 2]`.\n",
        "- Write a function that returns the `nth` [prime number](https://en.wikipedia.org/wiki/Prime_number)."
      ]
    }
  ]
}