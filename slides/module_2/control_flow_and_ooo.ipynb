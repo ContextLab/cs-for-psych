{
  "nbformat": 4,
  "nbformat_minor": 0,
  "metadata": {
    "colab": {
      "name": "control_flow_and_ooo.ipynb",
      "provenance": [],
      "collapsed_sections": [],
      "include_colab_link": true
    },
    "kernelspec": {
      "name": "python3",
      "display_name": "Python 3"
    }
  },
  "cells": [
    {
      "cell_type": "markdown",
      "metadata": {
        "id": "view-in-github",
        "colab_type": "text"
      },
      "source": [
        "<a href=\"https://colab.research.google.com/github/ContextLab/cs-for-psych/blob/master/slides/module_2/control_flow_and_ooo.ipynb\" target=\"_parent\"><img src=\"https://colab.research.google.com/assets/colab-badge.svg\" alt=\"Open In Colab\"/></a>"
      ]
    },
    {
      "cell_type": "markdown",
      "metadata": {
        "id": "NeAPoqauJCwO",
        "colab_type": "text"
      },
      "source": [
        "# Control flow and order of operations\n",
        "\n",
        "In the [Introduction to Jupyter Notebooks and Python](https://colab.research.google.com/github/ContextLab/cs-for-psych/blob/master/slides/module_1/intro_to_python.ipynb) tutorial we introduced two types of control flow constructs:\n",
        "- `if`, `elif`, and `else` statements for selectively executing or skipping code according to whether a specified set of conditions is satisfied\n",
        "- `while` and `for` loops for repeating instructions while a given condition is satisfied and/or for a given number of times\n",
        "\n",
        "In that tutorial we also briefly reviewed the [order of operations](https://en.wikipedia.org/wiki/Order_of_operations) in which statements are combined and evaluated, in the context of mathmatical operators (`+`, `-`, `*`, `/`, etc.).\n",
        "\n",
        "In this notebook we'll explore some additional control flow instructions and strategies, and we will dig a bit deeper into some Python-specific aspects of the order of operations.  These concepts are central to designing efficient, functional, and readable code.  We will be interleaving the discussion of control flow and order of operations throughout the notebook, since both of these broad concepts are closely related.  Specifically, the order of operations is a key factor in determining how a program proceeds, which parts are executed, etc.\n",
        "\n",
        "# A deeper dive into `if`, `elif`, and `else`\n",
        "\n",
        "Consider the following two blocks of code:\n",
        "\n",
        "*Block 1:*\n",
        "```\n",
        "if <condition 1>:\n",
        "  <body 1>\n",
        "elif <condition 2>:\n",
        "  <body 2>\n",
        "elif <condition 3>:\n",
        "  <body 3>\n",
        "else:\n",
        "  <body 4>\n",
        "```\n",
        "\n",
        "*Block 2:*\n",
        "\n",
        "```\n",
        "if <condition 1>:\n",
        "  <body 1>\n",
        "if <condition 2>:\n",
        "  <body 2>\n",
        "if <condition 3>:\n",
        "  <body 3>\n",
        "else:\n",
        "  <body 4>\n",
        "```\n",
        "\n",
        "At first glance, both look similar.  In fact, often the two blocks of code may appear to perform identically (with respect to execution time and functionality).  However, it is important to note that the two blocks of code are **not** equivalent.  Let's break down each block line-by-line.\n",
        "\n",
        "In *Block 1*, the interpreter begins with the first if statement and evaluates `<condition 1>`.  This can be any statement or function call, as long as the statement (or function) evaluates to `True`, `False`, or something that can be typecasted into `True` or `False`.  The flexibility in syntax is worth appreciating.  For example, suppose that the function specified in the conditional statement took an hour to evaluate.  You'd need to wait an hour in order for the interpreter to determine whether the body of the if statement should run or not.  Because any given statement might take a long time to evaluate, it's important to consider when each statement will be executed.\n",
        "\n",
        "If `<condition 1>` is true, `<body 1>` executes and the `if-elif-else` block completes.  If instead `<condition 1>` isn't true, the interpreter next moves on to the first `elif` statement and evaluates `<condition 2>`.  This process continues:\n",
        "- if a given condition is true, the corresponding statements in the body of the `if` or `elif` statement are executed and no further conditions are evaluated\n",
        "- if a given condition is false, the interpreter moves on to evaluate the next condition\n",
        "- if all of the `if` and `elif` conditions are false, the body of the `else` statement is executed.\n",
        "\n",
        "In *Block 2* things work a little differently.  Like in *Block 1*, the interpreter first evaluates `<condition 1>`, and runs `<body 1>` if that conditional is true.  However, regardless of whether `<condition 1>` is true, in *Block 2* (because the second statement is an `if` statement rather than an `elif` statement), the second `if` statement will *always* be evaluated.  This is also true of the third and fourth `if` statements in *Block 2*.  Finally, the body of the `else` statement in *Block 2* will be executed as long as `<condition 3>` is false-- regardless of whether the other conditions are true or false.\n",
        "\n",
        "If each condition is mutually exclusive (i.e., at most one condition can be true at a time), both blocks will behave identically.  However, if two or more conditions may be true simultaneously, the two code blocks will diverge.  For example, suppose that both `<condition 1>` and `<condition 2>` are true:\n",
        "  - In *Block 1* only `<body 1>` will be executed, and `<condition 2>` (and beyond) will never be evaluated.\n",
        "  - In *Block 2*, both `<body 1>` and `<body 2>` will be executed, and both `<condition 1>` and `<condition 2>` will be evaluated.  Further, `<body 4>` will also be evaluated, because the `else` statement in *Block 2* refers to the *third if statement*-- i.e. it runs if `<condition 3>` is false, no matter what the other conditions evaluate to.\n",
        "\n",
        "Consider how the two blocks of code will behave under other scenarios:\n",
        "- `<condition 1>`, `<condition 2>`, and `<condition 3>` are all `True`\n",
        "- `<condition 3>` is `True` but the others are `False`\n",
        "- `<condition 1>` is `True` but the others are `False`\n",
        "- `<condition 1>`, `<condition 2>`, and `<condition 3>` are all `False`\n",
        "\n",
        "Test out your ideas in the next cell!\n"
      ]
    },
    {
      "cell_type": "code",
      "metadata": {
        "id": "drfy-fPvVOKp",
        "colab_type": "code",
        "colab": {
          "base_uri": "https://localhost:8080/",
          "height": 136
        },
        "outputId": "2daa9678-9b03-423c-cd29-382a7b46d661"
      },
      "source": [
        "#play around with these values\n",
        "cond1 = True\n",
        "cond2 = False\n",
        "cond3 = False\n",
        "\n",
        "body1 = lambda: print('body 1 ran...') #we'll explore this syntax in a later tutorial...\n",
        "body2 = lambda: print('body 2 ran...')\n",
        "body3 = lambda: print('body 3 ran...')\n",
        "body4 = lambda: print('body 4 ran...')\n",
        "\n",
        "#block 1\n",
        "print('Executing block 1')\n",
        "if cond1:\n",
        "  body1()\n",
        "elif cond2:\n",
        "  body2()\n",
        "elif cond3:\n",
        "  body3()\n",
        "else:\n",
        "  body4()\n",
        "\n",
        "#block 2\n",
        "print('\\n\\nExecuting block 2') #\\n is the \"newline\" character\n",
        "if cond1:\n",
        "  body1()\n",
        "if cond2:\n",
        "  body2()\n",
        "if cond3:\n",
        "  body3()\n",
        "else:\n",
        "  body4()"
      ],
      "execution_count": 4,
      "outputs": [
        {
          "output_type": "stream",
          "text": [
            "Executing block 1\n",
            "body 1 ran...\n",
            "\n",
            "\n",
            "Executing block 2\n",
            "body 1 ran...\n",
            "body 4 ran...\n"
          ],
          "name": "stdout"
        }
      ]
    },
    {
      "cell_type": "markdown",
      "metadata": {
        "id": "jXPfmaEBYWUa",
        "colab_type": "text"
      },
      "source": [
        "# Order of operations for binary operators\n",
        "\n",
        "Consider the following statement:\n",
        "```\n",
        "a and b\n",
        "```\n",
        "\n",
        "This will evaluate to `True` if (and only if) both `a` and `b` are `True`.  Suppose we know that `a` is `False`.  Then there is no way for the full statement to be `True` .  Therefore there is no need to evaluate or consider `b`-- we already know that the full statement will evaluate to `False` no matter what `b` evaluates to.  If evaluating `b` entailed carrying out a time-consuming calculation, skipping over the evaluation of `b` could be consequential.\n",
        "\n",
        "A similar logic applies to `or` statements.  For example, in the statement\n",
        "```\n",
        "a or b\n",
        "```\n",
        "if `a` is `True`, then we know the entire statement must be `True` no matter what `b` is.\n",
        "\n",
        "In general, Python evaluates `and` and `or` statements from left to right.  In an `and` statment, if any conditionals are `False`, the entire evaluation is aborted (without evaluating any statements that are further to the right) and the full statement evaluates to `False`.  Similarly, in an `or` statement, if any conditionals evaluate to `True`, further evaluation is aborted and the entire statment evaluates to `True`.\n",
        "\n",
        "In more complex logic statements, `and`, `or`, and `not` may be combined into longer sequences; e.g.:\n",
        "```\n",
        "(a or b) and (c or d) or (not (e and f and g)\n",
        "```\n",
        "\n",
        "## Pro tip\n",
        "\n",
        "Sometimes the process of evaluating some part of a given conditional statement may only be well-defined (i.e., not lead to an error or crash) under a subset of supported use cases.  For example, consider the following statement:\n",
        "```\n",
        "is_string(x) or (convert_to_int(x) >= 3) or (x(7) == 12.345)\n",
        "```\n",
        "\n",
        "If `x` is the string `'hello'`, the statement will evaluate to `True` because the first conditional is satisfied.  It is important that the subsequent conditionals *aren't* evaluated, because typcasting `'hello'` into an `int` (second conditional), or trying to treat `x` as a function (third conditional) would have thrown an error.\n",
        "\n",
        "Now consider if `x` had been a non-string datatype that could be typecasted into an `int`.  (For this example, imagine that `convert_to_int(x)` is a \"safe\" version of `int(x)` that didn't crash even if `x` couldn't be typecased into an `int`.)  Then the first conditional would evaluate to `False`, and the second conditional (typecasting `x` into an `int` and comparing its value to 3) could be evaluated.  If `x` were greater than or equal to 3, the second conditional would evaluate to `True` and the third conditional wouldn't be evaluated.  By contrast, if `convert_to_int(x)` were less than 3, then this could potentially cause an error when the third conditional was evaluated (and `x` was treated as a function).\n",
        "\n",
        "Finally, consider if `x` was a function that accepted scalar inputs (e.g. variables of type `int`, `float`, etc.).  The first two conditionals would evalute to `False`, and the third conditional would be evaluated.\n",
        "\n",
        "This example, while contrived, illustrates how considering the order of operations of binary operators can provide a compact way of supporting a variety of data types within a single statement.\n"
      ]
    },
    {
      "cell_type": "markdown",
      "metadata": {
        "id": "tOjexbRdiskK",
        "colab_type": "text"
      },
      "source": [
        "# Loops\n",
        "\n",
        "- pass statements\n",
        "- continue statements\n",
        "- infinite loops\n",
        "- iterators\n",
        "\n",
        "\n",
        "# Error handling\n",
        "- try/catch/except\n",
        "- raise\n",
        "- warnings\n"
      ]
    }
  ]
}