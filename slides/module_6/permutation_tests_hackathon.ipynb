{
  "nbformat": 4,
  "nbformat_minor": 0,
  "metadata": {
    "colab": {
      "name": "cracking_the_code.ipynb",
      "provenance": [],
      "collapsed_sections": [
        "hq-IA2MqcN7Y"
      ],
      "toc_visible": true,
      "authorship_tag": "ABX9TyNFiI3XJExgWnLA90Lma9w+",
      "include_colab_link": true
    },
    "kernelspec": {
      "name": "python3",
      "display_name": "Python 3"
    }
  },
  "cells": [
    {
      "cell_type": "markdown",
      "metadata": {
        "id": "view-in-github",
        "colab_type": "text"
      },
      "source": [
        "<a href=\"https://colab.research.google.com/github/ContextLab/cs-for-psych/blob/master/slides/module_6/permutation_tests_hackathon.ipynb\" target=\"_parent\"><img src=\"https://colab.research.google.com/assets/colab-badge.svg\" alt=\"Open In Colab\"/></a>"
      ]
    },
    {
      "cell_type": "markdown",
      "metadata": {
        "id": "1aKpWiQ99H2R"
      },
      "source": [
        "# Codebreaking using permutation tests\n",
        "\n",
        "Congratulations, this is the day you've been waiting for: it's time for you to upgrade your [5K1ll5](https://www.urbandictionary.com/define.php?term=5K1ll3d) by becoming a [*1337 H4X0R*](https://www.urbandictionary.com/define.php?term=1337%20h4x0r)!\n",
        "\n",
        "![hacking](https://i.giphy.com/media/3oEjHWbXcpeKhTktXi/giphy.webp)\n",
        "\n",
        "At [this point in our course](https://github.com/ContextLab/cs-for-psych/tree/master/slides#module-6-interrogating-your-data), you're now well-acquainted with the fundamentals of Python, and you've gotten practice with some really [powerful libraries](https://github.com/ContextLab/cs-for-psych/tree/master/slides#module-4-external-libraries).  Now it's time to put your knowledge and skills to the test by doing some simple code-breaking (and learning about permutation tests at the same time).\n",
        "\n",
        "## Overview\n",
        "\n",
        "We'll be implementing a simple encryption/decryption system, and then using permutation tests to \"break\" each other's encrypted messages.\n",
        "\n",
        "First let's load in some useful libraries and a character lookup table:"
      ]
    },
    {
      "cell_type": "code",
      "metadata": {
        "colab": {
          "base_uri": "https://localhost:8080/",
          "height": 238
        },
        "id": "7bT94loiqd6v",
        "outputId": "774c5b34-c03c-4f38-cbb2-e56545c73593"
      },
      "source": [
        "import numpy as np\n",
        "import pandas as pd\n",
        "from matplotlib import pyplot as plt\n",
        "\n",
        "ascii_table = pd.read_csv('https://raw.githubusercontent.com/ContextLab/cs-for-psych/master/slides/module_6/ascii_table.csv', dtype=str)\n",
        "ascii_table['ascii code'] = ascii_table['ascii code'].apply(int)\n",
        "ascii_table.set_index('ascii code', inplace=True)\n",
        "ascii_table.sort_index(inplace=True)\n",
        "\n",
        "ascii_table.head()"
      ],
      "execution_count": 145,
      "outputs": [
        {
          "output_type": "execute_result",
          "data": {
            "text/html": [
              "<div>\n",
              "<style scoped>\n",
              "    .dataframe tbody tr th:only-of-type {\n",
              "        vertical-align: middle;\n",
              "    }\n",
              "\n",
              "    .dataframe tbody tr th {\n",
              "        vertical-align: top;\n",
              "    }\n",
              "\n",
              "    .dataframe thead th {\n",
              "        text-align: right;\n",
              "    }\n",
              "</style>\n",
              "<table border=\"1\" class=\"dataframe\">\n",
              "  <thead>\n",
              "    <tr style=\"text-align: right;\">\n",
              "      <th></th>\n",
              "      <th>character</th>\n",
              "      <th>binary</th>\n",
              "    </tr>\n",
              "    <tr>\n",
              "      <th>ascii code</th>\n",
              "      <th></th>\n",
              "      <th></th>\n",
              "    </tr>\n",
              "  </thead>\n",
              "  <tbody>\n",
              "    <tr>\n",
              "      <th>32</th>\n",
              "      <td></td>\n",
              "      <td>00100000</td>\n",
              "    </tr>\n",
              "    <tr>\n",
              "      <th>33</th>\n",
              "      <td>!</td>\n",
              "      <td>00100001</td>\n",
              "    </tr>\n",
              "    <tr>\n",
              "      <th>45</th>\n",
              "      <td>-</td>\n",
              "      <td>00101101</td>\n",
              "    </tr>\n",
              "    <tr>\n",
              "      <th>46</th>\n",
              "      <td>.</td>\n",
              "      <td>00101110</td>\n",
              "    </tr>\n",
              "    <tr>\n",
              "      <th>65</th>\n",
              "      <td>A</td>\n",
              "      <td>01000001</td>\n",
              "    </tr>\n",
              "  </tbody>\n",
              "</table>\n",
              "</div>"
            ],
            "text/plain": [
              "           character    binary\n",
              "ascii code                    \n",
              "32                    00100000\n",
              "33                 !  00100001\n",
              "45                 -  00101101\n",
              "46                 .  00101110\n",
              "65                 A  01000001"
            ]
          },
          "metadata": {
            "tags": []
          },
          "execution_count": 145
        }
      ]
    },
    {
      "cell_type": "markdown",
      "metadata": {
        "id": "8jfwUjMmaKEt"
      },
      "source": [
        "\n",
        "## Encoding (and encrypting) messages\n",
        "\n",
        "We'll use a simple algorithm to encrypt a message, encoded as a string of human-readable characters (all of this is provided for you in the `encode` function):\n",
        "1. Turn the string of human-readable characters into a binary sequence (i.e., a sequence of 0s and 1s).  Each character is represented by one byte (a sequence of 8 bits-- i.e., 0s and 1s).\n",
        "2. [Circularly shift](https://en.wikipedia.org/wiki/Circular_shift) the binary sequence by some number of positions, $k$ ($k$ will be your encryption key).\n",
        "\n",
        "The idea of applying a circular shift is to move each element in the sequence ahead by $k$ positions.  Then, for the last $k$ elements, loop their positions around back to the front of the sequence.  Here's a schematic of what it looks like to circularly shift a sequence of 8 bits forward by 1 position:\n",
        "\n",
        "![circular shift](https://upload.wikimedia.org/wikipedia/commons/3/37/Rotate_right.svg)\n",
        "\n",
        "This results in a new \"scrambled\" binary sequence.\n",
        "\n",
        "**_Important note_: the lookup table (for converting characters to bytes) may not include every character in the message.  If a character is missing from the lookup table, the encoder will generate a *random* set of 8 0s and 1s for that character.**\n"
      ]
    },
    {
      "cell_type": "code",
      "metadata": {
        "id": "C0U6St84woeQ"
      },
      "source": [
        "def circshift(s, shift):\n",
        "  shift %= len(s) #think about what this line does and why it's needed...\n",
        "  return s[shift:] + s[:shift]"
      ],
      "execution_count": 172,
      "outputs": []
    },
    {
      "cell_type": "code",
      "metadata": {
        "id": "2og2lZI2tDYz"
      },
      "source": [
        "def encode(msg, encrypt_key=0):\n",
        "  x = ''\n",
        "  for c in msg:\n",
        "    try:\n",
        "      x += ascii_table.query(f'character == \"{c}\"')['binary'].values[0]\n",
        "    except: #generate a random sequence of 0s and 1s\n",
        "      n = np.random.randint(8) + 1 #number of 1s\n",
        "      chars = [*(['1'] * n), *(['0'] * (8 - n))]\n",
        "      x += ''.join(np.random.permutation(chars).tolist())\n",
        "  \n",
        "  return circshift(x, encrypt_key)"
      ],
      "execution_count": 173,
      "outputs": []
    },
    {
      "cell_type": "markdown",
      "metadata": {
        "id": "pmGxHiDhaZRS"
      },
      "source": [
        "\n",
        "## Decoding (and decrypting) messages\n",
        "\n",
        "If you knew the encrypted string's key, you could simply:\n",
        "1. Apply a circular shift of $-k$ to offset the \"encryption\"\n",
        "2. Break the sequence into bytes\n",
        "3. Use a reverse lookup table to turn each byte back into a human-readable character\n",
        "\n",
        "I've provided the `decode` function below for convenience.  Given an encrypted message and an encryption key, the function attempts to use the character lookup table to replace each byte in the message with a human-readable character.  If no valid character is found, any illegal byte sequences are replaced with \"\\*\".\n",
        "\n",
        "The challenge is that, in this exercise, you *won't* always know the encryption key.\n"
      ]
    },
    {
      "cell_type": "code",
      "metadata": {
        "id": "I5q4Odwouldh"
      },
      "source": [
        "def decode(x, encrypt_key=0):\n",
        "  msg = ''\n",
        "  for c in [''.join(b) for b in np.split(np.array(list(circshift(x, -encrypt_key))), len(x) / 8)]:\n",
        "    try:\n",
        "      msg += ascii_table.query(f'binary == \"{c}\"')['character'].values[0]\n",
        "    except:\n",
        "      msg += '*'\n",
        "  return msg"
      ],
      "execution_count": 142,
      "outputs": []
    },
    {
      "cell_type": "markdown",
      "metadata": {
        "id": "hq-IA2MqcN7Y"
      },
      "source": [
        "\n",
        "## Code breaking\n",
        "\n",
        "Your first job is to write a function, `decrypt`, to reliably(!) decrypt a message containing the characters a--z (lowercase letters), A--Z (uppercase letters), and some basic punctuation (!, -, ., and \" \").  You can assume that the original message would make sense (e.g., to a fluent English speaker).\n",
        "\n",
        "Next, you'll use the decryption function (or snippets from it) to create a permutation test of whether a given message was encrypted with a specific key.  You should implement "
      ]
    },
    {
      "cell_type": "code",
      "metadata": {
        "id": "jcNCLjMOcNch"
      },
      "source": [
        "def decrypt(x):\n",
        "  ### BEGIN YOUR CODE\n",
        "  pass\n",
        "  ### END YOUR CODE\n",
        "  return msg #best guess at decoded message"
      ],
      "execution_count": null,
      "outputs": []
    },
    {
      "cell_type": "code",
      "metadata": {
        "id": "PcMwEdsvc_0Q"
      },
      "source": [
        "def permutation_test(x, encrypt_key):\n",
        "  ### BEGIN YOUR CODE\n",
        "  pass\n",
        "  ### END YOUR CODE\n",
        "  return p #p-value (estimated probability that the given encrypt_key is *not* correct)"
      ],
      "execution_count": null,
      "outputs": []
    },
    {
      "cell_type": "markdown",
      "metadata": {
        "id": "1k3GqRz-dHkB"
      },
      "source": [
        "# Some examples to get you started\n",
        "\n",
        "Let's explore a few simple examples to explore how `encode` and `decode` work.  We'll start by using an encryption key of 5 to encode and encrypt the string `'this is a test'`:"
      ]
    },
    {
      "cell_type": "code",
      "metadata": {
        "colab": {
          "base_uri": "https://localhost:8080/"
        },
        "id": "ZgwI9NDT7dzw",
        "outputId": "ac6341c2-6d1d-4324-9190-6773f9bcd4c7"
      },
      "source": [
        "test_message = 'this is a test'\n",
        "key = 5\n",
        "encrypted_message = encode(test_message, encrypt_key=key)\n",
        "print(encrypted_message)"
      ],
      "execution_count": 175,
      "outputs": [
        {
          "output_type": "stream",
          "text": [
            "1000110100001101001011100110010000001101001011100110010000001100001001000000111010001100101011100110111010001110\n"
          ],
          "name": "stdout"
        }
      ]
    },
    {
      "cell_type": "markdown",
      "metadata": {
        "id": "R5yqzaD3eJ03"
      },
      "source": [
        "If we try to decode the encrypted message with the wrong key, we get gibberish:"
      ]
    },
    {
      "cell_type": "code",
      "metadata": {
        "colab": {
          "base_uri": "https://localhost:8080/"
        },
        "id": "AJ3cfKw0eQ8b",
        "outputId": "dcc0ef39-b9cb-463c-c642-8c6ab7608955"
      },
      "source": [
        "guess = 0\n",
        "print(decode(encrypted_message, encrypt_key=guess))"
      ],
      "execution_count": 180,
      "outputs": [
        {
          "output_type": "stream",
          "text": [
            "**.d*.d*****n*\n"
          ],
          "name": "stdout"
        }
      ]
    },
    {
      "cell_type": "markdown",
      "metadata": {
        "id": "PdH-xVh9eegd"
      },
      "source": [
        "But if we decode the encrypted message with the correct key, we get back the original message:"
      ]
    },
    {
      "cell_type": "code",
      "metadata": {
        "colab": {
          "base_uri": "https://localhost:8080/"
        },
        "id": "nNC6ciVtejDL",
        "outputId": "464a60bb-f1f7-40c9-e292-631ba5eced38"
      },
      "source": [
        "print(decode(encrypted_message, encrypt_key=key))"
      ],
      "execution_count": 181,
      "outputs": [
        {
          "output_type": "stream",
          "text": [
            "this is a test\n"
          ],
          "name": "stdout"
        }
      ]
    },
    {
      "cell_type": "markdown",
      "metadata": {
        "id": "gW4jUe7geomf"
      },
      "source": [
        "We can also add in some \"illegal\" characters that aren't in the lookup table, to see how that can make things more...interesting:"
      ]
    },
    {
      "cell_type": "code",
      "metadata": {
        "colab": {
          "base_uri": "https://localhost:8080/",
          "height": 36
        },
        "id": "gOWoNDWrGtLt",
        "outputId": "b5d3f396-4777-4e54-d77c-d966ce7d3db6"
      },
      "source": [
        "decode(encode('Is this a test? Or is this just practice? Or both!?'))"
      ],
      "execution_count": 182,
      "outputs": [
        {
          "output_type": "execute_result",
          "data": {
            "application/vnd.google.colaboratory.intrinsic+json": {
              "type": "string"
            },
            "text/plain": [
              "'Is this a testw Or is this just practice* Or both!*'"
            ]
          },
          "metadata": {
            "tags": []
          },
          "execution_count": 182
        }
      ]
    },
    {
      "cell_type": "markdown",
      "metadata": {
        "id": "QdXXrTEtmx1E"
      },
      "source": [
        "# Now for some \"real\" messages...\n",
        "\n",
        "I've encrypted a set of 83 messages using a new randomly selected encryption key for each message:"
      ]
    },
    {
      "cell_type": "code",
      "metadata": {
        "colab": {
          "base_uri": "https://localhost:8080/",
          "height": 206
        },
        "id": "9bujENyYmZcI",
        "outputId": "8b3191aa-1dab-409a-9dcb-d535cbe11f6c"
      },
      "source": [
        "encrypted = pd.read_csv('https://raw.githubusercontent.com/ContextLab/cs-for-psych/master/slides/module_6/encrypted.csv').drop(['Unnamed: 0'], axis=1)\n",
        "encrypted.head()"
      ],
      "execution_count": 231,
      "outputs": [
        {
          "output_type": "execute_result",
          "data": {
            "text/html": [
              "<div>\n",
              "<style scoped>\n",
              "    .dataframe tbody tr th:only-of-type {\n",
              "        vertical-align: middle;\n",
              "    }\n",
              "\n",
              "    .dataframe tbody tr th {\n",
              "        vertical-align: top;\n",
              "    }\n",
              "\n",
              "    .dataframe thead th {\n",
              "        text-align: right;\n",
              "    }\n",
              "</style>\n",
              "<table border=\"1\" class=\"dataframe\">\n",
              "  <thead>\n",
              "    <tr style=\"text-align: right;\">\n",
              "      <th></th>\n",
              "      <th>message</th>\n",
              "    </tr>\n",
              "  </thead>\n",
              "  <tbody>\n",
              "    <tr>\n",
              "      <th>0</th>\n",
              "      <td>1100001001000000110001001101111011011110110101...</td>\n",
              "    </tr>\n",
              "    <tr>\n",
              "      <th>1</th>\n",
              "      <td>1100101011101000111010101101110011010010110000...</td>\n",
              "    </tr>\n",
              "    <tr>\n",
              "      <th>2</th>\n",
              "      <td>1000010110111001100100001000000110000101101110...</td>\n",
              "    </tr>\n",
              "    <tr>\n",
              "      <th>3</th>\n",
              "      <td>1100110011100100000011101000110111100100000011...</td>\n",
              "    </tr>\n",
              "    <tr>\n",
              "      <th>4</th>\n",
              "      <td>0011010010110000100101110001000000100100001101...</td>\n",
              "    </tr>\n",
              "  </tbody>\n",
              "</table>\n",
              "</div>"
            ],
            "text/plain": [
              "                                             message\n",
              "0  1100001001000000110001001101111011011110110101...\n",
              "1  1100101011101000111010101101110011010010110000...\n",
              "2  1000010110111001100100001000000110000101101110...\n",
              "3  1100110011100100000011101000110111100100000011...\n",
              "4  0011010010110000100101110001000000100100001101..."
            ]
          },
          "metadata": {
            "tags": []
          },
          "execution_count": 231
        }
      ]
    },
    {
      "cell_type": "markdown",
      "metadata": {
        "id": "Ak89hyKjnQK8"
      },
      "source": [
        "Can you recover the keys and decode the messages?  Good luck!"
      ]
    }
  ]
}