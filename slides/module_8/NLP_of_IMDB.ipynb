{
  "nbformat": 4,
  "nbformat_minor": 0,
  "metadata": {
    "colab": {
      "name": "NLP_of_IMDB.ipynb",
      "provenance": [],
      "collapsed_sections": [],
      "toc_visible": true,
      "authorship_tag": "ABX9TyOFtS+tG3XuVGIcL62z4DO2",
      "include_colab_link": true
    },
    "kernelspec": {
      "name": "python3",
      "display_name": "Python 3"
    }
  },
  "cells": [
    {
      "cell_type": "markdown",
      "metadata": {
        "id": "view-in-github",
        "colab_type": "text"
      },
      "source": [
        "<a href=\"https://colab.research.google.com/github/ContextLab/cs-for-psych/blob/master/slides/module_8/NLP_of_IMDB.ipynb\" target=\"_parent\"><img src=\"https://colab.research.google.com/assets/colab-badge.svg\" alt=\"Open In Colab\"/></a>"
      ]
    },
    {
      "cell_type": "markdown",
      "metadata": {
        "id": "cF2LeVbI7i07"
      },
      "source": [
        "# Natural Language Processing of movie reviews\n",
        "\n",
        "<img src='https://hips.hearstapps.com/pop.h-cdn.co/assets/16/19/1462894749-ibm-tape-bot.gif'>\n",
        "\n",
        "The [Internet Movie Database (IMDB)](https://en.wikipedia.org/wiki/IMDb) is an online database containing reviews, video clips, and other information about millions of movies, television shows, video games, and other media content.\n",
        "\n",
        "In this exercise we'll be using [Natural Language Processing (NLP)](https://en.wikipedia.org/wiki/Natural_language_processing) approaches to analyze IMDB movie reviews.\n",
        "\n",
        "The main libraries we'll be leveraging are:\n",
        "  - [scikit-learn](https://en.wikipedia.org/wiki/Natural_language_processing): a machine learning library that includes implementations of some NLP models and approaches\n",
        "  - [tensorflow](https://www.tensorflow.org/): a library for implementing and fitting deep learning models; here we'll be using tensorflow as an interface for loading in some pre-trained models\n",
        "  - [gensim](https://radimrehurek.com/gensim/): NLP library with good (and fast!) implementations of many interesting models; also contains wrapper functions for downloading various datasets and corpora\n",
        "  - [natural language toolkit (nltk)](https://www.nltk.org/): a nice library with useful tools for working with text data\n",
        "  - [hypertools](hypertools.readthedocs.io/): a library with a clean API that wraps some useful scikit-learn and nltk functions; also contains tools for visualizing and manipulating high-dimensional data (like text embedding vectors!)"
      ]
    },
    {
      "cell_type": "markdown",
      "metadata": {
        "id": "EAsyNFPk-qET"
      },
      "source": [
        "# Library imports (and installs)\n",
        "\n",
        "Run the next cell first..."
      ]
    },
    {
      "cell_type": "code",
      "metadata": {
        "id": "HU1H4uHYsXLB",
        "colab": {
          "base_uri": "https://localhost:8080/"
        },
        "outputId": "8ace4e24-ee97-4988-ffb4-f1a11a2a9819"
      },
      "source": [
        "# Library imports-- take note of these aliases!\n",
        "import string\n",
        "import numpy as np\n",
        "import pandas as pd\n",
        "import sklearn as skl\n",
        "import scipy as sp\n",
        "import scipy.signal as signal\n",
        "import tensorflow as tf\n",
        "import matplotlib as mpl\n",
        "import seaborn as sns\n",
        "import gensim as gs\n",
        "import nltk\n",
        "nltk.download('punkt')\n",
        "nltk.download('wordnet')\n",
        "nltk.download('averaged_perceptron_tagger')\n",
        "nltk.download('tagsets')\n",
        "nltk.download('stopwords')\n",
        "\n",
        "try:\n",
        "  import hypertools as hyp\n",
        "except ModuleNotFoundError:\n",
        "  !pip install --quiet git+https://github.com/ContextLab/hypertools.git\n",
        "  import hypertools as hyp\n",
        "\n",
        "try:\n",
        "  from num2words import num2words\n",
        "except ModuleNotFoundError:\n",
        "  !pip install --quiet num2words\n",
        "  from num2words import num2words"
      ],
      "execution_count": 287,
      "outputs": [
        {
          "output_type": "stream",
          "text": [
            "[nltk_data] Downloading package punkt to /root/nltk_data...\n",
            "[nltk_data]   Package punkt is already up-to-date!\n",
            "[nltk_data] Downloading package wordnet to /root/nltk_data...\n",
            "[nltk_data]   Package wordnet is already up-to-date!\n",
            "[nltk_data] Downloading package averaged_perceptron_tagger to\n",
            "[nltk_data]     /root/nltk_data...\n",
            "[nltk_data]   Package averaged_perceptron_tagger is already up-to-\n",
            "[nltk_data]       date!\n",
            "[nltk_data] Downloading package tagsets to /root/nltk_data...\n",
            "[nltk_data]   Package tagsets is already up-to-date!\n",
            "[nltk_data] Downloading package stopwords to /root/nltk_data...\n",
            "[nltk_data]   Package stopwords is already up-to-date!\n"
          ],
          "name": "stdout"
        }
      ]
    },
    {
      "cell_type": "markdown",
      "metadata": {
        "id": "ou0TkS-1mtDz"
      },
      "source": [
        "# Load the datasets and wrangle them into convenient formats\n",
        "\n",
        "You don't need to fill in any code in the cells below that loads and wrangles the dataset, but you should make sure that you understand the code and how the dataset is formatted."
      ]
    },
    {
      "cell_type": "markdown",
      "metadata": {
        "id": "EBCVjPZjnYM4"
      },
      "source": [
        "## IMDB reviews\n",
        "\n",
        "The IMDB reviews dataset is organized into a [tar file](https://en.wikipedia.org/wiki/Tar_(computing)) with the following structure (non-essential files and folders are omitted):\n",
        "\n",
        "```\n",
        "aclimdb:\n",
        "├── test:\n",
        "│   ├── neg\n",
        "|   ├── urls_neg.txt\n",
        "│   ├── pos\n",
        "│   └── urls_pos.txt\n",
        "└── train\n",
        "    ├── neg\n",
        "    ├── urls_neg.txt\n",
        "    ├── pos\n",
        "    └── urls_pos.txt\n",
        "```\n",
        "\n",
        "We'll be ignoring the `test` and `train` designations for this assignment (we'll create our own later; for now we'll just combine everything a merged testing and training dataset).  The `neg` and `pos` folders contain text files for each review.  Each review's text file is named using the scheme `<MOVIE_ID>_<REVIEW_ID>`, where `<MOVIE_ID>` is a non-negative integer corresponding to a unique identifier for the movie, and where `<REVIEW_ID>` is a non-negative integer corresponding to a unique identifier for each review of that movie.\n",
        "\n",
        "The `urls_neg.txt` and `urls_pos.txt` files contain IMDB URLs for each negatively and positively reviewed movie within each subset of the data.  The URLs are listed in order of the `<MOVIE_ID>s` reflected in the reviews' text files.  Note that a given `<MOVIE_ID>` can appear in the sets of both the negative *and* positive reviews if it receives at least one negative and one positive review."
      ]
    },
    {
      "cell_type": "code",
      "metadata": {
        "id": "Oj-evn3xvKfo"
      },
      "source": [
        "import os\n",
        "import tarfile\n",
        "import urllib.request as get\n",
        "from glob import glob as lsdir\n",
        "from bs4 import BeautifulSoup #super useful library for web scraping!\n",
        "\n",
        "# fetch and extract a tarfile stored remotely\n",
        "def extract_remote_tarfile(url):\n",
        "  stream = get.urlopen(url)\n",
        "  tf = tarfile.open(fileobj=stream, mode='r|gz')\n",
        "  tf.extractall()\n",
        "\n",
        "# load a text file and strip HTML tags\n",
        "def txt_loader(fname):\n",
        "  f = open(fname, 'r')\n",
        "  html = f.read()\n",
        "  f.close()\n",
        "\n",
        "  soup = BeautifulSoup(html)\n",
        "  return soup.get_text()"
      ],
      "execution_count": 3,
      "outputs": []
    },
    {
      "cell_type": "code",
      "metadata": {
        "id": "xEOP3yyNvS8h"
      },
      "source": [
        "# fetch and extact the IMDB dataset.\n",
        "# This creates a new folder, aslImdb, under the current working directory.\n",
        "\n",
        "imdb_url = 'http://ai.stanford.edu/~amaas/data/sentiment/aclImdb_v1.tar.gz'\n",
        "extract_remote_tarfile(imdb_url)\n",
        "imdb_root = 'aclImdb'"
      ],
      "execution_count": 4,
      "outputs": []
    },
    {
      "cell_type": "code",
      "metadata": {
        "id": "KmzLk3n8l0Lg"
      },
      "source": [
        "# organize the IMDB dataset\n",
        "def load_imdb_dir(root, labels):\n",
        "  parse_movie_id = lambda f: int(os.path.split(f)[1].split('_')[0])\n",
        "  parse_review_id = lambda f: int(os.path.split(f)[1].split('_')[1][:-4])\n",
        "  parse_imdb_id = lambda url: url.split('/')[-1]\n",
        "\n",
        "  data = {'review': [], 'url': [], 'rating': [], 'review ID': [], 'IMDB ID': [], 'file': []}\n",
        "\n",
        "  for label in labels:\n",
        "    #text of reviews\n",
        "    review_fnames = lsdir(os.path.join(root, label, '*.txt'))\n",
        "    data['review'].extend([txt_loader(r) for r in review_fnames])\n",
        "    data['file'].extend(review_fnames)\n",
        "\n",
        "    #ratings (label)\n",
        "    data['rating'].extend([label] * len(review_fnames))\n",
        "\n",
        "    #movie ID and review ID\n",
        "    movie_ids = [parse_movie_id(r) for r in review_fnames]\n",
        "    data['review ID'].extend([parse_review_id(r) for r in review_fnames])\n",
        "\n",
        "    #add urls\n",
        "    url_key = txt_loader(os.path.join(root, f'urls_{label}.txt')).split('\\n')\n",
        "    urls = [url_key[i][:-len('/usercomments')] for i in movie_ids]\n",
        "    data['url'].extend(urls)\n",
        "\n",
        "    #IMDB ID\n",
        "    data['IMDB ID'].extend([parse_imdb_id(u) for u in urls])\n",
        "  \n",
        "  df = pd.DataFrame.from_dict(data)\n",
        "  df.set_index(['IMDB ID', 'review ID'], inplace=True)\n",
        "  return df"
      ],
      "execution_count": 5,
      "outputs": []
    },
    {
      "cell_type": "code",
      "metadata": {
        "id": "KLDpJ5OZrsiz"
      },
      "source": [
        "# load and organize the IMDB dataset (and remove train/text designations)\n",
        "training_data = load_imdb_dir(os.path.join('aclImdb', 'train'), labels=['pos', 'neg'])\n",
        "test_data = load_imdb_dir(os.path.join('aclImdb', 'test'), labels=['pos', 'neg'])\n",
        "imdb_data = pd.concat([training_data, test_data])"
      ],
      "execution_count": 6,
      "outputs": []
    },
    {
      "cell_type": "markdown",
      "metadata": {
        "id": "Z25l-Tkq6kLx"
      },
      "source": [
        "Now let's take a look at the organized dataset-- our DataFrame is indexed by each film's IMDB identifier (`IMDB ID`) and review ID (`review ID`)."
      ]
    },
    {
      "cell_type": "code",
      "metadata": {
        "colab": {
          "base_uri": "https://localhost:8080/",
          "height": 394
        },
        "id": "rs0ALgpnvr7n",
        "outputId": "1747af5a-d87c-4847-d8eb-bc091cb53a8d"
      },
      "source": [
        "imdb_data.head(10)"
      ],
      "execution_count": 7,
      "outputs": [
        {
          "output_type": "execute_result",
          "data": {
            "text/html": [
              "<div>\n",
              "<style scoped>\n",
              "    .dataframe tbody tr th:only-of-type {\n",
              "        vertical-align: middle;\n",
              "    }\n",
              "\n",
              "    .dataframe tbody tr th {\n",
              "        vertical-align: top;\n",
              "    }\n",
              "\n",
              "    .dataframe thead th {\n",
              "        text-align: right;\n",
              "    }\n",
              "</style>\n",
              "<table border=\"1\" class=\"dataframe\">\n",
              "  <thead>\n",
              "    <tr style=\"text-align: right;\">\n",
              "      <th></th>\n",
              "      <th></th>\n",
              "      <th>review</th>\n",
              "      <th>url</th>\n",
              "      <th>rating</th>\n",
              "      <th>file</th>\n",
              "    </tr>\n",
              "    <tr>\n",
              "      <th>IMDB ID</th>\n",
              "      <th>review ID</th>\n",
              "      <th></th>\n",
              "      <th></th>\n",
              "      <th></th>\n",
              "      <th></th>\n",
              "    </tr>\n",
              "  </thead>\n",
              "  <tbody>\n",
              "    <tr>\n",
              "      <th>tt0486655</th>\n",
              "      <th>9</th>\n",
              "      <td>I went to a small advance screening of this mo...</td>\n",
              "      <td>http://www.imdb.com/title/tt0486655</td>\n",
              "      <td>pos</td>\n",
              "      <td>aclImdb/train/pos/635_9.txt</td>\n",
              "    </tr>\n",
              "    <tr>\n",
              "      <th>tt0040871</th>\n",
              "      <th>10</th>\n",
              "      <td>This a Casper the Friendly Ghost short from my...</td>\n",
              "      <td>http://www.imdb.com/title/tt0040871</td>\n",
              "      <td>pos</td>\n",
              "      <td>aclImdb/train/pos/2430_10.txt</td>\n",
              "    </tr>\n",
              "    <tr>\n",
              "      <th>tt0248928</th>\n",
              "      <th>9</th>\n",
              "      <td>Excellent movie, a realistic picture of contem...</td>\n",
              "      <td>http://www.imdb.com/title/tt0248928</td>\n",
              "      <td>pos</td>\n",
              "      <td>aclImdb/train/pos/3235_9.txt</td>\n",
              "    </tr>\n",
              "    <tr>\n",
              "      <th>tt0174360</th>\n",
              "      <th>8</th>\n",
              "      <td>A meltdown at a nuclear power plant causes a m...</td>\n",
              "      <td>http://www.imdb.com/title/tt0174360</td>\n",
              "      <td>pos</td>\n",
              "      <td>aclImdb/train/pos/5768_8.txt</td>\n",
              "    </tr>\n",
              "    <tr>\n",
              "      <th>tt0239921</th>\n",
              "      <th>9</th>\n",
              "      <td>I saw this film when I was a young child on te...</td>\n",
              "      <td>http://www.imdb.com/title/tt0239921</td>\n",
              "      <td>pos</td>\n",
              "      <td>aclImdb/train/pos/8973_9.txt</td>\n",
              "    </tr>\n",
              "    <tr>\n",
              "      <th>tt0228979</th>\n",
              "      <th>10</th>\n",
              "      <td>Very Slight Spoiler This movie (despite being ...</td>\n",
              "      <td>http://www.imdb.com/title/tt0228979</td>\n",
              "      <td>pos</td>\n",
              "      <td>aclImdb/train/pos/3472_10.txt</td>\n",
              "    </tr>\n",
              "    <tr>\n",
              "      <th>tt0485601</th>\n",
              "      <th>10</th>\n",
              "      <td>First animated feature film from Ireland is al...</td>\n",
              "      <td>http://www.imdb.com/title/tt0485601</td>\n",
              "      <td>pos</td>\n",
              "      <td>aclImdb/train/pos/11658_10.txt</td>\n",
              "    </tr>\n",
              "    <tr>\n",
              "      <th>tt0382330</th>\n",
              "      <th>9</th>\n",
              "      <td>This film, recently voted as an audience favor...</td>\n",
              "      <td>http://www.imdb.com/title/tt0382330</td>\n",
              "      <td>pos</td>\n",
              "      <td>aclImdb/train/pos/6465_9.txt</td>\n",
              "    </tr>\n",
              "    <tr>\n",
              "      <th>tt0114057</th>\n",
              "      <th>10</th>\n",
              "      <td>Students often ask me why I choose this versio...</td>\n",
              "      <td>http://www.imdb.com/title/tt0114057</td>\n",
              "      <td>pos</td>\n",
              "      <td>aclImdb/train/pos/6075_10.txt</td>\n",
              "    </tr>\n",
              "    <tr>\n",
              "      <th>tt0210741</th>\n",
              "      <th>10</th>\n",
              "      <td>I was totally impressed by Shelley Adrienne's ...</td>\n",
              "      <td>http://www.imdb.com/title/tt0210741</td>\n",
              "      <td>pos</td>\n",
              "      <td>aclImdb/train/pos/11063_10.txt</td>\n",
              "    </tr>\n",
              "  </tbody>\n",
              "</table>\n",
              "</div>"
            ],
            "text/plain": [
              "                                                                review  ...                            file\n",
              "IMDB ID   review ID                                                     ...                                \n",
              "tt0486655 9          I went to a small advance screening of this mo...  ...     aclImdb/train/pos/635_9.txt\n",
              "tt0040871 10         This a Casper the Friendly Ghost short from my...  ...   aclImdb/train/pos/2430_10.txt\n",
              "tt0248928 9          Excellent movie, a realistic picture of contem...  ...    aclImdb/train/pos/3235_9.txt\n",
              "tt0174360 8          A meltdown at a nuclear power plant causes a m...  ...    aclImdb/train/pos/5768_8.txt\n",
              "tt0239921 9          I saw this film when I was a young child on te...  ...    aclImdb/train/pos/8973_9.txt\n",
              "tt0228979 10         Very Slight Spoiler This movie (despite being ...  ...   aclImdb/train/pos/3472_10.txt\n",
              "tt0485601 10         First animated feature film from Ireland is al...  ...  aclImdb/train/pos/11658_10.txt\n",
              "tt0382330 9          This film, recently voted as an audience favor...  ...    aclImdb/train/pos/6465_9.txt\n",
              "tt0114057 10         Students often ask me why I choose this versio...  ...   aclImdb/train/pos/6075_10.txt\n",
              "tt0210741 10         I was totally impressed by Shelley Adrienne's ...  ...  aclImdb/train/pos/11063_10.txt\n",
              "\n",
              "[10 rows x 4 columns]"
            ]
          },
          "metadata": {
            "tags": []
          },
          "execution_count": 7
        }
      ]
    },
    {
      "cell_type": "markdown",
      "metadata": {
        "id": "6TnzGAoK7bnY"
      },
      "source": [
        "We can also view the text of a sample review (we'll use the `pprint` library to deal with text wrapping so that the review is formatted in a readable way):"
      ]
    },
    {
      "cell_type": "code",
      "metadata": {
        "colab": {
          "base_uri": "https://localhost:8080/"
        },
        "id": "cefnE78j7l6Q",
        "outputId": "44b5ba0d-19c5-42e6-eb08-82c07e374058"
      },
      "source": [
        "from pprint import PrettyPrinter\n",
        "\n",
        "random_review = np.random.randint(imdb_data.shape[0])\n",
        "pp = PrettyPrinter()\n",
        "pp.pprint(imdb_data.iloc[random_review]['review'])"
      ],
      "execution_count": 8,
      "outputs": [
        {
          "output_type": "stream",
          "text": [
            "('For the record, this film is intriguing but its hardly original. Back in '\n",
            " '1998 a movie starring Talia Shire called The Landlady had almost the exact '\n",
            " 'same plot but with younger characters.The story is Amanda Lear has had a bad '\n",
            " \"life, abusive father, horny doctor, mental homes, etc. She's finally \"\n",
            " 'released from the happy home under the guidance of her perverted '\n",
            " 'doctor...who she anally abuses and kills the poor guy. (now THAT was '\n",
            " 'original) The doctor had financed a mansion for her before she killed him '\n",
            " 'and buried the sucker in the backyard. After moving in she falls in love '\n",
            " 'with a stud named Richard, who just happens to be married to a blues singer. '\n",
            " \"If you've seen The Landlady you know the rest, she kills or tries to kill \"\n",
            " 'anyone that gets in between her and Richard (including a roadie).Much of the '\n",
            " \"idea's came from the previous movie, same idiot sidekick that sticks his \"\n",
            " 'nose in, same spying on the guy with a bowl of popcorn, same flying a '\n",
            " 'bodypress. It did have some original material, the beer bottle thing was '\n",
            " \"brutal. The highlight of the movie was Amanda's beautiful breasts in the \"\n",
            " 'hot-top scene. Somewhat of a ripoff but not a total waste of time.4 out of '\n",
            " '10')\n"
          ],
          "name": "stdout"
        }
      ]
    },
    {
      "cell_type": "markdown",
      "metadata": {
        "id": "Q_yieCB8_hfJ"
      },
      "source": [
        "# What's the *goal* of natural language processing?\n",
        "\n",
        "The fundamental goal of NLP approaches to analyzing text is to use heuristics, data processing algorithms, and models to extract or characterize the conceptual content of text data.\n",
        "\n",
        "In practice, this can mean many things.  For the purposes of today's exercise, we'll \"characterize the conceptual content\" by using [text embedding models](https://en.wikipedia.org/wiki/Word_embedding).  The idea is to turn a *document* (i.e., some text) into a *feature vector* (i.e., a sequence of numbers).  Ideally, the feature vectors for documents that are conceptually related will be similar to each other (e.g., nearby in Euclidean distance, correlated, etc.).  In other words, text embedding models define a [geometric space](https://en.wikipedia.org/wiki/Space) such that each point in the space corresponds to some concept, and nearby points correspond to similar concepts.\n",
        "\n",
        "There are *many* other interesting and useful approaches to natural language processing that we will not cover, including (but not limited to):\n",
        "- Generating [parse trees](https://en.wikipedia.org/wiki/Parse_tree)\n",
        "- [Sentiment analysis](https://en.wikipedia.org/wiki/Sentiment_analysis)\n",
        "- [Automatic summarization](https://en.wikipedia.org/wiki/Automatic_summarization)\n",
        "- [Semantic search](https://en.wikipedia.org/wiki/Semantic_search)"
      ]
    },
    {
      "cell_type": "markdown",
      "metadata": {
        "id": "TtjhEyf5_fcO"
      },
      "source": [
        "# Preprocessing\n",
        "\n",
        "Models vary substantially in how well they're able to handle \"raw\" (unprocessed) data.  In general, though, most models benefit from some basic preprocessing steps.  A detailed overview of text preprocessing in the context of topic modeling (one type of word embedding model) is provided in Section 1.2.2 of the excellent book chapter, [Care and Feeding of Topic Models](https://home.cs.colorado.edu/~jbg/docs/2014_book_chapter_care_and_feeding.pdf).  It's worth reading the full chapter if you want to dig deeper into text embedding models.\n",
        "\n",
        "The fundamental goals of preprocessing text data are the same as when we preprocess other types of data.  For example:\n",
        "- We want to remove formatting strangeness (e.g., data corruption, strange characters, HTML tags, perhaps punctuation, spelling errors, etc.) that could trip us up when we apply pattern matching\n",
        "- We want to remove the differences (between words, observations, documents, etc.) that don't carry meaning we care about while preserving differences that we do care about\n",
        "\n",
        "Unfortunately, there are no universal rules in text preprocessing.  However, it's usually useful to take a few basic steps to \"clean up\" your raw text data before running it through text embedding models. In a \"real\" application, it'd be useful to do some careful analyses of how each preprocessing step affects your results and/or subsequent steps of your analysis pipeline.  However, here our main goal is to get you up and running quickly, so we'll skip most of that pesky \"due diligence\" stuff.\n",
        "\n",
        "Next, we'll use the NLTK library to implement two basic preprocessing steps:\n",
        "1. [Lemmatization](https://en.wikipedia.org/wiki/Lemmatisation): equate all inflected verbs, pluralized nouns, etc. by turning different \"forms\" of the same word into text with the same letters.  For example, \"walk\", \"walking\", \"walks\", and \"walked\" should all be converted into the base form of the verb (\"walk\").\n",
        "2. [Stop word](https://en.wikipedia.org/wiki/Stop_word) removal: stop words are words that are \"devoid of semantic meaning\" such as \"and\", \"or\", \"the\", \"but\", and so on.  Although these words are often grammatically useful, they can confuse many text embedding models.\n",
        "\n",
        "We'll also implement a third preprocessing step to:\n",
        "3. Remove all punctuation, and to spell out all numbers."
      ]
    },
    {
      "cell_type": "code",
      "metadata": {
        "id": "VyaAO90rdX8N"
      },
      "source": [
        "#decorator that extends a function to apply either to a single value\n",
        "#(e.g., a string), or to each element in a list\n",
        "def list_generalizer(f):\n",
        "  def wrapped(*args, **kwargs):\n",
        "    if type(args[0]) in [np.array, np.ndarray, list]:\n",
        "      return [f(*[a, *args[1:]], **kwargs) for a in args[0]]\n",
        "    \n",
        "    return f(*args, **kwargs)\n",
        "  \n",
        "  return wrapped"
      ],
      "execution_count": 55,
      "outputs": []
    },
    {
      "cell_type": "code",
      "metadata": {
        "id": "Hr7hflkO9HP-"
      },
      "source": [
        "@list_generalizer\n",
        "def lemmatize(text):\n",
        "  def tag_to_pos(tag):\n",
        "    x = {'n': ['NN', 'NNP', 'NNPS', 'NNS'],        #noun\n",
        "         'r': ['RB', 'RBR', 'RBS'],                #adverb\n",
        "         'v': ['VBD', 'VBG', 'VBN', 'VBP', 'VBZ'], #verb\n",
        "         'a': ['JJ', 'JJR', 'JJS']}                #adjective\n",
        "    \n",
        "    for key, vals in x.items():\n",
        "      if tag in vals:\n",
        "        return key\n",
        "    return 'n' #default: treat as \"noun\"\n",
        "\n",
        "  lemmatizer = nltk.stem.WordNetLemmatizer()\n",
        "  words = nltk.word_tokenize(text)\n",
        "  tagged_words = nltk.pos_tag(words)\n",
        "\n",
        "  return ' '.join([lemmatizer.lemmatize(w.lower(), pos=tag_to_pos(p)) for w, p in tagged_words])"
      ],
      "execution_count": 56,
      "outputs": []
    },
    {
      "cell_type": "code",
      "metadata": {
        "colab": {
          "base_uri": "https://localhost:8080/"
        },
        "id": "_GJHyKfxEPaZ",
        "outputId": "519ab001-a8ae-413b-ecf4-0e24f50055c5"
      },
      "source": [
        "#example\n",
        "pp.pprint(lemmatize(imdb_data.iloc[random_review]['review']))"
      ],
      "execution_count": 59,
      "outputs": [
        {
          "output_type": "stream",
          "text": [
            "('for the record , this film be intrigue but it hardly original . back in 1998 '\n",
            " 'a movie star talia shire call the landlady have almost the exact same plot '\n",
            " 'but with young characters.the story be amanda lear have have a bad life , '\n",
            " \"abusive father , horny doctor , mental home , etc . she 's finally release \"\n",
            " 'from the happy home under the guidance of her perverted doctor ... who she '\n",
            " 'anally abuse and kill the poor guy . ( now that be original ) the doctor '\n",
            " 'have finance a mansion for her before she kill him and bury the sucker in '\n",
            " 'the backyard . after move in she fall in love with a stud name richard , who '\n",
            " \"just happen to be marry to a blue singer . if you 've see the landlady you \"\n",
            " 'know the rest , she kill or try to kill anyone that get in between her and '\n",
            " \"richard ( include a roadie ) .much of the idea 's come from the previous \"\n",
            " 'movie , same idiot sidekick that stick his nose in , same spy on the guy '\n",
            " 'with a bowl of popcorn , same fly a bodypress . it do have some original '\n",
            " 'material , the beer bottle thing be brutal . the highlight of the movie be '\n",
            " \"amanda 's beautiful breast in the hot-top scene . somewhat of a ripoff but \"\n",
            " 'not a total waste of time.4 out of 10')\n"
          ],
          "name": "stdout"
        }
      ]
    },
    {
      "cell_type": "code",
      "metadata": {
        "id": "__9vanF7E_60"
      },
      "source": [
        "@list_generalizer\n",
        "def filter_stopwords(text, language='english'):  \n",
        "  words = nltk.word_tokenize(text)\n",
        "  return ' '.join(w.lower() for w in words if w.lower() not in nltk.corpus.stopwords.words(language))"
      ],
      "execution_count": 60,
      "outputs": []
    },
    {
      "cell_type": "code",
      "metadata": {
        "colab": {
          "base_uri": "https://localhost:8080/"
        },
        "id": "Wrb-AXzSFfCE",
        "outputId": "a0c9d23a-ebe5-4936-f66f-7f2bc6f521d9"
      },
      "source": [
        "#example\n",
        "pp.pprint(filter_stopwords(imdb_data.iloc[random_review]['review']))"
      ],
      "execution_count": 61,
      "outputs": [
        {
          "output_type": "stream",
          "text": [
            "('record , film intriguing hardly original . back 1998 movie starring talia '\n",
            " 'shire called landlady almost exact plot younger characters.the story amanda '\n",
            " \"lear bad life , abusive father , horny doctor , mental homes , etc . 's \"\n",
            " 'finally released happy home guidance perverted doctor ... anally abuses '\n",
            " 'kills poor guy . ( original ) doctor financed mansion killed buried sucker '\n",
            " 'backyard . moving falls love stud named richard , happens married blues '\n",
            " \"singer . 've seen landlady know rest , kills tries kill anyone gets richard \"\n",
            " \"( including roadie ) .much idea 's came previous movie , idiot sidekick \"\n",
            " 'sticks nose , spying guy bowl popcorn , flying bodypress . original material '\n",
            " \", beer bottle thing brutal . highlight movie amanda 's beautiful breasts \"\n",
            " 'hot-top scene . somewhat ripoff total waste time.4 10')\n"
          ],
          "name": "stdout"
        }
      ]
    },
    {
      "cell_type": "code",
      "metadata": {
        "id": "3E4IcJiqdLI8"
      },
      "source": [
        "@list_generalizer\n",
        "def standardize(text):  \n",
        "  words = nltk.word_tokenize(text)\n",
        "\n",
        "  #lowercase and remove punctuation\n",
        "  words = [w.lower() for w in words if w not in string.punctuation]\n",
        "\n",
        "  #convert numbers to text\n",
        "  x = []\n",
        "  for w in words:\n",
        "    try:\n",
        "      x.append(num2words(w))\n",
        "    except:\n",
        "      x.append(w)\n",
        "  \n",
        "  return ' '.join(x)"
      ],
      "execution_count": 62,
      "outputs": []
    },
    {
      "cell_type": "code",
      "metadata": {
        "colab": {
          "base_uri": "https://localhost:8080/"
        },
        "id": "RZAWYJ6IfjQ6",
        "outputId": "60a7a450-e174-4405-a592-a93bb10a124d"
      },
      "source": [
        "pp.pprint(standardize(imdb_data.iloc[random_review]['review']))"
      ],
      "execution_count": 63,
      "outputs": [
        {
          "output_type": "stream",
          "text": [
            "('for the record this film is intriguing but its hardly original back in one '\n",
            " 'thousand, nine hundred and ninety-eight a movie starring talia shire called '\n",
            " 'the landlady had almost the exact same plot but with younger characters.the '\n",
            " 'story is amanda lear has had a bad life abusive father horny doctor mental '\n",
            " \"homes etc she 's finally released from the happy home under the guidance of \"\n",
            " 'her perverted doctor ... who she anally abuses and kills the poor guy now '\n",
            " 'that was original the doctor had financed a mansion for her before she '\n",
            " 'killed him and buried the sucker in the backyard after moving in she falls '\n",
            " 'in love with a stud named richard who just happens to be married to a blues '\n",
            " \"singer if you 've seen the landlady you know the rest she kills or tries to \"\n",
            " 'kill anyone that gets in between her and richard including a roadie .much of '\n",
            " \"the idea 's came from the previous movie same idiot sidekick that sticks his \"\n",
            " 'nose in same spying on the guy with a bowl of popcorn same flying a '\n",
            " 'bodypress it did have some original material the beer bottle thing was '\n",
            " \"brutal the highlight of the movie was amanda 's beautiful breasts in the \"\n",
            " 'hot-top scene somewhat of a ripoff but not a total waste of time.4 out of '\n",
            " 'ten')\n"
          ],
          "name": "stdout"
        }
      ]
    },
    {
      "cell_type": "markdown",
      "metadata": {
        "id": "BrvtqAlYF2-b"
      },
      "source": [
        "# Embedding text\n",
        "\n",
        "To help us organize our code, we'll write a wrapper function that takes in raw text and:\n",
        "  - Applies a list of specified preprocessing steps (i.e., a list of functions)\n",
        "  - Fits a model to the preprocessed text (if needed) using a specified function\n",
        "  - Optionally applies a second set of functions to the text\n",
        "  - Applies the fitted model to the newly processed text (i.e., \"transforms\" the text)\n",
        "  - Optionally applies a final set of functions to the text embeddings\n",
        "  - Returns the embeddings\n",
        "\n",
        "Later, we'll see why this is useful...\n"
      ]
    },
    {
      "cell_type": "code",
      "metadata": {
        "id": "ycv5k6C7HjC7"
      },
      "source": [
        "def embed(text, preprocess=[], fit=None, postprocess=[], transform=None, finalize=[]):\n",
        "  def apply(x, funcs):\n",
        "    for f in funcs:\n",
        "      x = f(x)\n",
        "    return x\n",
        "\n",
        "  #preprocessing\n",
        "  if len(preprocess) > 0:\n",
        "    print('pre-processing...')\n",
        "  text = apply(text, preprocess)\n",
        "  \n",
        "  #fit model  \n",
        "  if fit is not None: #fit function should return a model object\n",
        "    print('fitting model...')\n",
        "    model = fit(text)\n",
        "  else:\n",
        "    model = text\n",
        "  \n",
        "  #postprocessing\n",
        "  if len(postprocess) > 0:\n",
        "    print('post-processing...')\n",
        "  text = apply(text, postprocess)\n",
        "  \n",
        "  #transform (apply the model)  \n",
        "  if transform is not None: #apply function should return text embeddings, given the fitted model.  text may be a single string or a list/array of strings.\n",
        "    print('applying model...')\n",
        "    embeddings = transform(text, model)\n",
        "  else:\n",
        "    embeddings = model\n",
        "  \n",
        "  #finalize the embeddings\n",
        "  if len(finalize) > 0:\n",
        "    print('finalizing...')\n",
        "  embeddings = apply(embeddings, finalize)\n",
        "  \n",
        "  return embeddings"
      ],
      "execution_count": 215,
      "outputs": []
    },
    {
      "cell_type": "markdown",
      "metadata": {
        "id": "Cc9jFZC7JI28"
      },
      "source": [
        "# Example: Latent Dirichlet Allocation\n",
        "\n",
        "Topic modeling, or [Latent Dirichlet Allocation (LDA)](https://en.wikipedia.org/wiki/Latent_Dirichlet_allocation) describes each document as a mix of \"topics\" (themes).  Each topic is defined as a \"distribution over words in the vocabulary.\"  For example, if we define our vocabulary as the set of all $n$ English words, then a \"topic\" would comprise a set of $n$ non-negative weights that summed to 1.  A topic about neuroscience might place more weight on words like \"neuron\", \"nerve\", and \"brain\", whereas a topic about art might place more weight on words like \"artist\", \"paint\", and \"creative\".\n",
        "\n",
        "LDA takes as input a number-of-documents by number-of-words word count matrix (i.e., the number of times each word appears in each document) and returns a number-of-documents by $k$ embeddings matrix (where $k$ is the number of topics).\n",
        "\n",
        "We'll use the [scikit-learn implementation of LDA](https://scikit-learn.org/stable/modules/generated/sklearn.decomposition.LatentDirichletAllocation.html).  To do this, we'll need:\n",
        "- A list of preprocessing functions to lemmatize the document(s), remove stop words, remove punctuation, spell out numbers, and derive a word count matrix.  Most of these are already provided above; the only \"new\" function we'll need to write is one that will convert a set of documents (list of strings) to a word count matrix.\n",
        "- A function for fitting LDA to a set of documents' word counts and returning the fitted model.\n",
        "- A function for embedding text using a fitted model.\n"
      ]
    },
    {
      "cell_type": "code",
      "metadata": {
        "id": "IBupigJljv7V"
      },
      "source": [
        "#given a set of documents, get a word count matrix\n",
        "def wordcounts(docs, **kwargs):\n",
        "  cv = skl.feature_extraction.text.CountVectorizer(**kwargs)\n",
        "  return cv.fit(docs)"
      ],
      "execution_count": 216,
      "outputs": []
    },
    {
      "cell_type": "code",
      "metadata": {
        "id": "FJETBigHmOp_"
      },
      "source": [
        "#given a word counts matrix, return the fitted model\n",
        "def lda_fit(docs, k=25, learning_method='online', learning_offset=50, max_iter=5):\n",
        "  wc = wordcounts(docs, max_df=0.5, min_df=0.1, max_features=k*100)\n",
        "  model = skl.decomposition.LatentDirichletAllocation(n_components=k,\n",
        "                                                      learning_method=learning_method,\n",
        "                                                      learning_offset=learning_offset,\n",
        "                                                      max_iter=max_iter)\n",
        "  model.fit(wc.transform(docs))\n",
        "  return {'lda': model, 'countvec': wc}"
      ],
      "execution_count": 245,
      "outputs": []
    },
    {
      "cell_type": "code",
      "metadata": {
        "id": "_epITJbcnnOA"
      },
      "source": [
        "#given a fitted LDA model and some (new) documents, get the documents' topic vectors\n",
        "@list_generalizer\n",
        "def lda_transform(docs, model):\n",
        "  if type(docs) == str:\n",
        "    docs = [docs]\n",
        "  wc = model['countvec'].transform(docs)\n",
        "  return model['lda'].transform(wc)"
      ],
      "execution_count": 246,
      "outputs": []
    },
    {
      "cell_type": "markdown",
      "metadata": {
        "id": "f-SuNTXzpd3C"
      },
      "source": [
        "Now we can use the `embed` function to put everything together:"
      ]
    },
    {
      "cell_type": "code",
      "metadata": {
        "id": "51gBpFMxsuna"
      },
      "source": [
        "docs = imdb_data['review'].values\n",
        "inds = np.random.choice(len(docs), size=100, replace=False)\n",
        "mini_docs = docs[inds] #something that can run relatively quickly (good for testing)\n",
        "mini_ratings = imdb_data.iloc[inds]['rating'].values"
      ],
      "execution_count": 317,
      "outputs": []
    },
    {
      "cell_type": "code",
      "metadata": {
        "colab": {
          "base_uri": "https://localhost:8080/"
        },
        "id": "vGJxOc-PpjKb",
        "outputId": "811462e9-4ca2-48fb-a556-37d7fdb43d2a"
      },
      "source": [
        "topic_embeddings = embed(mini_docs, preprocess=[lemmatize, filter_stopwords, standardize], fit=lda_fit, transform=lda_transform)"
      ],
      "execution_count": 318,
      "outputs": [
        {
          "output_type": "stream",
          "text": [
            "pre-processing...\n",
            "fitting model...\n",
            "applying model...\n"
          ],
          "name": "stdout"
        }
      ]
    },
    {
      "cell_type": "code",
      "metadata": {
        "colab": {
          "base_uri": "https://localhost:8080/",
          "height": 285
        },
        "id": "U8UNZJ3Sv5yg",
        "outputId": "ea74fa0f-d6f9-41fd-f89a-408f726ad1d7"
      },
      "source": [
        "sns.heatmap(np.vstack(topic_embeddings))\n",
        "ax = mpl.pyplot.gca()\n",
        "ax.set_xlabel('Topic')\n",
        "ax.set_ylabel('Review');"
      ],
      "execution_count": 319,
      "outputs": [
        {
          "output_type": "display_data",
          "data": {
            "image/png": "[encoded data removed]",
            "text/plain": [
              "<Figure size 432x288 with 2 Axes>"
            ]
          },
          "metadata": {
            "tags": [],
            "needs_background": "light"
          }
        }
      ]
    },
    {
      "cell_type": "markdown",
      "metadata": {
        "id": "sPmQKiJt06eK"
      },
      "source": [
        "We can also use hypertools to color reviews by valence (positive or negative).  Here each dot corresponds to one review, and the colors reflect the associated ratings (**pos**itive  or **neg**ative)."
      ]
    },
    {
      "cell_type": "code",
      "metadata": {
        "colab": {
          "base_uri": "https://localhost:8080/",
          "height": 352
        },
        "id": "-1ESvLsr0_na",
        "outputId": "664176be-214c-4c6c-baa1-afa5d9f97380"
      },
      "source": [
        "hyp.plot(topic_embeddings, 'o', hue=mini_ratings, legend=np.unique(mini_ratings).tolist());"
      ],
      "execution_count": 320,
      "outputs": [
        {
          "output_type": "stream",
          "text": [
            "/usr/local/lib/python3.7/dist-packages/hypertools/plot/plot.py:509: VisibleDeprecationWarning: Creating an ndarray from ragged nested sequences (which is a list-or-tuple of lists-or-tuples-or ndarrays with different lengths or shapes) is deprecated. If you meant to do this, you must specify 'dtype=object' when creating the ndarray\n",
            "  kwargs[kwarg]=np.array(kwargs[kwarg])\n"
          ],
          "name": "stderr"
        },
        {
          "output_type": "display_data",
          "data": {
            "image/png": "[encoded data removed]",
            "text/plain": [
              "<Figure size 432x288 with 1 Axes>"
            ]
          },
          "metadata": {
            "tags": []
          }
        }
      ]
    },
    {
      "cell_type": "markdown",
      "metadata": {
        "id": "wAg5GLv-DtMF"
      },
      "source": [
        "## Topic *trajectories*\n",
        "\n",
        "The above analyses treat each review as a single document.  However, each review may also have a \"narrative flow\" whereby different parts of the review potentially reflect different topics.\n",
        "\n",
        "We can use the `postprocess` and `finalize` flags of the `embed` function to (a) turn each document into a *sequence* of documents (using sliding windows of $n$ words each) and (b) re-organize the embeddings of the windows as a number-of-windows by $k$ (number of topics) matrix.  In other words, each review's matrix will reflect how the conceptual content of the review changes over the course of the review.  This general approach was developed by [Heusser et al. (2021)](https://www.nature.com/articles/s41562-021-01051-6)."
      ]
    },
    {
      "cell_type": "code",
      "metadata": {
        "id": "Kr_aQCSLkaHf"
      },
      "source": [
        "#given a single string, return a list of sub-strings (of n words each)\n",
        "@list_generalizer\n",
        "def sliding_window(text, n=5):\n",
        "  words = nltk.word_tokenize(text)\n",
        "  windows = []\n",
        "  for i in range(len(words) - n):\n",
        "    windows.append(' '.join(words[i:(i + n)]))\n",
        "  return windows"
      ],
      "execution_count": 321,
      "outputs": []
    },
    {
      "cell_type": "code",
      "metadata": {
        "id": "NWDRCQXlHEc-"
      },
      "source": [
        "vstack = lambda x: [np.vstack(i) for i in x]\n",
        "\n",
        "def resample_and_smooth(data, n=250, wsize=51, order=3, min_val=0):\n",
        "  if type(data) == list:\n",
        "    return [resample_and_smooth(d, n=n, wsize=wsize, order=order, min_val=min_val) for d in data]\n",
        "  \n",
        "  data_resampled = np.zeros([n, data.shape[1]])\n",
        "  x = np.arange(data.shape[0])\n",
        "  xx = np.linspace(0, np.max(x), num=n)\n",
        "\n",
        "  for i in range(data.shape[1]):\n",
        "    data_resampled[:, i] = signal.savgol_filter(sp.interpolate.pchip(x, data[:, i])(xx), wsize, order)\n",
        "    data_resampled[:, i][data_resampled[:, i] < min_val] = min_val\n",
        "  return data_resampled"
      ],
      "execution_count": 322,
      "outputs": []
    },
    {
      "cell_type": "code",
      "metadata": {
        "colab": {
          "base_uri": "https://localhost:8080/"
        },
        "id": "2c9Lo2gQ0Rh-",
        "outputId": "feb31c68-bf1d-4efc-9f79-3b23c5e83a9b"
      },
      "source": [
        "dynamic_topic_embeddings = embed(mini_docs, preprocess=[lemmatize, filter_stopwords, standardize], fit=lda_fit, transform=lda_transform, postprocess=[sliding_window], finalize=[vstack, resample_and_smooth])"
      ],
      "execution_count": 323,
      "outputs": [
        {
          "output_type": "stream",
          "text": [
            "pre-processing...\n",
            "fitting model...\n",
            "post-processing...\n",
            "applying model...\n",
            "finalizing...\n"
          ],
          "name": "stdout"
        }
      ]
    },
    {
      "cell_type": "markdown",
      "metadata": {
        "id": "GguhZeG8FJUD"
      },
      "source": [
        "Let's take a look at the dynamic content of some sample reviews:"
      ]
    },
    {
      "cell_type": "code",
      "metadata": {
        "id": "L8KkpiyVFSxS"
      },
      "source": [
        "def plot_topic_trajectory(embeddings, *args, **kwargs):\n",
        "  scale = 5\n",
        "  fig = mpl.pyplot.figure(figsize=(2*scale, scale))\n",
        "\n",
        "  #heatmap\n",
        "  ax1 = fig.add_subplot(1, 2, 1)\n",
        "  mpl.pyplot.axes(ax1)  \n",
        "  sns.heatmap(embeddings)\n",
        "  ax1.set_xlabel('Topics')\n",
        "  ax1.set_xlabel('Time')\n",
        "\n",
        "  #trajectory\n",
        "  ax2 = fig.add_subplot(1, 2, 2, projection='3d')\n",
        "  hyp.plot(embeddings, ax=ax2, *args, **kwargs);\n",
        "\n",
        "  return fig, ax"
      ],
      "execution_count": 324,
      "outputs": []
    },
    {
      "cell_type": "code",
      "metadata": {
        "colab": {
          "base_uri": "https://localhost:8080/",
          "height": 369
        },
        "id": "oDccfFyhygE6",
        "outputId": "2331804f-3727-46cc-a6cc-81e2f5e024e2"
      },
      "source": [
        "plot_topic_trajectory(dynamic_topic_embeddings[0], 'k', title='Review 0 trajectory');"
      ],
      "execution_count": 325,
      "outputs": [
        {
          "output_type": "display_data",
          "data": {
            "image/png": "[encoded data removed]",
            "text/plain": [
              "<Figure size 720x360 with 3 Axes>"
            ]
          },
          "metadata": {
            "tags": [],
            "needs_background": "light"
          }
        }
      ]
    },
    {
      "cell_type": "code",
      "metadata": {
        "colab": {
          "base_uri": "https://localhost:8080/",
          "height": 369
        },
        "id": "SuhRc6qnhGu5",
        "outputId": "6af92999-f7ae-417c-c300-3445e2baa932"
      },
      "source": [
        "plot_topic_trajectory(dynamic_topic_embeddings[1], 'k', title='Review 1 trajectory');"
      ],
      "execution_count": 326,
      "outputs": [
        {
          "output_type": "display_data",
          "data": {
            "image/png": "[encoded data removed]",
            "text/plain": [
              "<Figure size 720x360 with 3 Axes>"
            ]
          },
          "metadata": {
            "tags": [],
            "needs_background": "light"
          }
        }
      ]
    },
    {
      "cell_type": "markdown",
      "metadata": {
        "id": "fsweptMAMHeC"
      },
      "source": [
        "At this point in our analysis pipeline, each movie review has been transformed into a geometric \"shape\" (a path through word embedding space) that reflects how its conceptual content changes over the course of the review.\n",
        "\n",
        "Now we can ask questions about how the shapes of different reviews reflect different properties of interest.  For example, controlling for the particular content of each review, do different reviews share particular structures?\n",
        "\n",
        "To test this, we'll use [hyperalignment](https://elifesciences.org/articles/56601) to rotate, reflect, scale, and translate the shapes of every review.  This effectively \"normalizes\" for the conceptual content of the different reviews, because it breaks the associations between specific dimensions and specific topics.  In other words, let's suppose that Review A discussus Topic 1, followed by Topic 2, followed by Topic 1 again.  And let's suppose that Review B discusses Topic 3, then Topic 4, and then Topic 3 again.  If we abstract away the topic labels, both of these reviews follow the same sort of \"back and forth\" structure.  More generally, reviews tend to follow more complicated paths involving blends of topics that change over time.\n",
        "\n",
        "We can use hypertools to hyperalign all of the trajectories, project them into a shared 3D space:\n",
        "\n"
      ]
    },
    {
      "cell_type": "code",
      "metadata": {
        "colab": {
          "base_uri": "https://localhost:8080/",
          "height": 297
        },
        "id": "IDPI_5ywhg9o",
        "outputId": "3ef9bd0f-0640-4cb6-9823-73d3b12ede1c"
      },
      "source": [
        "n_iter = 5\n",
        "\n",
        "aligned = hyp.reduce(dynamic_topic_embeddings, reduce='UMAP', ndims=3)\n",
        "for i in range(n_iter):\n",
        "  aligned = hyp.align(aligned, align='hyper')\n",
        "\n",
        "hyp.plot(aligned, reduce='UMAP', palette=sns.light_palette('seagreen'));"
      ],
      "execution_count": 352,
      "outputs": [
        {
          "output_type": "display_data",
          "data": {
            "image/png": "[encoded data removed]",
            "text/plain": [
              "<Figure size 432x288 with 1 Axes>"
            ]
          },
          "metadata": {
            "tags": []
          }
        }
      ]
    },
    {
      "cell_type": "markdown",
      "metadata": {
        "id": "iNKu5ACHRu8C"
      },
      "source": [
        "# Applying alternative text embedding models to the dataset\n",
        "\n",
        "You can \"swap out\" Latent Dirichlet Allocation for any other text embedding model by writing analogs of the `lda_fit` and `lda_transform` functions:\n",
        "- Your `fit` function should take in a set of documents (a list of strings) and return a fitted model.  The model can be of any datatype.  For pre-trained models, you just need to load in (or download) the model and then return it (e.g., you can potentially ignore the documents).\n",
        "- Your `transform` function should take in a (potentially new) set of documents (again, a list of strings) and the fitted model (returned by your `fit` function).  You should return the text embeddings of the documents as a number-of-documents by number-of-features numpy array.\n",
        "\n",
        "Some models you might find interesting include:\n",
        "- [word2vec](https://en.wikipedia.org/wiki/Word2vec): a model that attempts to preserve geometric relations between words.  For example, subtracting the embedding for \"man\" from that of \"king\" and then adding the embedding for \"woman\" results in a new embedding vector that is similar to the embedding for \"queen.\"  The [gensim](https://radimrehurek.com/gensim/models/word2vec.html) library includes an implementation of word2vec.\n",
        "- [universal sentence encoder (USE)](https://en.wikipedia.org/wiki/Sentence_embedding): a model that attempts to capture the local (sentence-level) contexts in which words are used. The [tensorflow](https://www.tensorflow.org/hub/tutorials/semantic_similarity_with_tf_hub_universal_encoder) library includes an implementation of USE.\n",
        "- [Bidirectional Transformers (BERT)](https://github.com/google-research/bert): a model that is first pre-trained on a large text corpus, but can be fine-tuned to a new (usually smaller) dataset.  The [tensorflow](https://github.com/google-research/bert) library includes an implementation of BERT.\n",
        "- [Generative Pre-trained Transformer 2 (GPT-2)](https://en.wikipedia.org/wiki/GPT-2): a huge pre-trained model that can be fine-tuned (like BERT) to a new dataset.  The [hugging face](https://huggingface.co/gpt2?text=A+long+time+ago%2C+) library contains an implementation of GPT-2.\n",
        "\n",
        "In general, [gensim](https://radimrehurek.com/gensim/), [tensorflow](https://www.tensorflow.org/), [pytorch](https://pytorch.org/), and [hugging face](https://github.com/huggingface/transformers) libraries collectively include most popular word embedding models."
      ]
    },
    {
      "cell_type": "markdown",
      "metadata": {
        "id": "JK4-Eg7mbtPc"
      },
      "source": [
        "# Follow-up ideas:\n",
        "- Try changing the sliding window width.  How do the results change and why?\n",
        "- Look at the word embeddings for a few of the above models.  How might you explore which aspects of the data different models are picking up on?  How might you compare how \"good\" different models are?\n",
        "- Try formulating some hypotheses about the data and test them using different text embedding models."
      ]
    }
  ]
}