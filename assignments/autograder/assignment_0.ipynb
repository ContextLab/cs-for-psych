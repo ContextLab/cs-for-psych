{
 "cells": [
  {
   "cell_type": "markdown",
   "metadata": {
    "colab_type": "text",
    "id": "view-in-github"
   },
   "source": [
    "<a href=\"https://colab.research.google.com/github/ContextLab/cs-for-psych/blob/master/assignment_0.ipynb\" target=\"_parent\"><img src=\"https://colab.research.google.com/assets/colab-badge.svg\" alt=\"Open In Colab\"/></a>"
   ]
  },
  {
   "cell_type": "markdown",
   "metadata": {
    "id": "aUbGoS8HjwiM"
   },
   "source": [
    "# Demo assignment\n",
    "\n",
    "This demo assignment is used for testing (and showcasing) the functionality of the autograder scripts."
   ]
  },
  {
   "cell_type": "code",
   "execution_count": null,
   "metadata": {
    "id": "pYUXIZvPjszp"
   },
   "outputs": [],
   "source": [
    "def say_hello():\n",
    "  ### BEGIN YOUR CODE\n",
    "  return 'hello'\n",
    "  ### END YOUR CODE"
   ]
  },
  {
   "cell_type": "code",
   "execution_count": null,
   "metadata": {
    "id": "SneHjrf-kAae"
   },
   "outputs": [],
   "source": [
    "def sum_1_n(n):\n",
    "  ### BEGIN YOUR CODE\n",
    "  if type(n) == list:\n",
    "    return [sum_1_n(x) for x in n]\n",
    "\n",
    "  if n < 1:\n",
    "    return 0\n",
    "  \n",
    "  x = 0\n",
    "  for i in range(1, n + 1):\n",
    "    x += i\n",
    "  return x\n",
    "  ### END YOUR CODE"
   ]
  },
  {
   "cell_type": "code",
   "execution_count": null,
   "metadata": {
    "id": "iA6GgV1ZkbwC"
   },
   "outputs": [],
   "source": [
    "def sum_1_n_no_checks(n):\n",
    "  ### BEGIN YOUR CODE\n",
    "  x = 0\n",
    "  for i in range(1, n + 1):\n",
    "    x += i\n",
    "  return x\n",
    "  ### END YOUR CODE"
   ]
  }
 ],
 "metadata": {
  "colab": {
   "authorship_tag": "ABX9TyM/HeoOmQoHKL/Vn4lglX1P",
   "collapsed_sections": [],
   "include_colab_link": true,
   "name": "Copy of assignment_0.ipynb",
   "provenance": []
  },
  "kernelspec": {
   "display_name": "Python 3",
   "language": "python",
   "name": "python3"
  },
  "language_info": {
   "codemirror_mode": {
    "name": "ipython",
    "version": 3
   },
   "file_extension": ".py",
   "mimetype": "text/x-python",
   "name": "python",
   "nbconvert_exporter": "python",
   "pygments_lexer": "ipython3",
   "version": "3.7.9"
  }
 },
 "nbformat": 4,
 "nbformat_minor": 1
}
