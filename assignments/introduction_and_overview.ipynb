{
  "nbformat": 4,
  "nbformat_minor": 0,
  "metadata": {
    "colab": {
      "name": "introduction_and_overview.ipynb",
      "provenance": [],
      "collapsed_sections": [],
      "include_colab_link": true
    },
    "kernelspec": {
      "name": "python3",
      "display_name": "Python 3"
    }
  },
  "cells": [
    {
      "cell_type": "markdown",
      "metadata": {
        "id": "view-in-github",
        "colab_type": "text"
      },
      "source": [
        "<a href=\"https://colab.research.google.com/github/ContextLab/cs-for-psych/blob/master/assignments/introduction_and_overview.ipynb\" target=\"_parent\"><img src=\"https://colab.research.google.com/assets/colab-badge.svg\" alt=\"Open In Colab\"/></a>"
      ]
    },
    {
      "cell_type": "markdown",
      "metadata": {
        "id": "yIWcMraIKoq_",
        "colab_type": "text"
      },
      "source": [
        "### Introduction and overview\n",
        "\n",
        "Welcome to [PSYC 32: Introduction to Programming for Psychological Scientists](https://github.com/ContextLab/cs-for-psych)!\n",
        "\n",
        "In this course we'll be using [Google Colaboratory](https://colab.research.google.com/) and [GitHub Classroom](https://classroom.github.com/) to learn how to:\n",
        "\n",
        "\n",
        "*   Write and understand computer programs written in Python\n",
        "*   Design and implement psychological experiments\n",
        "*   Carry out data analyses on real experimental data\n",
        "*   Build basic computational models of experimental data\n",
        "*   Generate compelling figures to display the results visually and help you understand what your data are telling you\n",
        "\n",
        "A full course syllabus is available [here](https://github.com/ContextLab/cs-for-psych/blob/master/PSYC_32_syllabus.pdf).\n",
        "\n"
      ]
    },
    {
      "cell_type": "markdown",
      "metadata": {
        "id": "X1JNxUREMZ_l",
        "colab_type": "text"
      },
      "source": [
        "# Learning objectives\n",
        "\n",
        "This notebook is intended to teach you:\n",
        "\n",
        "1.   How to use Jupyter (Colaboratory) notebooks\n",
        "2.   How to set up your Google Colaboratory and GitHub accounts"
      ]
    },
    {
      "cell_type": "markdown",
      "metadata": {
        "id": "yOi1Dd-cNHZu",
        "colab_type": "text"
      },
      "source": [
        "### How to use Jupyter (Colaboratory) notebooks\n",
        "\n",
        "The document you're viewing right now is a Jupyter notebook.  A Jupyter notebook is a file (extension: .ipynb, which stands for \"**i**nteractive **Py**thon **n**ote**b**ook).  The contents of Jupyter notebooks are stored as .json (JavaScript Object Notation) files.  It's not super important that you familiarize yourself with the nitty-gritties of the .json format at this point in the course, but we'll revisit it later when we start working with data.\n",
        "\n",
        "### What's a Jupyter notebook?\n",
        "For a more complete answer, check out [this video](https://youtu.be/CSkTJRNBTME).  The short answer is that a Jupyter notebook is an interactive tool that allows you to take notes, execute code, create figures, and easily share it all with other people.  Jupyter notebooks comprise a series of _cells_.  Each cell (looks like a rectangular block of text) in a notebook contains one of two basic categories of content:\n",
        "  1. **Markdown cells** (like the current cell) contain formatted text in the [Markdown text formatting language](https://www.markdowntutorial.com/).  You can use these cells kind of like the code underlying text you'd write in a word processor.  What you type is what eventually appears on the screen.  For the most part, text in Markdown cells gets \"rendered\" (i.e. drawn on the screen) just as you write it.  However, you can also specify various formatting tweaks, like creating _italicized_ or **bolded** text, etc.  [This tutorial](https://www.markdowntutorial.com/) provides a quick and gentle interactive introduction to Markdown.  You can create a new Markdown cell by pressing the \"+\" button in the toolbar and selecting \"Markdown\" from the dropdown list in the toolbar.\n",
        "  2. **Code cells** (like the next cell) contains computer code. A computer is like a fancy calculator; computer code is a set of instructions that tells the computer which things to do (and in which order).  You can create a new Code cell by pressing the \"+\" button in the toolbar and selecting \"Code\" from the dropdown list in the toolbar.\n",
        "  \n",
        "The text you type into a new notebook cell is a set of instructions that tell the notebook what to do when the cell is _run_ (i.e., transformed from a set of instructions into an executed set of actions).  To run a cell, hold the `shift` key and press `enter/return`.\n",
        "  - When you run a Markdown cell, the text is rendered with the formatting options you specify.  To see and/or edit the underlying code, simply double click on the rendered text.\n",
        "  - When you run a Code cell, the Python instructions you type in are run.  We'll explore what this means below.\n",
        "\n",
        "### Using Python like a calculator\n",
        "\n",
        "One way to think about Python is like a calculator.  For example, you can type in an equation, and when you \"run\" that line of code the answer is printed to the console window.  Play around with the examples below to explore (double click on code to edit it, and press `shift` + `return` to run it."
      ]
    },
    {
      "cell_type": "code",
      "metadata": {
        "id": "f6gFIBwOCv1n",
        "colab_type": "code",
        "outputId": "58694e68-a672-4b34-ca5c-fbf5d78b73f0",
        "colab": {
          "base_uri": "https://localhost:8080/",
          "height": 34
        }
      },
      "source": [
        "1 + 1"
      ],
      "execution_count": 0,
      "outputs": [
        {
          "output_type": "execute_result",
          "data": {
            "text/plain": [
              "2"
            ]
          },
          "metadata": {
            "tags": []
          },
          "execution_count": 2
        }
      ]
    },
    {
      "cell_type": "code",
      "metadata": {
        "id": "pZjbR4RtCxJz",
        "colab_type": "code",
        "colab": {
          "base_uri": "https://localhost:8080/",
          "height": 34
        },
        "outputId": "38ae9670-9859-45e9-f3d1-8f14fd9d93c3"
      },
      "source": [
        "3 * (4 + 1)"
      ],
      "execution_count": 1,
      "outputs": [
        {
          "output_type": "execute_result",
          "data": {
            "text/plain": [
              "15"
            ]
          },
          "metadata": {
            "tags": []
          },
          "execution_count": 1
        }
      ]
    },
    {
      "cell_type": "markdown",
      "metadata": {
        "id": "WQl7-gbyHb1r",
        "colab_type": "text"
      },
      "source": [
        "You can also do fancier stuff in Python, like generating plots.  Whereas basic math functions (addition, subtraction, multiplication, division, etc.) are included in the [Python standard library](https://docs.python.org/3/library/) (i.e., the base set of instructions that the Python language is built on), generating graphics and figures will require you to use additional [libraries](https://en.wikipedia.org/wiki/Python_(programming_language)#Libraries) (you can gain access to them using `import` statements).  We'll learn more about this later."
      ]
    },
    {
      "cell_type": "code",
      "metadata": {
        "id": "LbJWOsoBIQ_Z",
        "colab_type": "code",
        "colab": {
          "base_uri": "https://localhost:8080/",
          "height": 282
        },
        "outputId": "78f932a5-655d-4c28-ceed-7db8eb1fd29f"
      },
      "source": [
        "from matplotlib import pyplot as plt\n",
        "import numpy as np\n",
        "\n",
        "x = np.arange(0, 2*np.math.pi, 0.1)\n",
        "plt.plot(x, np.sin(x))"
      ],
      "execution_count": 20,
      "outputs": [
        {
          "output_type": "execute_result",
          "data": {
            "text/plain": [
              "[<matplotlib.lines.Line2D at 0x7f56379875c0>]"
            ]
          },
          "metadata": {
            "tags": []
          },
          "execution_count": 20
        },
        {
          "output_type": "display_data",
          "data": {
            "image/png": "[encoded data removed]",
            "text/plain": [
              "<Figure size 432x288 with 1 Axes>"
            ]
          },
          "metadata": {
            "tags": []
          }
        }
      ]
    },
    {
      "cell_type": "markdown",
      "metadata": {
        "id": "ZsRz5qBXC0mA",
        "colab_type": "text"
      },
      "source": [
        "Later on in the course we'll learn how to use `matplotlib` (a library for generating graphics and figures) and `numpy` a library for efficiently working with matrices and arrays.  For now don't worry about understanding the code above in detail.  You can still play around with the contents of each line and see how it changes the figure.  For example:\n",
        "\n",
        "\n",
        "1.   Change the `0` in `np.arange(0, 2*np.math.pi, 0.1)` to another number.  What part of the graph does this affect?\n",
        "2.   Change the `2*np.math.pi` in `np.arange(0, 2*np.math.pi, 0.1)` to another number.  What part of the graph does this affect?\n",
        "3.   Change the `0.1` in `np.arange(0, 2*np.math.pi, 0.1)` to another number.  What part of the graph does this affect?\n",
        "4.   Change the `np.sin(x)` to `np.cos(x)` in the line `plt.plot(x, np.sin(x))`.  What other functions are supported?\n",
        "5.   What do you think the `np.arange` function does?\n",
        "6.   What do you think the `plt.plot` function does?\n",
        "7.   Which aspects of the code *don't* you think you understand?  Practice articulating your questions by separating out what you think you understand from what you think you don't understand.  Turn your confusion into askable questions!\n"
      ]
    },
    {
      "cell_type": "markdown",
      "metadata": {
        "id": "3dm7OT9bUUca",
        "colab_type": "text"
      },
      "source": [
        "## How to set up your Google Colaboratory and GitHub accounts\n",
        "\n",
        "### Google Colaboratory\n",
        "\n",
        "Google Colaboratory is a system for writing and running code through a web browser.  Your files are stored on Google Drive, and code that you run is executed on a remote Google Cloud server.  To learn more about Google Colaboratory, check out [this document](https://colab.research.google.com/notebooks/welcome.ipynb#scrollTo=xitplqMNk_Hc).\n",
        "\n",
        "Google Colaboratory (including access to Google Cloud computers) is included as part of all Google accounts.  To gain access to this resource, you first need to sign up for a Google account (if you don't already have one).  Remember your username (email address) and password; you'll use it throughout the term and you'll rely on Colaboratory for most of your assignments.  You can sign up for a Google account [here](http://www.google.com/).  Once you've signed into your Google account, you can access Google Colaboratory [here](https://colab.research.google.com/).\n",
        "\n",
        "### GitHub\n",
        "\n",
        "We'll use GitHub to distribute and submit assignments.  We'll learn more about Git and GitHub (soon!) as we progress in the course.  At a high level, Git is a tool for saving and tracking different versions of your files, and GitHub is a server (computer that you can access remotely via the web) that stores your files.  For now you'll just need to set up an account-- you don't yet need to know what you're doing on GitHub or why (although if you want to learn more you can check out [this quick-start tutorial](https://www.codecademy.com/learn/learn-git)).\n",
        "\n",
        "For now, you just need to create a GitHub account and get yourself set up so that you are able to access and submit course assignments:\n",
        "\n",
        "- To create an account (if you don't already have one), go to [github.com](https://github.com/) and follow the \"sign up\" instructions.  Remember your username and password; you'll need it throughout the rest of the course."
      ]
    }
  ]
}