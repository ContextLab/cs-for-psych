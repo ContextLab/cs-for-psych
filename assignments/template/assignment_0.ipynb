{
  "nbformat": 4,
  "nbformat_minor": 0,
  "metadata": {
    "colab": {
      "name": "assignment_0.ipynb",
      "provenance": [],
      "collapsed_sections": [],
      "authorship_tag": "ABX9TyNSRUP+7+DesF9qdF1L9KRt",
      "include_colab_link": true
    },
    "kernelspec": {
      "name": "python3",
      "display_name": "Python 3"
    }
  },
  "cells": [
    {
      "cell_type": "markdown",
      "metadata": {
        "id": "view-in-github",
        "colab_type": "text"
      },
      "source": [
        "<a href=\"https://colab.research.google.com/github/ContextLab/cs-for-psych/blob/master/assignments/template/assignment_0.ipynb\" target=\"_parent\"><img src=\"https://colab.research.google.com/assets/colab-badge.svg\" alt=\"Open In Colab\"/></a>"
      ]
    },
    {
      "cell_type": "markdown",
      "metadata": {
        "id": "aUbGoS8HjwiM"
      },
      "source": [
        "# Demo assignment\n",
        "\n",
        "This demo assignment is used for testing (and showcasing) the functionality of the autograder scripts."
      ]
    },
    {
      "cell_type": "code",
      "metadata": {
        "id": "pYUXIZvPjszp"
      },
      "source": [
        "def say_hello():\n",
        "  ### BEGIN YOUR CODE\n",
        "  return 'hello'\n",
        "  ### END YOUR CODE"
      ],
      "execution_count": 1,
      "outputs": []
    },
    {
      "cell_type": "code",
      "metadata": {
        "id": "SneHjrf-kAae"
      },
      "source": [
        "def sum_1_n(n):\n",
        "  ### BEGIN YOUR CODE\n",
        "  if n < 1:\n",
        "    return 0\n",
        "  \n",
        "  x = 0\n",
        "  for i in range(1, n + 1):\n",
        "    x += i\n",
        "  return x\n",
        "  ### END YOUR CODE"
      ],
      "execution_count": 5,
      "outputs": []
    },
    {
      "cell_type": "code",
      "metadata": {
        "id": "iA6GgV1ZkbwC"
      },
      "source": [
        "def sum_1_n_no_checks(n):\n",
        "  ### BEGIN YOUR CODE\n",
        "  x = 0\n",
        "  for i in range(1, n + 1):\n",
        "    x += i\n",
        "  return x\n",
        "  ### END YOUR CODE"
      ],
      "execution_count": null,
      "outputs": []
    }
  ]
}